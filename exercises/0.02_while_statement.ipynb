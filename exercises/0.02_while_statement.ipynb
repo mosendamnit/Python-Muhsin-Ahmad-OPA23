{
 "cells": [
  {
   "cell_type": "markdown",
   "metadata": {},
   "source": [
    "#0. Count numbers (*)\n",
    "- Use a while statement to count from -10 to 10 with one increment.\n",
    "\n"
   ]
  },
  {
   "cell_type": "code",
   "execution_count": null,
   "metadata": {},
   "outputs": [],
   "source": [
    "counter = -10\n",
    "\n",
    "while counter <= 10:\n",
    "    print(counter , end=\" \")\n",
    "    counter +=1"
   ]
  },
  {
   "cell_type": "markdown",
   "metadata": {},
   "source": [
    "### 1.  Arithmetic sum (*)\n",
    "- Use a while statement to compute the following sums:\n",
    "- sum =  1+2+3+.....100\n",
    "- sum = 1 +3 + 5.... 99"
   ]
  },
  {
   "cell_type": "code",
   "execution_count": null,
   "metadata": {},
   "outputs": [],
   "source": [
    "sum = 0\n",
    "current_num = 1\n",
    "while current_num <= 100:\n",
    "    sum += current_num\n",
    "    current_num += 1\n",
    "\n",
    "sum"
   ]
  },
  {
   "cell_type": "code",
   "execution_count": null,
   "metadata": {},
   "outputs": [],
   "source": [
    "sum = 0\n",
    "current_num = 1\n",
    "\n",
    "while current_num <= 99:\n",
    "    sum += current_num\n",
    "    current_num += 2\n",
    "sum"
   ]
  },
  {
   "cell_type": "markdown",
   "metadata": {},
   "source": [
    "### 2. Guess number game (*)\n",
    "  - a)   Create a guessing number game following this flow chart:\n",
    "  - b)   Make an algorithm to automatically guess the correct number. Can you optimize to get as few guesses as possible? (**)"
   ]
  },
  {
   "cell_type": "code",
   "execution_count": 6,
   "metadata": {},
   "outputs": [
    {
     "name": "stdout",
     "output_type": "stream",
     "text": [
      "Guess higher number.\n",
      "Guess lower number.\n",
      "Guess lower number.\n",
      "You guess is right\n"
     ]
    }
   ],
   "source": [
    "import random\n",
    "\n",
    "random_number = random.randint(1, 100)\n",
    "\n",
    "guess_number = 0\n",
    "\n",
    "\n",
    "\n",
    "while True:\n",
    "\n",
    "    user_guess = int(input(\"Enter any number bertween 1 to 100.\"))\n",
    "\n",
    "    if random_number == user_guess:\n",
    "        print(\"You guess is right\")\n",
    "        break\n",
    "\n",
    "    elif random_number < user_guess:\n",
    "        print(\"Guess lower number.\")\n",
    "\n",
    "    elif random_number > user_guess:\n",
    "        print(\"Guess higher number.\")\n",
    "\n",
    "    else:\n",
    "        print(\"Enter only between 1 to 100 or you have invalid entry.\")\n",
    "\n"
   ]
  },
  {
   "cell_type": "markdown",
   "metadata": {},
   "source": [
    "### 3. Multiplication game (*)\n",
    "  - a)   Create a multiplication game following this flow chart:\n",
    "\n",
    "  - b)   Add a menu for choosing difficulty level of the game\n",
    "\n",
    "  - c)   Feel free to extend this program with features of your choice."
   ]
  },
  {
   "cell_type": "markdown",
   "metadata": {},
   "source": [
    "### 4. Check convergence (**)\n",
    "Use a while statement to compute the following sums:\n",
    "\n",
    "  a) sum = 1 + 1/2 + 1/4 + 1/8 .... 1/2n   \n",
    "\n",
    "  b) sum = 1 - 1/3 + 1/5 - 1/7 ..... + (-1)n/2n+1  \n",
    "\n",
    "Try different values on  n to see which value it converges to."
   ]
  }
 ],
 "metadata": {
  "kernelspec": {
   "display_name": "venv",
   "language": "python",
   "name": "python3"
  },
  "language_info": {
   "codemirror_mode": {
    "name": "ipython",
    "version": 3
   },
   "file_extension": ".py",
   "mimetype": "text/x-python",
   "name": "python",
   "nbconvert_exporter": "python",
   "pygments_lexer": "ipython3",
   "version": "3.9.6"
  }
 },
 "nbformat": 4,
 "nbformat_minor": 2
}
