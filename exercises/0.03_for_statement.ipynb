{
 "cells": [
  {
   "cell_type": "markdown",
   "metadata": {},
   "source": [
    "### 0. Count numbers (*)\n",
    "- Use a for statement to count from:\n",
    "\n",
    "  - a)   -10 to 10 with one increment (*)\n",
    "\n",
    "  - b)   -10 to 10 with two increment (*)"
   ]
  },
  {
   "cell_type": "code",
   "execution_count": 3,
   "metadata": {},
   "outputs": [
    {
     "name": "stdout",
     "output_type": "stream",
     "text": [
      "-10 -9 -8 -7 -6 -5 -4 -3 -2 -1 0 1 2 3 4 5 6 7 8 9 "
     ]
    }
   ],
   "source": [
    "for i in  range (-10,10):\n",
    "    print(i, end=\" \")"
   ]
  },
  {
   "cell_type": "code",
   "execution_count": 5,
   "metadata": {},
   "outputs": [
    {
     "name": "stdout",
     "output_type": "stream",
     "text": [
      "-8 -7 -6 -5 -4 -3 -2 -1 0 1 2 3 4 5 6 7 8 9 10 11 "
     ]
    }
   ],
   "source": [
    "for i in range(-10,10):\n",
    "    i += 2\n",
    "    print(i , end=\" \")"
   ]
  },
  {
   "cell_type": "markdown",
   "metadata": {},
   "source": [
    "### 1. Arithmetic sum (*)\n",
    "- Use a for statement to compute the following sums:\n",
    "\n",
    " -  a) sum =  1+2 +....99 + 100  \n",
    "\n",
    "\n",
    "  - b) 1+ 3 +5 ..... 97 + 99   \n"
   ]
  },
  {
   "cell_type": "code",
   "execution_count": 8,
   "metadata": {},
   "outputs": [
    {
     "name": "stdout",
     "output_type": "stream",
     "text": [
      "5050\n"
     ]
    }
   ],
   "source": [
    "sum = 0\n",
    "\n",
    "for i in range(1,101):\n",
    "    sum += i\n",
    "\n",
    "print(sum)"
   ]
  },
  {
   "cell_type": "code",
   "execution_count": 9,
   "metadata": {},
   "outputs": [
    {
     "data": {
      "text/plain": [
       "2401"
      ]
     },
     "execution_count": 9,
     "metadata": {},
     "output_type": "execute_result"
    }
   ],
   "source": [
    "sum = 0\n",
    "\n",
    "for i in range(1,99, 2):\n",
    "    sum += i\n",
    "\n",
    "sum\n"
   ]
  },
  {
   "cell_type": "markdown",
   "metadata": {},
   "source": [
    "### 2. Multiplication table (*)\n",
    "- Use for statement(s) to:\n",
    "\n",
    "  - a)   print out the 6th multiplication table from 0 to 10 (*)"
   ]
  },
  {
   "cell_type": "code",
   "execution_count": 1,
   "metadata": {},
   "outputs": [
    {
     "name": "stdout",
     "output_type": "stream",
     "text": [
      "6 * 0 = 0\n",
      "6 * 1 = 6\n",
      "6 * 2 = 12\n",
      "6 * 3 = 18\n",
      "6 * 4 = 24\n",
      "6 * 5 = 30\n",
      "6 * 6 = 36\n",
      "6 * 7 = 42\n",
      "6 * 8 = 48\n",
      "6 * 9 = 54\n",
      "6 * 10 = 60\n"
     ]
    }
   ],
   "source": [
    "number = 6\n",
    "for i in range(11):\n",
    "    print(f\"{number} * {i} = {number * i}\")"
   ]
  },
  {
   "cell_type": "markdown",
   "metadata": {},
   "source": [
    "- b)   let the user input the table, start and end of the table. (*)"
   ]
  },
  {
   "cell_type": "code",
   "execution_count": 3,
   "metadata": {},
   "outputs": [
    {
     "name": "stdout",
     "output_type": "stream",
     "text": [
      " 3 * 2 = 12\n",
      " 3 * 3 = 18\n",
      " 3 * 4 = 24\n"
     ]
    }
   ],
   "source": [
    "user = int(input(\"Enter the number of table you want\"))\n",
    "start = int(input(\"Enter the number to start the  table\"))\n",
    "end = int(input(\"Enter the number  to the end of table\"))\n",
    "\n",
    "for i in range(start , end + 1):\n",
    "    print(f\" {user} * {i} = {number* i}\")\n",
    "\n"
   ]
  },
  {
   "cell_type": "markdown",
   "metadata": {},
   "source": [
    "- c)   print out a full multiplication table from 0 to 10. (**)"
   ]
  },
  {
   "cell_type": "code",
   "execution_count": 8,
   "metadata": {},
   "outputs": [
    {
     "name": "stdout",
     "output_type": "stream",
     "text": [
      "Multiplication Table:\n",
      "  |   0  1  2  3  4  5  6  7  8  9 10\n",
      "---------------------------\n",
      " 0|  0   0   0   0   0   0   0   0   0   0   0 \n",
      " 1|  0   1   2   3   4   5   6   7   8   9  10 \n",
      " 2|  0   2   4   6   8  10  12  14  16  18  20 \n",
      " 3|  0   3   6   9  12  15  18  21  24  27  30 \n",
      " 4|  0   4   8  12  16  20  24  28  32  36  40 \n",
      " 5|  0   5  10  15  20  25  30  35  40  45  50 \n",
      " 6|  0   6  12  18  24  30  36  42  48  54  60 \n",
      " 7|  0   7  14  21  28  35  42  49  56  63  70 \n",
      " 8|  0   8  16  24  32  40  48  56  64  72  80 \n",
      " 9|  0   9  18  27  36  45  54  63  72  81  90 \n",
      "10|  0  10  20  30  40  50  60  70  80  90  100 \n"
     ]
    }
   ],
   "source": [
    "# Print the header row\n",
    "print(\"Multiplication Table:\")\n",
    "print(\"  |\", end=\" \")\n",
    "for i in range(11):\n",
    "    print(f\" {i:2}\", end=\"\")\n",
    "print(\"\\n---------------------------\")\n",
    "\n",
    "# Print the multiplication table\n",
    "for i in range(11):\n",
    "    print(f\"{i:2}|\", end=\"\")\n",
    "    for j in range(11):\n",
    "        print(f\"{i * j: 3}\", end=\" \")\n",
    "    print()"
   ]
  }
 ],
 "metadata": {
  "kernelspec": {
   "display_name": "venv",
   "language": "python",
   "name": "python3"
  },
  "language_info": {
   "codemirror_mode": {
    "name": "ipython",
    "version": 3
   },
   "file_extension": ".py",
   "mimetype": "text/x-python",
   "name": "python",
   "nbconvert_exporter": "python",
   "pygments_lexer": "ipython3",
   "version": "3.9.6"
  }
 },
 "nbformat": 4,
 "nbformat_minor": 2
}
