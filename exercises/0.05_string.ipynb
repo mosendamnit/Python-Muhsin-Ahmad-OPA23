{
 "cells": [
  {
   "cell_type": "markdown",
   "metadata": {},
   "source": [
    "## Exercis-String"
   ]
  },
  {
   "cell_type": "markdown",
   "metadata": {},
   "source": [
    "# 0. Counting letters (*)\n",
    "-Let the user input a word:\n",
    "\n",
    "  "
   ]
  },
  {
   "cell_type": "code",
   "execution_count": 2,
   "metadata": {},
   "outputs": [
    {
     "name": "stdout",
     "output_type": "stream",
     "text": [
      "Mohsin\n"
     ]
    }
   ],
   "source": [
    "user = input(\"Enter any word: \")\n",
    "print(user)\n"
   ]
  },
  {
   "cell_type": "markdown",
   "metadata": {},
   "source": [
    "-a)   print out the number of letters in the word. (*)"
   ]
  },
  {
   "cell_type": "code",
   "execution_count": 3,
   "metadata": {},
   "outputs": [
    {
     "data": {
      "text/plain": [
       "6"
      ]
     },
     "execution_count": 3,
     "metadata": {},
     "output_type": "execute_result"
    }
   ],
   "source": [
    "len(user)"
   ]
  },
  {
   "cell_type": "markdown",
   "metadata": {},
   "source": [
    " -b)   print out the number of uppercase and lowercase letters of the word (*)\n",
    "\n"
   ]
  },
  {
   "cell_type": "code",
   "execution_count": 7,
   "metadata": {},
   "outputs": [
    {
     "name": "stdout",
     "output_type": "stream",
     "text": [
      " user enter word Mohsin and it hase 5 lower case letter\n",
      " user enter word Mohsin and it hase 1 upper case letter\n"
     ]
    }
   ],
   "source": [
    "word = user\n",
    "\n",
    "uppercase_letter = 0\n",
    "lowercase_letter = 0\n",
    "\n",
    "for char in word:\n",
    "    if char.islower():\n",
    "        lowercase_letter += 1\n",
    "\n",
    "    elif char.isupper():\n",
    "        uppercase_letter += 1\n",
    "\n",
    "print(f\" user enter word {user} and it hase {lowercase_letter} lower case letter\")\n",
    "print(f\" user enter word {user} and it hase {uppercase_letter} upper case letter\")"
   ]
  },
  {
   "cell_type": "markdown",
   "metadata": {},
   "source": [
    "# 1. Counting words (*)\n",
    "- Count the number of words in this sentence: \"A picture says more than a thousand words, a matematical formula says more than a thousand pictures.\" (*)\n",
    "\n"
   ]
  },
  {
   "cell_type": "code",
   "execution_count": 14,
   "metadata": {},
   "outputs": [
    {
     "name": "stdout",
     "output_type": "stream",
     "text": [
      "There is 17 words in this senstense\n"
     ]
    }
   ],
   "source": [
    "sentence = (\"A picture says more than a thousand words, a matematical formula says more than a thousand pictures\")\n",
    "def count_word(sentence):\n",
    "    word= sentence.split()\n",
    "    return len(word)\n",
    "\n",
    "word_count = count_word(sentence)\n",
    "\n",
    "print(f\"There is {word_count} words in this senstense\")"
   ]
  },
  {
   "cell_type": "markdown",
   "metadata": {},
   "source": [
    "# 2. Palindrome (*)\n",
    "- A palindrome is a sequence of characters that is the same, when read forward as backwards (ignoring spaces). For example:\n",
    "\n",
    "- \"Anna\" is a palindrome\n",
    "- \"Ni talar bra latin\"\n",
    "- bjkjb"
   ]
  },
  {
   "cell_type": "code",
   "execution_count": 22,
   "metadata": {},
   "outputs": [
    {
     "name": "stdout",
     "output_type": "stream",
     "text": [
      "moshin no it is not palindrome \n"
     ]
    }
   ],
   "source": [
    "string_value = input(\"Enter any value \")\n",
    "\n",
    "if string_value[::-1].lower() == string_value.lower():\n",
    "    print(f\"Yes {string_value} is palindrome\")\n",
    "\n",
    "else:\n",
    "    print(f\"{string_value} no it is not palindrome \")"
   ]
  },
  {
   "cell_type": "markdown",
   "metadata": {},
   "source": [
    "# 3. Vowels (**)\n",
    "- Count the number of vowels in this sentence: \"Pure mathematics is, in its way, the poetry of logical ideas\""
   ]
  },
  {
   "cell_type": "code",
   "execution_count": 37,
   "metadata": {},
   "outputs": [
    {
     "name": "stdout",
     "output_type": "stream",
     "text": [
      "The sentence has 20 vowels\n"
     ]
    }
   ],
   "source": [
    "sentence = (\"Pure mathematics is, in its way, the poetry of logical ideas\")\n",
    "vowels = ['a', 'e', 'i', 'o', 'u']\n",
    "\n",
    "count_vowel = sum(char.lower() in vowels for char in sentence )\n",
    "\n",
    "if count_vowel > 0:\n",
    "    print(f\"The sentence has {count_vowel} vowels\")\n",
    "\n",
    "else:\n",
    "    print(\"the sentense has no vowels\")"
   ]
  },
  {
   "cell_type": "markdown",
   "metadata": {},
   "source": [
    "# 4. Encryption (**)\n",
    "Let the user input a word and:\n",
    "\n",
    "- a)   encrypt the message by replacing each letter with the next letter. If the letter is in the end of the alphabet, use the first letter instead.\n",
    "\n",
    "- e.g. in Swedish: \"höst\" \n",
    " - \"iatu\""
   ]
  }
 ],
 "metadata": {
  "kernelspec": {
   "display_name": "venv",
   "language": "python",
   "name": "python3"
  },
  "language_info": {
   "codemirror_mode": {
    "name": "ipython",
    "version": 3
   },
   "file_extension": ".py",
   "mimetype": "text/x-python",
   "name": "python",
   "nbconvert_exporter": "python",
   "pygments_lexer": "ipython3",
   "version": "3.9.6"
  }
 },
 "nbformat": 4,
 "nbformat_minor": 2
}
