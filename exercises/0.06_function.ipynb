{
 "cells": [
  {
   "cell_type": "markdown",
   "metadata": {},
   "source": [
    "# 0. Area (*)\n",
    "- Create a function that takes the base and height of a triangle as input parameters and returns the area of the triangle."
   ]
  },
  {
   "cell_type": "code",
   "execution_count": 3,
   "metadata": {},
   "outputs": [
    {
     "name": "stdout",
     "output_type": "stream",
     "text": [
      "12.0\n"
     ]
    }
   ],
   "source": [
    "def area_of_triangle (base , height):\n",
    "    return 0.5 * base * height\n",
    "\n",
    "base = int(input(\"Enter the base of triangle\"))\n",
    "\n",
    "height = int(input(\"Enter the height of triangle\"))\n",
    "\n",
    "area = area_of_triangle(base, height)\n",
    "print(area)"
   ]
  },
  {
   "cell_type": "markdown",
   "metadata": {},
   "source": [
    "# 1. Euclidean distance (*)\n",
    "-The formula for Euclidean distance in 2D between two point is sqrt((x2-x1)**2 + (y2-y1)**2)\n",
    "  \n",
    "  - a)   Create a function that takes two points as input parameters and return the Euclidean between them. (*)\n",
    "\n",
    "  - b)   Let the user input two points. Call the function using the users input points. (*)\n",
    "\n",
    "  - c)   Use your function to calculate distances between the origin (0, 0) and each of these points: (10, 3), (-1, -9), (10, -10), (4, -2), (9, -10). (*)\n",
    "\n"
   ]
  },
  {
   "cell_type": "code",
   "execution_count": 8,
   "metadata": {},
   "outputs": [
    {
     "name": "stdout",
     "output_type": "stream",
     "text": [
      "The euclidean distance bwteen point 1 (12, 21) and point 2 (12, 43) is  22.0\n"
     ]
    }
   ],
   "source": [
    "import math\n",
    "\n",
    "def eculidean_distance(point1 , point2):\n",
    "    x1 , y1 = point1\n",
    "    x2, y2 = point2\n",
    "\n",
    "    return math.sqrt((x2-x1)**2 + (y2-y1)**2)\n",
    "\n",
    "\n",
    "point1 = eval(input(\"Enter value for point 1 as (x , y)\"))\n",
    "point2 = eval(input(\"Enter the value for point2 as (x ,y )\"))\n",
    "\n",
    "\n",
    "distance = eculidean_distance(point1 , point2)\n",
    "\n",
    "print(f\"The euclidean distance bwteen point 1 {point1} and point 2 {point2} is  {distance}\")"
   ]
  },
  {
   "cell_type": "code",
   "execution_count": 16,
   "metadata": {},
   "outputs": [
    {
     "name": "stdout",
     "output_type": "stream",
     "text": [
      "The euclidean distance between (0, 0) and (10, 3) is: 10.44030650891055\n",
      "The euclidean distance between (0, 0) and (-1, -9) is: 9.055385138137417\n",
      "The euclidean distance between (0, 0) and (10, -10) is: 14.142135623730951\n",
      "The euclidean distance between (0, 0) and (4, -2) is: 4.47213595499958\n",
      "The euclidean distance between (0, 0) and (9, -10) is: 13.45362404707371\n"
     ]
    }
   ],
   "source": [
    "import math\n",
    "\n",
    "def eculidean_distance(point1 , point2):\n",
    "    x1 , y1 = point1\n",
    "    x2, y2 = point2\n",
    "\n",
    "    return math.sqrt((x2-x1)**2 + (y2-y1)**2)\n",
    "\n",
    "\n",
    "\n",
    "origin_point = (0,0)\n",
    "other_points = [ (10, 3), (-1, -9), (10, -10), (4, -2), (9, -10)]\n",
    "\n",
    "for i in range(len(other_points)):\n",
    "    distance = eculidean_distance(origin_point , other_points[i])\n",
    "\n",
    "    print(f\"The euclidean distance between {origin_point} and {other_points[i]} is: {distance}\")\n",
    "\n",
    "\n"
   ]
  },
  {
   "cell_type": "markdown",
   "metadata": {},
   "source": [
    "# 2. Mathematical functions (*)\n",
    "- Make the following functions with def or lambda and plot their graphs in the same figure window, with x [-10,10]: \n",
    "\n",
    " -  a)  f(x) = x**2 -3\n",
    "\n",
    " -  b)   g(x) = 4x -7 \n",
    "\n",
    "- What could the relation between f(x) and g(x) be?"
   ]
  },
  {
   "cell_type": "markdown",
   "metadata": {},
   "source": [
    "# 3. Name cleaner (*)\n",
    "Create a function that takes a name as an input and:\n",
    "\n",
    "- removes all leading and trailing blank spaces\n",
    "- make capitalize the first character of each name, and make the rest lowercase\n",
    "\n",
    "Use your function on this list of strings:\n",
    "\n",
    "[\"  MaRcUs \", \" iDA aNderSon\", \"OLOF Olofsson            \"  ]"
   ]
  },
  {
   "cell_type": "code",
   "execution_count": 35,
   "metadata": {},
   "outputs": [
    {
     "data": {
      "text/plain": [
       "['MaRcUs', 'iDAaNderSon', 'OLOFOlofsson']"
      ]
     },
     "execution_count": 35,
     "metadata": {},
     "output_type": "execute_result"
    }
   ],
   "source": [
    "import re\n",
    "\n",
    "\n",
    "text = [\"  MaRcUs \", \" iDA aNderSon\", \"OLOF Olofsson            \"  ]\n",
    "\n",
    "clear_text = [re.sub(r'\\s', '', name).strip() for name in text]\n",
    "\n",
    "clear_text\n",
    "\n"
   ]
  }
 ],
 "metadata": {
  "kernelspec": {
   "display_name": "venv",
   "language": "python",
   "name": "python3"
  },
  "language_info": {
   "codemirror_mode": {
    "name": "ipython",
    "version": 3
   },
   "file_extension": ".py",
   "mimetype": "text/x-python",
   "name": "python",
   "nbconvert_exporter": "python",
   "pygments_lexer": "ipython3",
   "version": "3.9.6"
  }
 },
 "nbformat": 4,
 "nbformat_minor": 2
}
