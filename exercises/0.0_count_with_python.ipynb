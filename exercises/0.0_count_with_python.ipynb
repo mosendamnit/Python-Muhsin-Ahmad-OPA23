{
 "cells": [
  {
   "cell_type": "markdown",
   "metadata": {},
   "source": [
    "## 0. Pythagorean theorem (*)\n",
    "  - a)   A right angled triangle has the catheti: a = 3 and b = 4 length units. Compute the hypothenuse of the triangle. (*)\n",
    "\n",
    "  - b)   A right angled triangle has hypothenuse c = 7.0 and a cathetus a = 5.0 length units. Compute the other cathetus and round to one decimal. (*)"
   ]
  },
  {
   "cell_type": "code",
   "execution_count": 2,
   "metadata": {},
   "outputs": [
    {
     "name": "stdout",
     "output_type": "stream",
     "text": [
      "The hypotheuse is : 5.0\n"
     ]
    }
   ],
   "source": [
    "import math\n",
    "\n",
    "def calculte_hypotheuse (a , b):\n",
    "    return math.sqrt(a**2 + b**2)\n",
    "\n",
    "side_a = 3\n",
    "side_b = 4\n",
    "\n",
    "hypotheuse = calculte_hypotheuse(side_a , side_b)\n",
    "print(f\"The hypotheuse is : {hypotheuse}\")"
   ]
  },
  {
   "cell_type": "code",
   "execution_count": 8,
   "metadata": {},
   "outputs": [
    {
     "name": "stdout",
     "output_type": "stream",
     "text": [
      "  8.6\n"
     ]
    }
   ],
   "source": [
    "def calculte_hypotheuse_b (c, a):\n",
    "    return math.sqrt(c**2 + a**2)\n",
    "\n",
    "side_a = 5\n",
    "side_c = 7\n",
    "\n",
    "find_b = calculte_hypotheuse_b(side_a , side_c)\n",
    "print(f\" {find_b: .1f}\")"
   ]
  },
  {
   "cell_type": "markdown",
   "metadata": {},
   "source": [
    "## 2. Classification accuracy (*)\n",
    "- A machine learning algorithm has been trained to predict whether or not it would rain the next day. Out of 365 predictions, it got 300 correct, compute the accuracy of this model."
   ]
  },
  {
   "cell_type": "code",
   "execution_count": 11,
   "metadata": {},
   "outputs": [
    {
     "name": "stdout",
     "output_type": "stream",
     "text": [
      "Maybe or maybe not.\n"
     ]
    }
   ],
   "source": [
    "Predictions = int(input(\"Enter the prediction between 0 to 360. \"))\n",
    "\n",
    "if  360 >= Predictions >= 290:\n",
    "    print(\"The accuracy is high and much likely to be rain.\")\n",
    "\n",
    "elif 285 >= Predictions >= 180:\n",
    "    print(\"Maybe or maybe not.\")\n",
    "\n",
    "else:\n",
    "    print(\"It is gonna be a clear sky\")"
   ]
  },
  {
   "cell_type": "markdown",
   "metadata": {},
   "source": [
    "## 5. Euclidean distance (*)\n",
    "- The Euclideam distance between the points P1 and p2 is the length of a line between them. Let p1 : (3,5) and p2:(-2,4) compute the distance between them."
   ]
  },
  {
   "cell_type": "code",
   "execution_count": 14,
   "metadata": {},
   "outputs": [
    {
     "name": "stdout",
     "output_type": "stream",
     "text": [
      " 5.10\n"
     ]
    }
   ],
   "source": [
    "def eculidean_distance (p1,p2):\n",
    "    x1,y1 = p1\n",
    "    x2,y2 = p2\n",
    "    return math.sqrt((x2-x1)**2 + (y2-y1)**2)\n",
    "\n",
    "p1 = (3,5)\n",
    "p2 = (-2,4)\n",
    "\n",
    "value_of_distance  = eculidean_distance(p1,p2)\n",
    "print(f\"{value_of_distance: .2f}\")"
   ]
  },
  {
   "cell_type": "markdown",
   "metadata": {},
   "source": [
    "## 6. Euclidean distance in 3D (**)\n",
    "- Calculate the distance between the points p1: (2,1,4) and P2: (3,1,0)"
   ]
  },
  {
   "cell_type": "code",
   "execution_count": 15,
   "metadata": {},
   "outputs": [
    {
     "data": {
      "text/plain": [
       "4.123105625617661"
      ]
     },
     "execution_count": 15,
     "metadata": {},
     "output_type": "execute_result"
    }
   ],
   "source": [
    "import math\n",
    "\n",
    "def calculate_eculidean_distance(p1,p2):\n",
    "    x1,y1,z1 = p1\n",
    "    x2,y2,z2 = p2\n",
    "    return math.sqrt((x2-x1)**2 + (y2-y1)**2 + (z2-z1)**2)\n",
    "\n",
    "\n",
    "p1 =(2,1,4)\n",
    "p2 = (3,1,0)\n",
    "\n",
    "euclidean_3D = calculate_eculidean_distance(p1,p2)\n",
    "euclidean_3D"
   ]
  }
 ],
 "metadata": {
  "kernelspec": {
   "display_name": "venv",
   "language": "python",
   "name": "python3"
  },
  "language_info": {
   "codemirror_mode": {
    "name": "ipython",
    "version": 3
   },
   "file_extension": ".py",
   "mimetype": "text/x-python",
   "name": "python",
   "nbconvert_exporter": "python",
   "pygments_lexer": "ipython3",
   "version": "3.9.6"
  }
 },
 "nbformat": 4,
 "nbformat_minor": 2
}
