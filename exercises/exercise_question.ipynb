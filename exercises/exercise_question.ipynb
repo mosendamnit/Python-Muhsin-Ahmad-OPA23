{
 "cells": [
  {
   "cell_type": "markdown",
   "metadata": {},
   "source": [
    "# Exercise-if-statements"
   ]
  },
  {
   "cell_type": "markdown",
   "metadata": {},
   "source": [
    "- 1: Ask the user to input a number and check if this number is positive, negative or zero and print it out."
   ]
  },
  {
   "cell_type": "code",
   "execution_count": 1,
   "metadata": {},
   "outputs": [
    {
     "name": "stdout",
     "output_type": "stream",
     "text": [
      "This is postive number. \n"
     ]
    }
   ],
   "source": [
    "try:\n",
    "\n",
    "    # Ask the user to input a number\n",
    "    user = input(\"Enter a number: \")\n",
    "\n",
    "    number = int(user)\n",
    "\n",
    "    if number > 0:\n",
    "        print(\"This is postive number. \")\n",
    "    elif number < 0:\n",
    "        print(\"This is negative number.\")\n",
    "    else:\n",
    "        print(\"This is zere number. \")\n",
    "except ValueError:\n",
    "    print(\"Invalid value: Please enter the valid number.\")"
   ]
  },
  {
   "cell_type": "markdown",
   "metadata": {},
   "source": [
    "- 2:Ask the user to input two numbers and check which one is the smallest and print it out."
   ]
  },
  {
   "cell_type": "code",
   "execution_count": 2,
   "metadata": {},
   "outputs": [
    {
     "name": "stdout",
     "output_type": "stream",
     "text": [
      "The user1 is smallest. \n"
     ]
    }
   ],
   "source": [
    "user1 = int(input(\"Enter the first number. \"))\n",
    "user2 = int(input(\"Enter the second number. \"))\n",
    "\n",
    "if user1 < user2:\n",
    "    print(\"The user1 is smallest. \")\n",
    "elif user2 < user1:\n",
    "    print(\"The user2 is smallest. \")\n",
    "else:\n",
    "    print(\"Both user number är same. \")"
   ]
  },
  {
   "cell_type": "markdown",
   "metadata": {},
   "source": [
    "- 3: Ask the user to input three angles and check if the triangle has a right angle. Your code should make sure that all three angles are valid and make up a triangle.\n",
    "\n"
   ]
  },
  {
   "cell_type": "code",
   "execution_count": 1,
   "metadata": {},
   "outputs": [
    {
     "name": "stdout",
     "output_type": "stream",
     "text": [
      "This Triangle is right angle.\n"
     ]
    }
   ],
   "source": [
    "angle1 = int(input(\"Enter the First angle.\"))\n",
    "angle2 = int(input(\"Enter the Second angle.\"))\n",
    "angle3 = int(input(\"Enter the Third angle.\"))\n",
    "\n",
    "if angle1 == 90 or angle2 == 90 or angle3 == 90:\n",
    "    print(\"This Triangle is right angle.\")\n",
    "else:\n",
    "    print(\"This is Triangle but not right angle. \")"
   ]
  },
  {
   "cell_type": "markdown",
   "metadata": {},
   "source": [
    "- 4:The information in the following table is stated in a medicine package. Also it is stated that for children weight is more important than age.\n",
    "\n",
    "Age\tNumber of pills\n",
    "Adults & adolescent\n",
    "over 40 kg\tover 12 years\t1-2\n",
    "Children 26-40 kg\t7-12 years\t1/2-1\n",
    "Children 15-25 kg\t3-7 years\t1/2\n",
    "Let the user input an age and a weight, the program should recommend the number of pills for the user.\n",
    "\n"
   ]
  },
  {
   "cell_type": "code",
   "execution_count": 3,
   "metadata": {},
   "outputs": [
    {
     "name": "stdout",
     "output_type": "stream",
     "text": [
      "You have to take 1-2 pills.\n"
     ]
    }
   ],
   "source": [
    "age = int(input(\"Enter your age: \"))\n",
    "weight = int(input(\"Enter your weight: \"))\n",
    "\n",
    "if  3<= age < 7  and 15 < weight > 25:\n",
    "    print(\"You have to take 1-2 pills.\")\n",
    "\n",
    "elif 7 <= age <= 12 and 26 <= weight <40:\n",
    "    print(\"You have to take 1/2 - 1 pills. \")\n",
    "\n",
    "else:\n",
    "    print(\"You have to take 1-2 pills.\")"
   ]
  },
  {
   "cell_type": "markdown",
   "metadata": {},
   "source": [
    "- 5: Let the user input a number. Check if the number is\n",
    "\n",
    "- even or odd\n",
    "- is divisible by 5\n",
    "- is divisble by 5 and odd"
   ]
  },
  {
   "cell_type": "code",
   "execution_count": 6,
   "metadata": {},
   "outputs": [
    {
     "name": "stdout",
     "output_type": "stream",
     "text": [
      "This is even number.\n"
     ]
    }
   ],
   "source": [
    "number = int(input(\"Enter a number: \"))\n",
    "\n",
    "if number % 2 ==0:\n",
    "    print(\"This is even number.\")\n",
    "else:\n",
    "    print(\"This is odd number.  \")"
   ]
  },
  {
   "cell_type": "code",
   "execution_count": 7,
   "metadata": {},
   "outputs": [
    {
     "name": "stdout",
     "output_type": "stream",
     "text": [
      "This 34 is not divisible by 5.  \n"
     ]
    }
   ],
   "source": [
    "number = int(input(\"Enter a number: \"))\n",
    "\n",
    "if number % 5 ==0:\n",
    "    print(f\"This {number} is divisible by 5.\")\n",
    "else:\n",
    "    print(f\"This {number} is not divisible by 5.  \")"
   ]
  },
  {
   "cell_type": "code",
   "execution_count": 8,
   "metadata": {},
   "outputs": [
    {
     "name": "stdout",
     "output_type": "stream",
     "text": [
      "This 12 is not divisible by 5 and odd number.  \n"
     ]
    }
   ],
   "source": [
    "number = int(input(\"Enter a number: \"))\n",
    "\n",
    "if number % 5 ==0 and number % 2 != 0:\n",
    "    print(f\"This {number} is divisible by 5 and odd number.\")\n",
    "else:\n",
    "    print(f\"This {number} is not divisible by 5 and odd number.  \")"
   ]
  },
  {
   "cell_type": "markdown",
   "metadata": {},
   "source": [
    "- 6: Luggage size (*)\n",
    "- The maximum allowed luggage size for boarding an airplane is:\n",
    "\n",
    "- weight: 8kg\n",
    "- dimensions: 55x40x23cm (length x width x height)\n",
    "\n",
    "- Let the user input weight, length, width and height of the luggage. The program should check if the luggage is allowed or not.\n",
    "\n"
   ]
  },
  {
   "cell_type": "code",
   "execution_count": 3,
   "metadata": {},
   "outputs": [
    {
     "name": "stdout",
     "output_type": "stream",
     "text": [
      "You luggage is with requried size and is allow to boarding.\n"
     ]
    }
   ],
   "source": [
    "weight = int(input(\"Enter your laggage weight in kg. \"))\n",
    "length = int(input(\"Enter your laggage length in cm. \"))\n",
    "width = int(input(\"Enter your laggage width in cm. \"))\n",
    "heigth = int(input(\"Enter your laggage in height in cm. \"))\n",
    "\n",
    "max_weight = 8\n",
    "max_length = 55\n",
    "max_width = 40\n",
    "max_heigth = 23\n",
    "\n",
    "if weight <= max_weight and length <= max_length and width <= max_width and heigth <= max_heigth:\n",
    "    print(\"You luggage is with requried size and is allow to boarding.\")\n",
    "else:\n",
    "    print(\"Unfortunatally you luggage is with required size. \")"
   ]
  },
  {
   "cell_type": "markdown",
   "metadata": {},
   "source": [
    "## Exercise-While-Statement"
   ]
  },
  {
   "cell_type": "markdown",
   "metadata": {},
   "source": [
    "### 0. Count numbers\n",
    "- Use a while statement to count from -10 to 10 with one increment."
   ]
  },
  {
   "cell_type": "code",
   "execution_count": 6,
   "metadata": {},
   "outputs": [
    {
     "name": "stdout",
     "output_type": "stream",
     "text": [
      "-10\n",
      "-9\n",
      "-8\n",
      "-7\n",
      "-6\n",
      "-5\n",
      "-4\n",
      "-3\n",
      "-2\n",
      "-1\n",
      "0\n",
      "1\n",
      "2\n",
      "3\n",
      "4\n",
      "5\n",
      "6\n",
      "7\n",
      "8\n",
      "9\n",
      "10\n"
     ]
    }
   ],
   "source": [
    "count = -10\n",
    "while count <=10:\n",
    "    print(count)\n",
    "    count += 1\n"
   ]
  },
  {
   "cell_type": "markdown",
   "metadata": {},
   "source": [
    "### 1.  Arithmetic sum (*)\n",
    "- Use a while statement to compute the following sums:\n",
    "- sum =  1+2+3+.....100\n",
    "- sum = 1 +3 + 5.... 99"
   ]
  },
  {
   "cell_type": "code",
   "execution_count": 8,
   "metadata": {},
   "outputs": [
    {
     "name": "stdout",
     "output_type": "stream",
     "text": [
      "5050\n"
     ]
    }
   ],
   "source": [
    "sum = 0\n",
    "current_num = 1\n",
    "\n",
    "while current_num <= 100:\n",
    "    sum += current_num\n",
    "    current_num += 1\n",
    "print(sum)"
   ]
  },
  {
   "cell_type": "code",
   "execution_count": 10,
   "metadata": {},
   "outputs": [
    {
     "name": "stdout",
     "output_type": "stream",
     "text": [
      "2500\n"
     ]
    }
   ],
   "source": [
    "sum = 0\n",
    "num = 1\n",
    "while num <= 99:\n",
    "    sum += num\n",
    "    num +=2\n",
    "print(sum)"
   ]
  },
  {
   "cell_type": "markdown",
   "metadata": {},
   "source": [
    "### 2. Guess number game (*)\n",
    "  - a)   Create a guessing number game following this flow chart:\n",
    "  - b)   Make an algorithm to automatically guess the correct number. Can you optimize to get as few guesses as possible? (**)"
   ]
  },
  {
   "cell_type": "code",
   "execution_count": 12,
   "metadata": {},
   "outputs": [
    {
     "name": "stdout",
     "output_type": "stream",
     "text": [
      "Guess lower number.  \n",
      "Guess lower number.  \n",
      "Guess lower number.  \n",
      "Guess higer number. \n",
      "Guess higer number. \n",
      "Yes 10 is the right numnber. \n"
     ]
    }
   ],
   "source": [
    "import random\n",
    "\n",
    "random_number = random.randint(1 , 100)\n",
    "\n",
    "user_guess = 0\n",
    "\n",
    "while random_number != user_guess:\n",
    "\n",
    "    user_guess = int(input(\"Guess the number from 1 to 100. \"))\n",
    "\n",
    "    if random_number == user_guess:\n",
    "        print(f\"Yes {user_guess} is the right numnber. \")\n",
    "    \n",
    "    else:\n",
    "        if user_guess < random_number:\n",
    "            print(\"Guess higer number. \")\n",
    "        \n",
    "        else:\n",
    "            print(\"Guess lower number.  \")\n",
    "\n"
   ]
  },
  {
   "cell_type": "markdown",
   "metadata": {},
   "source": [
    "### 3. Multiplication game (*)\n",
    "  - a)   Create a multiplication game following this flow chart:\n",
    "\n",
    "  - b)   Add a menu for choosing difficulty level of the game\n",
    "\n",
    "  - c)   Feel free to extend this program with features of your choice."
   ]
  },
  {
   "cell_type": "markdown",
   "metadata": {},
   "source": [
    "### 4. Check convergence (**)\n",
    "Use a while statement to compute the following sums:\n",
    "\n",
    "  a) sum = 1 + 1/2 + 1/4 + 1/8 .... 1/2n   \n",
    "\n",
    "  b) sum = 1 - 1/3 + 1/5 - 1/7 ..... + (-1)n/2n+1  \n",
    "\n",
    "Try different values on  n to see which value it converges to."
   ]
  },
  {
   "cell_type": "markdown",
   "metadata": {},
   "source": [
    "## Exercise-for-statement"
   ]
  },
  {
   "cell_type": "markdown",
   "metadata": {},
   "source": [
    "### 0. Count numbers (*)\n",
    "- Use a for statement to count from:\n",
    "\n",
    "  - a)   -10 to 10 with one increment (*)\n",
    "\n",
    "  - b)   -10 to 10 with two increment (*)"
   ]
  },
  {
   "cell_type": "markdown",
   "metadata": {},
   "source": []
  }
 ],
 "metadata": {
  "kernelspec": {
   "display_name": "venv",
   "language": "python",
   "name": "python3"
  },
  "language_info": {
   "codemirror_mode": {
    "name": "ipython",
    "version": 3
   },
   "file_extension": ".py",
   "mimetype": "text/x-python",
   "name": "python",
   "nbconvert_exporter": "python",
   "pygments_lexer": "ipython3",
   "version": "3.9.6"
  }
 },
 "nbformat": 4,
 "nbformat_minor": 2
}
