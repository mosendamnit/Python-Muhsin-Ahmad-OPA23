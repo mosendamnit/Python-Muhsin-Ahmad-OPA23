{
 "cells": [
  {
   "cell_type": "markdown",
   "metadata": {},
   "source": [
    "# Exercise-if-statements"
   ]
  },
  {
   "cell_type": "markdown",
   "metadata": {},
   "source": [
    "- Ask the user to input a number and check if this number is positive, negative or zero and print it out."
   ]
  },
  {
   "cell_type": "code",
   "execution_count": 5,
   "metadata": {},
   "outputs": [
    {
     "name": "stdout",
     "output_type": "stream",
     "text": [
      "This is postive number. \n"
     ]
    }
   ],
   "source": [
    "try:\n",
    "\n",
    "    # Ask the user to input a number\n",
    "    user_input = input(\"Enter a number: \")\n",
    "\n",
    "    number = int(user_input)\n",
    "\n",
    "    if number > 0:\n",
    "        print(\"This is postive number. \")\n",
    "    elif number < 0:\n",
    "        print(\"This is negative number.\")\n",
    "    else:\n",
    "        print(\"This is zere number. \")\n",
    "except ValueError:\n",
    "    print(\"Invalid value: Please enter the valid number.\")"
   ]
  },
  {
   "cell_type": "code",
   "execution_count": null,
   "metadata": {},
   "outputs": [],
   "source": []
  }
 ],
 "metadata": {
  "kernelspec": {
   "display_name": "venv",
   "language": "python",
   "name": "python3"
  },
  "language_info": {
   "codemirror_mode": {
    "name": "ipython",
    "version": 3
   },
   "file_extension": ".py",
   "mimetype": "text/x-python",
   "name": "python",
   "nbconvert_exporter": "python",
   "pygments_lexer": "ipython3",
   "version": "3.9.6"
  }
 },
 "nbformat": 4,
 "nbformat_minor": 2
}
