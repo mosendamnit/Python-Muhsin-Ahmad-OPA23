{
 "cells": [
  {
   "cell_type": "markdown",
   "metadata": {},
   "source": [
    "# Exercise-if-statements"
   ]
  },
  {
   "cell_type": "markdown",
   "metadata": {},
   "source": [
    "- 1: Ask the user to input a number and check if this number is positive, negative or zero and print it out."
   ]
  },
  {
   "cell_type": "code",
   "execution_count": 1,
   "metadata": {},
   "outputs": [
    {
     "name": "stdout",
     "output_type": "stream",
     "text": [
      "This is postive number. \n"
     ]
    }
   ],
   "source": [
    "try:\n",
    "\n",
    "    # Ask the user to input a number\n",
    "    user = input(\"Enter a number: \")\n",
    "\n",
    "    number = int(user)\n",
    "\n",
    "    if number > 0:\n",
    "        print(\"This is postive number. \")\n",
    "    elif number < 0:\n",
    "        print(\"This is negative number.\")\n",
    "    else:\n",
    "        print(\"This is zere number. \")\n",
    "except ValueError:\n",
    "    print(\"Invalid value: Please enter the valid number.\")"
   ]
  },
  {
   "cell_type": "markdown",
   "metadata": {},
   "source": [
    "- 2:Ask the user to input two numbers and check which one is the smallest and print it out."
   ]
  },
  {
   "cell_type": "code",
   "execution_count": 2,
   "metadata": {},
   "outputs": [
    {
     "name": "stdout",
     "output_type": "stream",
     "text": [
      "The user1 is smallest. \n"
     ]
    }
   ],
   "source": [
    "user1 = int(input(\"Enter the first number. \"))\n",
    "user2 = int(input(\"Enter the second number. \"))\n",
    "\n",
    "if user1 < user2:\n",
    "    print(\"The user1 is smallest. \")\n",
    "elif user2 < user1:\n",
    "    print(\"The user2 is smallest. \")\n",
    "else:\n",
    "    print(\"Both user number är same. \")"
   ]
  },
  {
   "cell_type": "markdown",
   "metadata": {},
   "source": [
    "- 3: Ask the user to input three angles and check if the triangle has a right angle. Your code should make sure that all three angles are valid and make up a triangle.\n",
    "\n"
   ]
  },
  {
   "cell_type": "code",
   "execution_count": 1,
   "metadata": {},
   "outputs": [
    {
     "name": "stdout",
     "output_type": "stream",
     "text": [
      "This Triangle is right angle.\n"
     ]
    }
   ],
   "source": [
    "angle1 = int(input(\"Enter the First angle.\"))\n",
    "angle2 = int(input(\"Enter the Second angle.\"))\n",
    "angle3 = int(input(\"Enter the Third angle.\"))\n",
    "\n",
    "if angle1 == 90 or angle2 == 90 or angle3 == 90:\n",
    "    print(\"This Triangle is right angle.\")\n",
    "else:\n",
    "    print(\"This is Triangle but not right angle. \")"
   ]
  },
  {
   "cell_type": "markdown",
   "metadata": {},
   "source": [
    "- 4:The information in the following table is stated in a medicine package. Also it is stated that for children weight is more important than age.\n",
    "\n",
    "Age\tNumber of pills\n",
    "Adults & adolescent\n",
    "over 40 kg\tover 12 years\t1-2\n",
    "Children 26-40 kg\t7-12 years\t1/2-1\n",
    "Children 15-25 kg\t3-7 years\t1/2\n",
    "Let the user input an age and a weight, the program should recommend the number of pills for the user.\n",
    "\n"
   ]
  },
  {
   "cell_type": "code",
   "execution_count": 3,
   "metadata": {},
   "outputs": [
    {
     "name": "stdout",
     "output_type": "stream",
     "text": [
      "You have to take 1-2 pills.\n"
     ]
    }
   ],
   "source": [
    "age = int(input(\"Enter your age: \"))\n",
    "weight = int(input(\"Enter your weight: \"))\n",
    "\n",
    "if  3<= age < 7  and 15 < weight > 25:\n",
    "    print(\"You have to take 1-2 pills.\")\n",
    "\n",
    "elif 7 <= age <= 12 and 26 <= weight <40:\n",
    "    print(\"You have to take 1/2 - 1 pills. \")\n",
    "\n",
    "else:\n",
    "    print(\"You have to take 1-2 pills.\")"
   ]
  },
  {
   "cell_type": "markdown",
   "metadata": {},
   "source": [
    "- 5: Let the user input a number. Check if the number is\n",
    "\n",
    "- even or odd\n",
    "- is divisible by 5\n",
    "- is divisble by 5 and odd"
   ]
  },
  {
   "cell_type": "code",
   "execution_count": 6,
   "metadata": {},
   "outputs": [
    {
     "name": "stdout",
     "output_type": "stream",
     "text": [
      "This is even number.\n"
     ]
    }
   ],
   "source": [
    "number = int(input(\"Enter a number: \"))\n",
    "\n",
    "if number % 2 ==0:\n",
    "    print(\"This is even number.\")\n",
    "else:\n",
    "    print(\"This is odd number.  \")"
   ]
  },
  {
   "cell_type": "code",
   "execution_count": 7,
   "metadata": {},
   "outputs": [
    {
     "name": "stdout",
     "output_type": "stream",
     "text": [
      "This 34 is not divisible by 5.  \n"
     ]
    }
   ],
   "source": [
    "number = int(input(\"Enter a number: \"))\n",
    "\n",
    "if number % 5 ==0:\n",
    "    print(f\"This {number} is divisible by 5.\")\n",
    "else:\n",
    "    print(f\"This {number} is not divisible by 5.  \")"
   ]
  },
  {
   "cell_type": "code",
   "execution_count": 8,
   "metadata": {},
   "outputs": [
    {
     "name": "stdout",
     "output_type": "stream",
     "text": [
      "This 12 is not divisible by 5 and odd number.  \n"
     ]
    }
   ],
   "source": [
    "number = int(input(\"Enter a number: \"))\n",
    "\n",
    "if number % 5 ==0 and number % 2 != 0:\n",
    "    print(f\"This {number} is divisible by 5 and odd number.\")\n",
    "else:\n",
    "    print(f\"This {number} is not divisible by 5 and odd number.  \")"
   ]
  },
  {
   "cell_type": "markdown",
   "metadata": {},
   "source": [
    "- 6: Luggage size (*)\n",
    "- The maximum allowed luggage size for boarding an airplane is:\n",
    "\n",
    "- weight: 8kg\n",
    "- dimensions: 55x40x23cm (length x width x height)\n",
    "\n",
    "- Let the user input weight, length, width and height of the luggage. The program should check if the luggage is allowed or not.\n",
    "\n"
   ]
  },
  {
   "cell_type": "code",
   "execution_count": 3,
   "metadata": {},
   "outputs": [
    {
     "name": "stdout",
     "output_type": "stream",
     "text": [
      "You luggage is with requried size and is allow to boarding.\n"
     ]
    }
   ],
   "source": [
    "weight = int(input(\"Enter your laggage weight in kg. \"))\n",
    "length = int(input(\"Enter your laggage length in cm. \"))\n",
    "width = int(input(\"Enter your laggage width in cm. \"))\n",
    "heigth = int(input(\"Enter your laggage in height in cm. \"))\n",
    "\n",
    "max_weight = 8\n",
    "max_length = 55\n",
    "max_width = 40\n",
    "max_heigth = 23\n",
    "\n",
    "if weight <= max_weight and length <= max_length and width <= max_width and heigth <= max_heigth:\n",
    "    print(\"You luggage is with requried size and is allow to boarding.\")\n",
    "else:\n",
    "    print(\"Unfortunatally you luggage is with required size. \")"
   ]
  },
  {
   "cell_type": "markdown",
   "metadata": {},
   "source": [
    "## Exercise-While-Statement"
   ]
  },
  {
   "cell_type": "markdown",
   "metadata": {},
   "source": [
    "### 0. Count numbers\n",
    "- Use a while statement to count from -10 to 10 with one increment."
   ]
  },
  {
   "cell_type": "code",
   "execution_count": 31,
   "metadata": {},
   "outputs": [
    {
     "name": "stdout",
     "output_type": "stream",
     "text": [
      "-10 -9 -8 -7 -6 -5 -4 -3 -2 -1 0 1 2 3 4 5 6 7 8 9 10 "
     ]
    }
   ],
   "source": [
    "count = -10\n",
    "while count <=10:\n",
    "    print(count , end=\" \")\n",
    "    count += 1\n"
   ]
  },
  {
   "cell_type": "markdown",
   "metadata": {},
   "source": [
    "### 1.  Arithmetic sum (*)\n",
    "- Use a while statement to compute the following sums:\n",
    "- sum =  1+2+3+.....100\n",
    "- sum = 1 +3 + 5.... 99"
   ]
  },
  {
   "cell_type": "code",
   "execution_count": 8,
   "metadata": {},
   "outputs": [
    {
     "name": "stdout",
     "output_type": "stream",
     "text": [
      "5050\n"
     ]
    }
   ],
   "source": [
    "sum = 0\n",
    "current_num = 1\n",
    "\n",
    "while current_num <= 100:\n",
    "    sum += current_num\n",
    "    current_num += 1\n",
    "print(sum)"
   ]
  },
  {
   "cell_type": "code",
   "execution_count": 10,
   "metadata": {},
   "outputs": [
    {
     "name": "stdout",
     "output_type": "stream",
     "text": [
      "2500\n"
     ]
    }
   ],
   "source": [
    "sum = 0\n",
    "num = 1\n",
    "while num <= 99:\n",
    "    sum += num\n",
    "    num +=2\n",
    "print(sum)"
   ]
  },
  {
   "cell_type": "markdown",
   "metadata": {},
   "source": [
    "### 2. Guess number game (*)\n",
    "  - a)   Create a guessing number game following this flow chart:\n",
    "  - b)   Make an algorithm to automatically guess the correct number. Can you optimize to get as few guesses as possible? (**)"
   ]
  },
  {
   "cell_type": "code",
   "execution_count": 12,
   "metadata": {},
   "outputs": [
    {
     "name": "stdout",
     "output_type": "stream",
     "text": [
      "Guess lower number.  \n",
      "Guess lower number.  \n",
      "Guess lower number.  \n",
      "Guess higer number. \n",
      "Guess higer number. \n",
      "Yes 10 is the right numnber. \n"
     ]
    }
   ],
   "source": [
    "import random\n",
    "\n",
    "random_number = random.randint(1 , 100)\n",
    "\n",
    "user_guess = 0\n",
    "\n",
    "while random_number != user_guess:\n",
    "\n",
    "    user_guess = int(input(\"Guess the number from 1 to 100. \"))\n",
    "\n",
    "    if random_number == user_guess:\n",
    "        print(f\"Yes {user_guess} is the right numnber. \")\n",
    "    \n",
    "    else:\n",
    "        if user_guess < random_number:\n",
    "            print(\"Guess higer number. \")\n",
    "        \n",
    "        else:\n",
    "            print(\"Guess lower number.  \")\n",
    "\n"
   ]
  },
  {
   "cell_type": "markdown",
   "metadata": {},
   "source": [
    "### 3. Multiplication game (*)\n",
    "  - a)   Create a multiplication game following this flow chart:\n",
    "\n",
    "  - b)   Add a menu for choosing difficulty level of the game\n",
    "\n",
    "  - c)   Feel free to extend this program with features of your choice."
   ]
  },
  {
   "cell_type": "markdown",
   "metadata": {},
   "source": [
    "### 4. Check convergence (**)\n",
    "Use a while statement to compute the following sums:\n",
    "\n",
    "  a) sum = 1 + 1/2 + 1/4 + 1/8 .... 1/2n   \n",
    "\n",
    "  b) sum = 1 - 1/3 + 1/5 - 1/7 ..... + (-1)n/2n+1  \n",
    "\n",
    "Try different values on  n to see which value it converges to."
   ]
  },
  {
   "cell_type": "markdown",
   "metadata": {},
   "source": [
    "## Exercise-for-statement"
   ]
  },
  {
   "cell_type": "markdown",
   "metadata": {},
   "source": [
    "### 0. Count numbers (*)\n",
    "- Use a for statement to count from:\n",
    "\n",
    "  - a)   -10 to 10 with one increment (*)\n",
    "\n",
    "  - b)   -10 to 10 with two increment (*)"
   ]
  },
  {
   "cell_type": "code",
   "execution_count": 30,
   "metadata": {},
   "outputs": [
    {
     "name": "stdout",
     "output_type": "stream",
     "text": [
      "-10 -9 -8 -7 -6 -5 -4 -3 -2 -1 0 1 2 3 4 5 6 7 8 9 10 "
     ]
    }
   ],
   "source": [
    "for num in range(-10 , 11):\n",
    "    print (num , end=\" \")\n",
    "\n"
   ]
  },
  {
   "cell_type": "code",
   "execution_count": 28,
   "metadata": {},
   "outputs": [
    {
     "name": "stdout",
     "output_type": "stream",
     "text": [
      "-10 -9 -8 -7 -6 -5 -4 -3 -2 -1 0 1 2 3 4 5 6 7 8 9 10 "
     ]
    }
   ],
   "source": [
    "for num in range(-12, 9):\n",
    "    num += 2\n",
    "    print(num , end= \" \")"
   ]
  },
  {
   "cell_type": "markdown",
   "metadata": {},
   "source": [
    "### 1. Arithmetic sum (*)\n",
    "- Use a for statement to compute the following sums:\n",
    "\n",
    " -  a) sum =  1+2 +....99 + 100  \n",
    "\n",
    "\n",
    "  - b) 1+ 3 +5 ..... 97 + 99   \n"
   ]
  },
  {
   "cell_type": "code",
   "execution_count": 23,
   "metadata": {},
   "outputs": [
    {
     "name": "stdout",
     "output_type": "stream",
     "text": [
      "5050\n"
     ]
    }
   ],
   "source": [
    "sum = 0\n",
    "\n",
    "for i in range(1, 101):\n",
    "    sum += i\n",
    "print(sum)"
   ]
  },
  {
   "cell_type": "code",
   "execution_count": 25,
   "metadata": {},
   "outputs": [
    {
     "name": "stdout",
     "output_type": "stream",
     "text": [
      "2500\n"
     ]
    }
   ],
   "source": [
    "sum = 0\n",
    "\n",
    "for i in range(1, 100 , 2):\n",
    "    sum += i\n",
    "print(sum)"
   ]
  },
  {
   "cell_type": "markdown",
   "metadata": {},
   "source": [
    "### 2. Multiplication table (*)\n",
    "- Use for statement(s) to:\n",
    "\n",
    "  - a)   print out the 6th multiplication table from 0 to 10 (*)\n",
    "\n",
    "  - b)   let the user input the table, start and end of the table. (*)\n",
    "\n",
    "  - c)   print out a full multiplication table from 0 to 10. (**)"
   ]
  },
  {
   "cell_type": "markdown",
   "metadata": {},
   "source": [
    "## Exercise-lists"
   ]
  },
  {
   "cell_type": "markdown",
   "metadata": {},
   "source": [
    "### 0. Dice rolls (*)\n",
    "- Simulate 10 dice rolls and append the rolls to a list or use list comprehension.\n",
    "\n",
    "  - a)   sort the list in ascending order (*)\n",
    "\n",
    "\n",
    " "
   ]
  },
  {
   "cell_type": "code",
   "execution_count": 15,
   "metadata": {},
   "outputs": [
    {
     "name": "stdout",
     "output_type": "stream",
     "text": [
      " Roll dice:  [4, 1, 5, 3, 2, 5, 2, 3, 1, 4]\n",
      "Sorted:  [1, 1, 2, 2, 3, 3, 4, 4, 5, 5]\n"
     ]
    }
   ],
   "source": [
    "import random\n",
    "\n",
    "roll_dice = [random.randint(1,6) for roll in range(10)]\n",
    "\n",
    "sorted_rolls_accending = sorted(roll_dice)\n",
    "\n",
    "print(\" Roll dice: \" , roll_dice)\n",
    "print(\"Sorted: \" , sorted_rolls_accending)"
   ]
  },
  {
   "cell_type": "markdown",
   "metadata": {},
   "source": [
    "- b)   sort the list in descending order (*)"
   ]
  },
  {
   "cell_type": "code",
   "execution_count": 22,
   "metadata": {},
   "outputs": [
    {
     "name": "stdout",
     "output_type": "stream",
     "text": [
      " Roll dice:  [5, 2, 3, 5, 5, 5, 6, 2, 5, 5]\n",
      "Sorted:  [2, 2, 3, 5, 5, 5, 5, 5, 5, 6]\n"
     ]
    }
   ],
   "source": [
    "import random\n",
    "\n",
    "roll_dice = [random.randint(1,6) for roll in range(10)]\n",
    "\n",
    "sorted_rolls_decending = sorted(roll_dice)\n",
    "\n",
    "print(\" Roll dice: \" , roll_dice)\n",
    "print(\"Sorted: \" , sorted_rolls_decending)"
   ]
  },
  {
   "cell_type": "markdown",
   "metadata": {},
   "source": [
    " - c)   find the maximum and minimum value in the list (*)"
   ]
  },
  {
   "cell_type": "code",
   "execution_count": 21,
   "metadata": {},
   "outputs": [
    {
     "name": "stdout",
     "output_type": "stream",
     "text": [
      "[1, 2, 6, 3, 3, 5, 3, 4, 3, 1]\n",
      "Minimum number : 1\n",
      "Maximum number : 6\n"
     ]
    }
   ],
   "source": [
    "import random\n",
    "\n",
    "roll_dice = [random.randint(1,6) for roll in range(10)]\n",
    "\n",
    "min_num = min(roll_dice)\n",
    "max_num = max(roll_dice)\n",
    "\n",
    "print(roll_dice)\n",
    "print(f\"Minimum number : {min_num}\")\n",
    "print(f\"Maximum number : {max_num}\")\n",
    "\n"
   ]
  },
  {
   "cell_type": "markdown",
   "metadata": {},
   "source": [
    "### 1. Food menu (*)\n",
    "- Create a:\n",
    "\n",
    "  - a)   list with the following elements: \"vegetarisk lasagne\", \"spaghetti\", \"fisk\", \"grönsakssoppa\", \"pannkakor\". (*)"
   ]
  },
  {
   "cell_type": "code",
   "execution_count": 27,
   "metadata": {},
   "outputs": [
    {
     "name": "stdout",
     "output_type": "stream",
     "text": [
      "1: vegetarisk lasagne\n",
      "2: spaghetti\n",
      "3: fisk\n",
      "4: grönsakssoppa\n",
      "5: pannkakor\n"
     ]
    }
   ],
   "source": [
    "veg_name = [\"vegetarisk lasagne\", \"spaghetti\", \"fisk\", \"grönsakssoppa\", \"pannkakor\"]\n",
    "\n",
    "for i, veg_name in enumerate(veg_name , 1):\n",
    "\n",
    "    print(f\"{i}: {veg_name}\")"
   ]
  },
  {
   "cell_type": "markdown",
   "metadata": {},
   "source": [
    " - b)   list with the weekdays (*)"
   ]
  },
  {
   "cell_type": "code",
   "execution_count": 41,
   "metadata": {},
   "outputs": [
    {
     "name": "stdout",
     "output_type": "stream",
     "text": [
      "1: Monday\n",
      "2: Tuesday\n",
      "3: Wednessday\n",
      "4: Thursday\n",
      "5: Friday\n",
      "6: Saturday\n",
      "7: Sunday\n"
     ]
    }
   ],
   "source": [
    "weekdays = [\"Monday\", \"Tuesday\",\"Wednessday\",\"Thursday\",\"Friday\",\"Saturday\",\"Sunday\"]\n",
    "\n",
    "for i ,weekdays in enumerate(weekdays , 1):\n",
    "    print(f\"{i}: {weekdays}\") "
   ]
  },
  {
   "cell_type": "markdown",
   "metadata": {},
   "source": [
    " - c)   create a food menu with each day corresponding to each food item and print it out."
   ]
  },
  {
   "cell_type": "code",
   "execution_count": 45,
   "metadata": {},
   "outputs": [
    {
     "name": "stdout",
     "output_type": "stream",
     "text": [
      "Monday: vegetarisk lasagne\n",
      "Tuesday: spaghetti\n",
      "Wednessday: fisk\n",
      "Thursday: grönsakssoppa\n",
      "Friday: pannkakor\n"
     ]
    }
   ],
   "source": [
    "veg_name = [\"vegetarisk lasagne\", \"spaghetti\", \"fisk\", \"grönsakssoppa\", \"pannkakor\"]\n",
    "\n",
    "weekdays = [\"Monday\", \"Tuesday\",\"Wednessday\",\"Thursday\",\"Friday\",\"Saturday\",\"Sunday\"]\n",
    "\n",
    "for weekdays , veg_name in zip(weekdays , veg_name):\n",
    "    print(f\"{weekdays}: {veg_name}\")"
   ]
  },
  {
   "cell_type": "markdown",
   "metadata": {},
   "source": [
    "### 2. Squares (*)\n",
    "  - a)   Use list comprehension to create a list of squares from -10 to 10 (*)\n",
    "\n"
   ]
  },
  {
   "cell_type": "code",
   "execution_count": 49,
   "metadata": {},
   "outputs": [
    {
     "name": "stdout",
     "output_type": "stream",
     "text": [
      "[100, 81, 64, 49, 36, 25, 16, 9, 4, 1, 0, 1, 4, 9, 16, 25, 36, 49, 64, 81, 100]\n"
     ]
    }
   ],
   "source": [
    "square = [x**2 for x in range(-10,11)]\n",
    "print(square)"
   ]
  },
  {
   "cell_type": "markdown",
   "metadata": {},
   "source": [
    "- b)   Plot this list using matplotlib. (*)"
   ]
  },
  {
   "cell_type": "code",
   "execution_count": 54,
   "metadata": {},
   "outputs": [
    {
     "data": {
      "image/png": "[encoded data removed]",
      "text/plain": [
       "<Figure size 640x480 with 1 Axes>"
      ]
     },
     "metadata": {},
     "output_type": "display_data"
    }
   ],
   "source": [
    "import matplotlib.pyplot as plt\n",
    "\n",
    "square = square = [x**2 for x in range(-10,11)]\n",
    "\n",
    "plt.plot(range(-10,11),square, label= \"square of x\")\n",
    "\n",
    "plt.xlabel(\"x\")\n",
    "plt.ylabel(\"square of x\")\n",
    "plt.title(\"Plot of square\")\n",
    "\n",
    "plt.legend()\n",
    "plt.show()\n",
    "\n",
    "\n"
   ]
  },
  {
   "cell_type": "markdown",
   "metadata": {},
   "source": [
    "### 3. Chessboard (**)\n",
    "  - a)   Create this list using list comprehension: (*)\n",
    "\n",
    "- ['A1', 'B1', 'C1', 'D1', 'E1', 'F1', 'G1', 'H1']\n",
    "  - b)   Create a 2D list to hold the coordinates in a chessboard. (**)\n",
    "\n"
   ]
  },
  {
   "cell_type": "markdown",
   "metadata": {},
   "source": [
    "### 4. Dice rolls convergence (**)\n",
    "-Simulate:\n",
    "\n",
    "  - a)   100 dice rolls and count the number of outcome six. (*)"
   ]
  },
  {
   "cell_type": "code",
   "execution_count": 59,
   "metadata": {},
   "outputs": [
    {
     "name": "stdout",
     "output_type": "stream",
     "text": [
      "Number of sixes come  23 times in 100\n"
     ]
    }
   ],
   "source": [
    "import random\n",
    "\n",
    "num_six = 0\n",
    "roll_dice = 100\n",
    "\n",
    "for i in range(roll_dice):\n",
    "    dice = random.randint(1,6)\n",
    "    if dice == 6:\n",
    "        num_six += 1\n",
    "\n",
    "print(f\"Number of sixes come  {num_six} times in {roll_dice}\")\n"
   ]
  },
  {
   "cell_type": "markdown",
   "metadata": {},
   "source": [
    "- b)   10, 100, 1000, 10000, 100000, 1000000 dice rolls. Count the number of outcome six in each simulation and store it in a list. Compute the probability of outcome six in each simulation. (**)"
   ]
  },
  {
   "cell_type": "code",
   "execution_count": 70,
   "metadata": {},
   "outputs": [
    {
     "name": "stdout",
     "output_type": "stream",
     "text": [
      "The probaility of gettin six  10 is   0.10 times\n",
      "The probaility of gettin six  100 is   0.16 times\n",
      "The probaility of gettin six  1000 is   0.17 times\n",
      "The probaility of gettin six  10000 is   0.17 times\n",
      "The probaility of gettin six  100000 is   0.17 times\n",
      "The probaility of gettin six  1000000 is   0.17 times\n"
     ]
    }
   ],
   "source": [
    "import random\n",
    "\n",
    "def similute_rolls_dics(dics_count):\n",
    "    num_six = sum(random.randint(1,6) ==6 for i in range(dics_count))\n",
    "\n",
    "    probability_six = num_six/dics_count\n",
    "    return probability_six\n",
    "\n",
    "roll_dice_count = [10, 100, 1000, 10000, 100000, 1000000]\n",
    "\n",
    "for dics_count in roll_dice_count:\n",
    "    probability_six = similute_rolls_dics(dics_count)\n",
    "    print(f\"The probaility of gettin six  {dics_count} is  {probability_six : .2f} times\")\n"
   ]
  },
  {
   "cell_type": "markdown",
   "metadata": {},
   "source": [
    "  - c)   Use matplotlib to plot this list. (*)"
   ]
  },
  {
   "cell_type": "code",
   "execution_count": null,
   "metadata": {},
   "outputs": [],
   "source": []
  },
  {
   "cell_type": "markdown",
   "metadata": {},
   "source": [
    "## Exercis-String"
   ]
  },
  {
   "cell_type": "markdown",
   "metadata": {},
   "source": [
    "# 0. Counting letters (*)\n",
    "-Let the user input a word:\n",
    "\n",
    "  "
   ]
  },
  {
   "cell_type": "code",
   "execution_count": 74,
   "metadata": {},
   "outputs": [
    {
     "name": "stdout",
     "output_type": "stream",
     "text": [
      "Hellow World\n"
     ]
    }
   ],
   "source": [
    "user = input(\"enter any word\")\n",
    "print(user)"
   ]
  },
  {
   "cell_type": "markdown",
   "metadata": {},
   "source": [
    "-a)   print out the number of letters in the word. (*)"
   ]
  },
  {
   "cell_type": "code",
   "execution_count": 75,
   "metadata": {},
   "outputs": [
    {
     "data": {
      "text/plain": [
       "12"
      ]
     },
     "execution_count": 75,
     "metadata": {},
     "output_type": "execute_result"
    }
   ],
   "source": [
    "len(user)"
   ]
  },
  {
   "cell_type": "markdown",
   "metadata": {},
   "source": [
    " -b)   print out the number of uppercase and lowercase letters of the word (*)\n",
    "\n"
   ]
  },
  {
   "cell_type": "code",
   "execution_count": 76,
   "metadata": {},
   "outputs": [
    {
     "name": "stdout",
     "output_type": "stream",
     "text": [
      "Hellow World has 2 upper case letters\n",
      "Hellow World has 9 upper case letters\n"
     ]
    }
   ],
   "source": [
    "word = user\n",
    "\n",
    "lowercase_count = 0\n",
    "uppercase_count = 0\n",
    "\n",
    "for char in word:\n",
    "    if char.islower():\n",
    "        lowercase_count += 1\n",
    "\n",
    "    elif char.isupper():\n",
    "        uppercase_count += 1\n",
    "\n",
    "\n",
    "print(f\"{user} has {uppercase_count} upper case letters\")\n",
    "print(f\"{user} has {lowercase_count} upper case letters\")"
   ]
  },
  {
   "cell_type": "markdown",
   "metadata": {},
   "source": [
    "## Pandas DataFrame"
   ]
  },
  {
   "cell_type": "code",
   "execution_count": null,
   "metadata": {},
   "outputs": [],
   "source": [
    "0. Cities in Sweden - create dataset (*)\n",
    "Create this DataFrame from scratch:\n",
    "\n",
    "Kommun\tPopulation\n",
    "0\tMalmö\t347949\n",
    "1\tStockholm\t975551\n",
    "2\tUppsala\t233839\n",
    "3\tGöteborg\t583056\n",
    "  a) Use your DataFrame to print out all the cities. (*)\n",
    "\n",
    "  b) Select only the row which contains Göteborg. Do this by using the name Göteborg. (*)\n",
    "\n",
    "  c) Sort the cities by population from largest to smallest. (*)\n",
    "\n",
    "  d) Filter out the three largest cities. (*)\n",
    "\n",
    "  e) The whole population in Sweden 2020 is 10379295. Use this number to create a new column in your sorted DataFrame named: Population (%). This column should be filled with percentage of the Swedish population for each city."
   ]
  },
  {
   "cell_type": "code",
   "execution_count": 6,
   "metadata": {},
   "outputs": [
    {
     "data": {
      "text/plain": [
       "Malmö         34949\n",
       "Stockholm    975551\n",
       "uppsala      233839\n",
       "Göteborg     583056\n",
       "dtype: int64"
      ]
     },
     "execution_count": 6,
     "metadata": {},
     "output_type": "execute_result"
    }
   ],
   "source": [
    "import pandas as pd\n",
    "\n",
    "data ={\"Malmö\": 34949 , \"Stockholm\": 975551, \"uppsala\": 233839, \"Göteborg\": 583056}\n",
    "\n",
    "series = pd.Series(data)\n",
    "series\n",
    "\n"
   ]
  },
  {
   "cell_type": "code",
   "execution_count": 8,
   "metadata": {},
   "outputs": [
    {
     "data": {
      "text/html": [
       "<div>\n",
       "<style scoped>\n",
       "    .dataframe tbody tr th:only-of-type {\n",
       "        vertical-align: middle;\n",
       "    }\n",
       "\n",
       "    .dataframe tbody tr th {\n",
       "        vertical-align: top;\n",
       "    }\n",
       "\n",
       "    .dataframe thead th {\n",
       "        text-align: right;\n",
       "    }\n",
       "</style>\n",
       "<table border=\"1\" class=\"dataframe\">\n",
       "  <thead>\n",
       "    <tr style=\"text-align: right;\">\n",
       "      <th></th>\n",
       "      <th>Population</th>\n",
       "    </tr>\n",
       "  </thead>\n",
       "  <tbody>\n",
       "    <tr>\n",
       "      <th>Malmö</th>\n",
       "      <td>34949</td>\n",
       "    </tr>\n",
       "    <tr>\n",
       "      <th>Stockholm</th>\n",
       "      <td>975551</td>\n",
       "    </tr>\n",
       "    <tr>\n",
       "      <th>uppsala</th>\n",
       "      <td>233839</td>\n",
       "    </tr>\n",
       "    <tr>\n",
       "      <th>Göteborg</th>\n",
       "      <td>583056</td>\n",
       "    </tr>\n",
       "  </tbody>\n",
       "</table>\n",
       "</div>"
      ],
      "text/plain": [
       "           Population\n",
       "Malmö           34949\n",
       "Stockholm      975551\n",
       "uppsala        233839\n",
       "Göteborg       583056"
      ]
     },
     "execution_count": 8,
     "metadata": {},
     "output_type": "execute_result"
    }
   ],
   "source": [
    "df_program = pd.DataFrame(series , columns= [\"Population\"])\n",
    "df_program"
   ]
  }
 ],
 "metadata": {
  "kernelspec": {
   "display_name": "venv",
   "language": "python",
   "name": "python3"
  },
  "language_info": {
   "codemirror_mode": {
    "name": "ipython",
    "version": 3
   },
   "file_extension": ".py",
   "mimetype": "text/x-python",
   "name": "python",
   "nbconvert_exporter": "python",
   "pygments_lexer": "ipython3",
   "version": "3.9.6"
  }
 },
 "nbformat": 4,
 "nbformat_minor": 2
}
