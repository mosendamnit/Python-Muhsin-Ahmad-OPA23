{
 "cells": [
  {
   "cell_type": "markdown",
   "metadata": {},
   "source": [
    "# Python fundamentals Continued"
   ]
  },
  {
   "cell_type": "markdown",
   "metadata": {},
   "source": [
    "## if- statsments\n",
    "\n",
    "- if\n",
    "- if - else\n",
    "- if - elif - else\n",
    "- oneline if-statements"
   ]
  },
  {
   "cell_type": "code",
   "execution_count": 3,
   "metadata": {},
   "outputs": [
    {
     "name": "stdout",
     "output_type": "stream",
     "text": [
      "Accuray level is  0.3, which is a bad performance\n"
     ]
    }
   ],
   "source": [
    "accuracy = .3\n",
    "\n",
    "if accuracy > .9:\n",
    "    model_performance = \"Good\"\n",
    "elif accuracy > 5:\n",
    "    model_performance = \"Moderate\"\n",
    "else:\n",
    "    model_performance = \"Bad\"\n",
    "\n",
    "print(f\"Accuray level is  {accuracy}, which is a {model_performance.lower()} performance\")"
   ]
  },
  {
   "cell_type": "code",
   "execution_count": 4,
   "metadata": {},
   "outputs": [
    {
     "data": {
      "text/plain": [
       "'Not Good'"
      ]
     },
     "execution_count": 4,
     "metadata": {},
     "output_type": "execute_result"
    }
   ],
   "source": [
    "# ternary operator : ? : \n",
    "performance = \"Good\" if accuracy > .9 else \"Not Good\"\n",
    "performance"
   ]
  },
  {
   "cell_type": "markdown",
   "metadata": {},
   "source": [
    "# while-statement\n",
    "\n",
    "- \"if-loop\"\n",
    "\n",
    "## Example - oil leakage\n",
    "There is an oil leakage causing the bird population in an island to 1/2 in each year. From start there were 80000 birds, how many years does it take for it to have 1/10 remaining?"
   ]
  },
  {
   "cell_type": "code",
   "execution_count": 5,
   "metadata": {},
   "outputs": [
    {
     "data": {
      "text/plain": [
       "4"
      ]
     },
     "execution_count": 5,
     "metadata": {},
     "output_type": "execute_result"
    }
   ],
   "source": [
    "birds = 80000\n",
    "year = 0\n",
    "\n",
    "while birds > 8000:\n",
    "    # assignment operator\n",
    "    birds /= 2 # birds = birds/2\n",
    "    year += 1 # year = year + 1\n",
    "\n",
    "year"
   ]
  },
  {
   "cell_type": "markdown",
   "metadata": {},
   "source": [
    "## for_statement"
   ]
  },
  {
   "cell_type": "code",
   "execution_count": 45,
   "metadata": {},
   "outputs": [
    {
     "name": "stdout",
     "output_type": "stream",
     "text": [
      "K-means\n",
      "PCA\n",
      "GMM\n"
     ]
    }
   ],
   "source": [
    "unsupervised_abbreviations = [\"K-means\", \"PCA\", \"GMM\"]\n",
    "unsupervised_algorithms = [\"K_mean clustering\", \"Principal  component analysis\", \"Gaussian Mixture Models\"]\n",
    "\n",
    "#iterate throgh a list\n",
    "for abbreviation in unsupervised_abbreviations:\n",
    "    print(abbreviation)"
   ]
  },
  {
   "cell_type": "code",
   "execution_count": 46,
   "metadata": {},
   "outputs": [
    {
     "name": "stdout",
     "output_type": "stream",
     "text": [
      "0 K-means\n",
      "1 PCA\n",
      "2 GMM\n"
     ]
    }
   ],
   "source": [
    "for i , abbreviation in enumerate(unsupervised_abbreviations):\n",
    "    print(i , abbreviation)"
   ]
  },
  {
   "cell_type": "code",
   "execution_count": 48,
   "metadata": {},
   "outputs": [
    {
     "name": "stdout",
     "output_type": "stream",
     "text": [
      "1 K-means\n",
      "2 PCA\n",
      "3 GMM\n"
     ]
    }
   ],
   "source": [
    "for i, abbreviation in enumerate(unsupervised_abbreviations, 1):\n",
    "    print(i , abbreviation)"
   ]
  },
  {
   "cell_type": "code",
   "execution_count": 49,
   "metadata": {},
   "outputs": [
    {
     "name": "stdout",
     "output_type": "stream",
     "text": [
      "K-means: K_mean clustering\n",
      "PCA: Principal  component analysis\n",
      "GMM: Gaussian Mixture Models\n"
     ]
    }
   ],
   "source": [
    "for abbreviation, full_name in zip(unsupervised_abbreviations , unsupervised_algorithms):\n",
    "    print(f\"{abbreviation}: {full_name}\")"
   ]
  },
  {
   "cell_type": "code",
   "execution_count": 16,
   "metadata": {},
   "outputs": [
    {
     "name": "stdout",
     "output_type": "stream",
     "text": [
      "0 hej\n",
      "1 hej\n",
      "2 hej\n",
      "3 hej\n",
      "4 hej\n"
     ]
    }
   ],
   "source": [
    "for i in range(5):\n",
    "    print(i , \"hej\")"
   ]
  },
  {
   "cell_type": "markdown",
   "metadata": {},
   "source": [
    "## Dictionary\n",
    "\n",
    "- mapping keys to values\n",
    "- a value is associated with key"
   ]
  },
  {
   "cell_type": "code",
   "execution_count": 30,
   "metadata": {},
   "outputs": [
    {
     "data": {
      "text/plain": [
       "{'name': 'Mohsin', 'age': 33.8, 'love_math': True}"
      ]
     },
     "execution_count": 30,
     "metadata": {},
     "output_type": "execute_result"
    }
   ],
   "source": [
    "person = dict(name = \"Mohsin\" , age = 33.8 , love_math = True)\n",
    "person"
   ]
  },
  {
   "cell_type": "code",
   "execution_count": 36,
   "metadata": {},
   "outputs": [
    {
     "data": {
      "text/plain": [
       "dict_keys(['name', 'age', 'love_math'])"
      ]
     },
     "execution_count": 36,
     "metadata": {},
     "output_type": "execute_result"
    }
   ],
   "source": [
    "person.keys()"
   ]
  },
  {
   "cell_type": "code",
   "execution_count": 37,
   "metadata": {},
   "outputs": [
    {
     "data": {
      "text/plain": [
       "('Mohsin', True)"
      ]
     },
     "execution_count": 37,
     "metadata": {},
     "output_type": "execute_result"
    }
   ],
   "source": [
    "person[\"name\"] , person[\"love_math\"]"
   ]
  },
  {
   "cell_type": "code",
   "execution_count": 31,
   "metadata": {},
   "outputs": [
    {
     "name": "stdout",
     "output_type": "stream",
     "text": [
      "name : Mohsin\n",
      "age : 33.8\n",
      "love_math : True\n"
     ]
    }
   ],
   "source": [
    "for key in person:\n",
    "    print(key, \":\" , person[key])"
   ]
  },
  {
   "cell_type": "code",
   "execution_count": 32,
   "metadata": {},
   "outputs": [
    {
     "name": "stdout",
     "output_type": "stream",
     "text": [
      "name : Mohsin\n",
      "age : 33.8\n",
      "love_math : True\n"
     ]
    }
   ],
   "source": [
    "for key , value in person.items():\n",
    "    print(f\"{key} : {value}\")"
   ]
  },
  {
   "cell_type": "code",
   "execution_count": 40,
   "metadata": {},
   "outputs": [
    {
     "data": {
      "text/plain": [
       "{'name': 'Mohsin', 'age': 33.8, 'love_math': True}"
      ]
     },
     "execution_count": 40,
     "metadata": {},
     "output_type": "execute_result"
    }
   ],
   "source": [
    "# syntax with {} to create dictionary\n",
    "person2 = {\"name\": \"Mohsin\" , \"age\": 33.8, \"love_math\": True} \n",
    "person2"
   ]
  },
  {
   "cell_type": "code",
   "execution_count": 41,
   "metadata": {},
   "outputs": [
    {
     "data": {
      "text/plain": [
       "True"
      ]
     },
     "execution_count": 41,
     "metadata": {},
     "output_type": "execute_result"
    }
   ],
   "source": [
    "person == person2"
   ]
  },
  {
   "cell_type": "code",
   "execution_count": 42,
   "metadata": {},
   "outputs": [
    {
     "data": {
      "text/plain": [
       "('0x10b76f280', '0x10b6fb4c0')"
      ]
     },
     "execution_count": 42,
     "metadata": {},
     "output_type": "execute_result"
    }
   ],
   "source": [
    "# two different memory addresse for the different objects\n",
    "hex(id(person)) , hex(id(person2))"
   ]
  }
 ],
 "metadata": {
  "kernelspec": {
   "display_name": "venv",
   "language": "python",
   "name": "python3"
  },
  "language_info": {
   "codemirror_mode": {
    "name": "ipython",
    "version": 3
   },
   "file_extension": ".py",
   "mimetype": "text/x-python",
   "name": "python",
   "nbconvert_exporter": "python",
   "pygments_lexer": "ipython3",
   "version": "3.9.6"
  }
 },
 "nbformat": 4,
 "nbformat_minor": 2
}
