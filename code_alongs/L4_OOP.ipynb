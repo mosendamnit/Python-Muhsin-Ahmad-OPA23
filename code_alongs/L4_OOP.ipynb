{
 "cells": [
  {
   "cell_type": "markdown",
   "metadata": {},
   "source": [
    "## Object Oriented Programming / Fundamentals"
   ]
  },
  {
   "cell_type": "code",
   "execution_count": 11,
   "metadata": {},
   "outputs": [
    {
     "name": "stdout",
     "output_type": "stream",
     "text": [
      "Dunder init running\n"
     ]
    },
    {
     "data": {
      "text/plain": [
       "<__main__.Antagning at 0x10d3a5e50>"
      ]
     },
     "execution_count": 11,
     "metadata": {},
     "output_type": "execute_result"
    }
   ],
   "source": [
    "class Antagning:\n",
    "    # dunder init (special method) marked by double underscores on either sides\n",
    "    def __init__(self , school , program , name , accept):\n",
    "        print(\"Dunder init running\")\n",
    "        self.school = school\n",
    "        self.program = program\n",
    "        self.name = name \n",
    "        self.accept = accept\n",
    "    # instantiedted an instance from the class Antagning and assigned it to student1 variable \n",
    "\n",
    "student1 = Antagning(\"Handelsakedim\",\"AI\", \"Mohsin\", True)\n",
    "student1"
   ]
  },
  {
   "cell_type": "code",
   "execution_count": 12,
   "metadata": {},
   "outputs": [
    {
     "data": {
      "text/plain": [
       "('Mohsin', True)"
      ]
     },
     "execution_count": 12,
     "metadata": {},
     "output_type": "execute_result"
    }
   ],
   "source": [
    "student1.name , student1.accept"
   ]
  },
  {
   "cell_type": "code",
   "execution_count": 13,
   "metadata": {},
   "outputs": [
    {
     "data": {
      "text/plain": [
       "'Javascript developer'"
      ]
     },
     "execution_count": 13,
     "metadata": {},
     "output_type": "execute_result"
    }
   ],
   "source": [
    "# changed the state\n",
    "\n",
    "student1.program = \"Javascript developer\"\n",
    "student1.program"
   ]
  },
  {
   "cell_type": "code",
   "execution_count": 14,
   "metadata": {},
   "outputs": [
    {
     "name": "stdout",
     "output_type": "stream",
     "text": [
      "Dunder init running\n"
     ]
    },
    {
     "data": {
      "text/plain": [
       "<__main__.Antagning at 0x10d1b39a0>"
      ]
     },
     "execution_count": 14,
     "metadata": {},
     "output_type": "execute_result"
    }
   ],
   "source": [
    "student2 = Antagning(\"Handelsakdemin\" , \"UX\", \"Nala\" , False)\n",
    "student2"
   ]
  },
  {
   "cell_type": "code",
   "execution_count": 15,
   "metadata": {},
   "outputs": [
    {
     "name": "stdout",
     "output_type": "stream",
     "text": [
      "Dunder init running\n"
     ]
    },
    {
     "data": {
      "text/plain": [
       "<__main__.Antagning at 0x10d340430>"
      ]
     },
     "execution_count": 15,
     "metadata": {},
     "output_type": "execute_result"
    }
   ],
   "source": [
    "student3 = Antagning(\"Handelsakedemin\", \"AI\",3213,84923448024)\n",
    "student3"
   ]
  },
  {
   "cell_type": "markdown",
   "metadata": {},
   "source": [
    "## \\_\\_ repr\\_\\_\n",
    "\n",
    "- dunder \"repper\" -method for representing an instance"
   ]
  },
  {
   "cell_type": "code",
   "execution_count": 19,
   "metadata": {},
   "outputs": [
    {
     "name": "stdout",
     "output_type": "stream",
     "text": [
      "Dunder init running\n"
     ]
    },
    {
     "data": {
      "text/plain": [
       "Antagning(school ='Handelsakdemin', program='UX', name= 'Nala', accept=False)"
      ]
     },
     "execution_count": 19,
     "metadata": {},
     "output_type": "execute_result"
    }
   ],
   "source": [
    "class Antagning:\n",
    "    # dunder init (special method) marked by double underscores on either sides\n",
    "    def __init__(self , school , program , name , accept):\n",
    "        print(\"Dunder init running\")\n",
    "        self.school = school\n",
    "        self.program = program\n",
    "        self.name = name \n",
    "        self.accept = accept\n",
    "    def __repr__(self) -> str:\n",
    "        return f\"Antagning(school ='{self.school}', program='{self.program}', name= '{self.name}', accept={self.accept})\"\n",
    "Antagning(\"Handelsakdemin\" , \"UX\", \"Nala\" , False)"
   ]
  },
  {
   "cell_type": "markdown",
   "metadata": {},
   "source": [
    "## Encapsulation"
   ]
  },
  {
   "cell_type": "code",
   "execution_count": 50,
   "metadata": {},
   "outputs": [
    {
     "data": {
      "text/plain": [
       "Patient('Nala ', 'Ill')"
      ]
     },
     "execution_count": 50,
     "metadata": {},
     "output_type": "execute_result"
    }
   ],
   "source": [
    "class Patient:\n",
    "    def __init__(self,name , diagnosis) -> None:\n",
    "        self._name = name\n",
    "        self.__diagnosis = diagnosis\n",
    "\n",
    "    def __repr__(self):\n",
    "\n",
    "        return f\"Patient('{self._name}', '{self.__diagnosis}')\"\n",
    "    \n",
    "petient1 = Patient(\"Nala \", \"Ill\")\n",
    "petient1"
   ]
  },
  {
   "cell_type": "code",
   "execution_count": 51,
   "metadata": {},
   "outputs": [
    {
     "data": {
      "text/plain": [
       "'Nala '"
      ]
     },
     "execution_count": 51,
     "metadata": {},
     "output_type": "execute_result"
    }
   ],
   "source": [
    "# we can acces \"Private\" attributes, but shuldnt\n",
    "\n",
    "petient1._name"
   ]
  },
  {
   "cell_type": "code",
   "execution_count": 52,
   "metadata": {},
   "outputs": [
    {
     "ename": "AttributeError",
     "evalue": "'Patient' object has no attribute '__diagnosis'",
     "output_type": "error",
     "traceback": [
      "\u001b[0;31m---------------------------------------------------------------------------\u001b[0m",
      "\u001b[0;31mAttributeError\u001b[0m                            Traceback (most recent call last)",
      "Cell \u001b[0;32mIn[52], line 2\u001b[0m\n\u001b[1;32m      1\u001b[0m \u001b[38;5;66;03m# two underscores gives name mangling\u001b[39;00m\n\u001b[0;32m----> 2\u001b[0m \u001b[43mpetient1\u001b[49m\u001b[38;5;241;43m.\u001b[39;49m\u001b[43m__diagnosis\u001b[49m\n",
      "\u001b[0;31mAttributeError\u001b[0m: 'Patient' object has no attribute '__diagnosis'"
     ]
    }
   ],
   "source": [
    "# two underscores gives name mangling\n",
    "petient1.__diagnosis"
   ]
  },
  {
   "cell_type": "code",
   "execution_count": 53,
   "metadata": {},
   "outputs": [
    {
     "data": {
      "text/plain": [
       "{'_name': 'Nala ', '_Patient__diagnosis': 'Ill'}"
      ]
     },
     "execution_count": 53,
     "metadata": {},
     "output_type": "execute_result"
    }
   ],
   "source": [
    "petient1.__dict__"
   ]
  },
  {
   "cell_type": "code",
   "execution_count": 54,
   "metadata": {},
   "outputs": [
    {
     "data": {
      "text/plain": [
       "'Ill'"
      ]
     },
     "execution_count": 54,
     "metadata": {},
     "output_type": "execute_result"
    }
   ],
   "source": [
    "petient1._Patient__diagnosis"
   ]
  },
  {
   "cell_type": "markdown",
   "metadata": {},
   "source": [
    "## Larger Example "
   ]
  },
  {
   "cell_type": "code",
   "execution_count": 30,
   "metadata": {},
   "outputs": [
    {
     "data": {
      "text/plain": [
       "(12, 323)"
      ]
     },
     "execution_count": 30,
     "metadata": {},
     "output_type": "execute_result"
    }
   ],
   "source": [
    "from numbers import Number\n",
    "\n",
    "class OldcoinStash:\n",
    "    def __init__(self, Owner) -> None:\n",
    "        self.Owner = Owner\n",
    "\n",
    "        #private\n",
    "        \n",
    "        self._riksdaler = 0\n",
    "        self._skilling = 0\n",
    "    \n",
    "    def deposit(self, riksdaler, skilling):\n",
    "        if not isinstance(riksdaler, Number) or not isinstance(skilling, Number):\n",
    "            raise TypeError(f\"Riksdaler and skilling must be number\")\n",
    "\n",
    "        if riksdaler <= 0 or skilling <= 0:\n",
    "            raise ValueError(f\"Not valid: You tired to deposite {riksdaler} riksdaler and {skilling} skilling\")\n",
    "        \n",
    "\n",
    "        self._riksdaler = riksdaler\n",
    "        self._skilling = skilling\n",
    "    \n",
    "stash1 = OldcoinStash(\"Nala\")\n",
    "stash1.deposit(323,12)\n",
    "stash1._skilling , stash1._riksdaler\n"
   ]
  },
  {
   "cell_type": "code",
   "execution_count": 31,
   "metadata": {},
   "outputs": [
    {
     "ename": "TypeError",
     "evalue": "Riksdaler and skilling must be number",
     "output_type": "error",
     "traceback": [
      "\u001b[0;31m---------------------------------------------------------------------------\u001b[0m",
      "\u001b[0;31mTypeError\u001b[0m                                 Traceback (most recent call last)",
      "Cell \u001b[0;32mIn[31], line 1\u001b[0m\n\u001b[0;32m----> 1\u001b[0m \u001b[43mstash1\u001b[49m\u001b[38;5;241;43m.\u001b[39;49m\u001b[43mdeposit\u001b[49m\u001b[43m(\u001b[49m\u001b[38;5;124;43m\"\u001b[39;49m\u001b[38;5;124;43m50\u001b[39;49m\u001b[38;5;124;43m\"\u001b[39;49m\u001b[43m,\u001b[49m\u001b[43m \u001b[49m\u001b[38;5;124;43m\"\u001b[39;49m\u001b[38;5;124;43m30\u001b[39;49m\u001b[38;5;124;43m\"\u001b[39;49m\u001b[43m)\u001b[49m\n",
      "Cell \u001b[0;32mIn[30], line 14\u001b[0m, in \u001b[0;36mOldcoinStash.deposit\u001b[0;34m(self, riksdaler, skilling)\u001b[0m\n\u001b[1;32m     12\u001b[0m \u001b[38;5;28;01mdef\u001b[39;00m \u001b[38;5;21mdeposit\u001b[39m(\u001b[38;5;28mself\u001b[39m, riksdaler, skilling):\n\u001b[1;32m     13\u001b[0m     \u001b[38;5;28;01mif\u001b[39;00m \u001b[38;5;129;01mnot\u001b[39;00m \u001b[38;5;28misinstance\u001b[39m(riksdaler, Number) \u001b[38;5;129;01mor\u001b[39;00m \u001b[38;5;129;01mnot\u001b[39;00m \u001b[38;5;28misinstance\u001b[39m(skilling, Number):\n\u001b[0;32m---> 14\u001b[0m         \u001b[38;5;28;01mraise\u001b[39;00m \u001b[38;5;167;01mTypeError\u001b[39;00m(\u001b[38;5;124mf\u001b[39m\u001b[38;5;124m\"\u001b[39m\u001b[38;5;124mRiksdaler and skilling must be number\u001b[39m\u001b[38;5;124m\"\u001b[39m)\n\u001b[1;32m     16\u001b[0m     \u001b[38;5;28;01mif\u001b[39;00m riksdaler \u001b[38;5;241m<\u001b[39m\u001b[38;5;241m=\u001b[39m \u001b[38;5;241m0\u001b[39m \u001b[38;5;129;01mor\u001b[39;00m skilling \u001b[38;5;241m<\u001b[39m\u001b[38;5;241m=\u001b[39m \u001b[38;5;241m0\u001b[39m:\n\u001b[1;32m     17\u001b[0m         \u001b[38;5;28;01mraise\u001b[39;00m \u001b[38;5;167;01mValueError\u001b[39;00m(\u001b[38;5;124mf\u001b[39m\u001b[38;5;124m\"\u001b[39m\u001b[38;5;124mNot valid: You tired to deposite \u001b[39m\u001b[38;5;132;01m{\u001b[39;00mriksdaler\u001b[38;5;132;01m}\u001b[39;00m\u001b[38;5;124m riksdaler and \u001b[39m\u001b[38;5;132;01m{\u001b[39;00mskilling\u001b[38;5;132;01m}\u001b[39;00m\u001b[38;5;124m skilling\u001b[39m\u001b[38;5;124m\"\u001b[39m)\n",
      "\u001b[0;31mTypeError\u001b[0m: Riksdaler and skilling must be number"
     ]
    }
   ],
   "source": [
    "stash1.deposit(\"50\", \"30\")"
   ]
  },
  {
   "cell_type": "code",
   "execution_count": 33,
   "metadata": {},
   "outputs": [
    {
     "name": "stdout",
     "output_type": "stream",
     "text": [
      "coins in stash: 100 riksdaler , 60 skilling \n",
      "coins in stash: 30 riksdaler , 20 skilling \n"
     ]
    }
   ],
   "source": [
    "from numbers import Number\n",
    "\n",
    "class OldcoinStash:\n",
    "    def __init__(self, Owner) -> None:\n",
    "        self.Owner = Owner\n",
    "\n",
    "        #private\n",
    "        \n",
    "        self._riksdaler = 0\n",
    "        self._skilling = 0\n",
    "    \n",
    "    def deposit(self, riksdaler, skilling):\n",
    "        if not isinstance(riksdaler, Number) or not isinstance(skilling, Number):\n",
    "            raise TypeError(f\"Riksdaler and skilling must be number\")\n",
    "\n",
    "        if riksdaler <= 0 or skilling <= 0:\n",
    "            raise ValueError(f\"Not valid: You tired to deposite {riksdaler} riksdaler and {skilling} skilling\")\n",
    "        \n",
    "\n",
    "        self._riksdaler += riksdaler\n",
    "        self._skilling += skilling\n",
    "\n",
    "    def withdraw(self, riksdaler, skilling):\n",
    "\n",
    "        # left for reader \n",
    "        # do type cheking and value checking\n",
    "\n",
    "        self._riksdaler = riksdaler\n",
    "        self._skilling = skilling\n",
    "\n",
    "    def check_balance(self):\n",
    "        print(f\"coins in stash: {self._riksdaler} riksdaler , {self._skilling} skilling \")  \n",
    "    \n",
    "\n",
    "stash1 = OldcoinStash(\"Rangnar Lothbroke\")\n",
    "stash1.deposit(50,30)\n",
    "stash1.deposit(50,30)\n",
    "stash1.check_balance()\n",
    "\n",
    "stash1.withdraw(30,20)\n",
    "stash1.check_balance()\n"
   ]
  },
  {
   "cell_type": "markdown",
   "metadata": {},
   "source": [
    "## Property\n",
    "\n",
    "-difference between other languages\n",
    "    - Python has dot-syntax for both getter and setter eg\n",
    "    - student1.name -> getter \n",
    "    - student1.name = \"Hanna\" -> setter"
   ]
  },
  {
   "cell_type": "code",
   "execution_count": 42,
   "metadata": {},
   "outputs": [
    {
     "name": "stdout",
     "output_type": "stream",
     "text": [
      "can't set attribute\n",
      "Nala\n",
      "Age must be between 0 to 125, not 126.0\n"
     ]
    },
    {
     "data": {
      "text/plain": [
       "55.0"
      ]
     },
     "execution_count": 42,
     "metadata": {},
     "output_type": "execute_result"
    }
   ],
   "source": [
    "from numbers import Number\n",
    "\n",
    "class student:\n",
    "    \"\"\"Student class for representing students with name , age and active\"\"\"\n",
    "\n",
    "    def __init__(self, name:str, age : int, active : bool) -> None:\n",
    "        self._name = name \n",
    "        self.age = age\n",
    "        self._active = active\n",
    "\n",
    "    \n",
    "    # decorator\n",
    "    @property\n",
    "\n",
    "    def name(self):  #getter\n",
    "        \"\"\"Read-only property,cant set name\"\"\"\n",
    "        return self._name\n",
    "    \n",
    "    @property\n",
    "    def age(self):\n",
    "        return self._age\n",
    "\n",
    "    @age.setter\n",
    "    def age(self , value: float):\n",
    "        \"\"\"setter for age with error handling\"\"\"\n",
    "\n",
    "        value = float(value)\n",
    "\n",
    "        if not isinstance(value, Number):\n",
    "            raise TypeError(f\"Age must be a number not {type(value)}\")\n",
    "        \n",
    "\n",
    "        if not (0<= value <= 125):\n",
    "            raise ValueError(f\"Age must be between 0 to 125, not {value}\")\n",
    "        \n",
    "\n",
    "        self._age = value\n",
    "\n",
    "student1 = student(\"Nala\", 2, True)\n",
    "try:\n",
    "\n",
    "    student1.name = \"Gore Bord\"\n",
    "except AttributeError as err:\n",
    "    print(err)\n",
    "\n",
    "\n",
    "print(student1.name)\n",
    "\n",
    "try:\n",
    "    student1.age = 126\n",
    "except ValueError as err:\n",
    "    print(err)\n",
    "\n",
    "    \n",
    "student1.age = 55\n",
    "student1.age\n",
    "        "
   ]
  },
  {
   "cell_type": "code",
   "execution_count": null,
   "metadata": {},
   "outputs": [],
   "source": []
  }
 ],
 "metadata": {
  "kernelspec": {
   "display_name": "venv",
   "language": "python",
   "name": "python3"
  },
  "language_info": {
   "codemirror_mode": {
    "name": "ipython",
    "version": 3
   },
   "file_extension": ".py",
   "mimetype": "text/x-python",
   "name": "python",
   "nbconvert_exporter": "python",
   "pygments_lexer": "ipython3",
   "version": "3.9.6"
  }
 },
 "nbformat": 4,
 "nbformat_minor": 2
}
