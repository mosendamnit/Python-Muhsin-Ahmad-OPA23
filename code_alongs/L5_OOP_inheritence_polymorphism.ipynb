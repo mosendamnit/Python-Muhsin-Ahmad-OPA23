{
 "cells": [
  {
   "cell_type": "markdown",
   "metadata": {},
   "source": [
    "## Code alongs -OOP polymorsphism and interitance"
   ]
  },
  {
   "cell_type": "code",
   "execution_count": 3,
   "metadata": {},
   "outputs": [
    {
     "data": {
      "text/plain": [
       "OldCoinStash(owner='Ragnar')"
      ]
     },
     "execution_count": 3,
     "metadata": {},
     "output_type": "execute_result"
    }
   ],
   "source": [
    "from helper_modules.oldcoins import OldCoinsStash\n",
    "\n",
    "OldCoinsStash(\"Ragnar\")"
   ]
  },
  {
   "cell_type": "code",
   "execution_count": 4,
   "metadata": {},
   "outputs": [
    {
     "name": "stdout",
     "output_type": "stream",
     "text": [
      "Person Mohsin says hi\n",
      "Age must be a number not <class 'str'>\n"
     ]
    }
   ],
   "source": [
    "from numbers import Number\n",
    "class Person:\n",
    "    \"\"\"Base class with gerneric methods and attributes shared by all subclasses\"\"\"\n",
    "    def __init__(self , name: str, age: int) -> None:\n",
    "        self.age = age\n",
    "        self.name = name\n",
    "\n",
    "    @property\n",
    "    def age(self) -> int:\n",
    "        return self._age\n",
    "    \n",
    "    @age.setter\n",
    "    def age(self , value: int) -> None:\n",
    "        if not isinstance(value, Number):\n",
    "            raise TypeError(f\"Age must be a number not {type(value)}\")\n",
    "        \n",
    "\n",
    "        # validate the age is valid age\n",
    "        # VALIDATION CODE GOES HERE\n",
    "\n",
    "\n",
    "        self._age = value\n",
    "\n",
    "\n",
    "    # property for name  with validation code in setter\n",
    "        \n",
    "    def say_hi(self) -> None:\n",
    "        print(f\"Person {self.name} says hi\")\n",
    "\n",
    "\n",
    "\n",
    "p1 = Person(\"Mohsin\" , 33)\n",
    "p1.say_hi()\n",
    "\n",
    "try:\n",
    "    p2 = Person(\"Petter\", \"Trettiofem\")\n",
    "except TypeError as err:\n",
    "    print(err)"
   ]
  },
  {
   "cell_type": "code",
   "execution_count": 8,
   "metadata": {},
   "outputs": [
    {
     "name": "stdout",
     "output_type": "stream",
     "text": [
      "Student Nala  talks Pyhton\n",
      "Age must be a number not <class 'str'>\n"
     ]
    }
   ],
   "source": [
    "# student inheritence from Person \n",
    "class Student(Person):\n",
    "    \"\"\"A student is a person that knows a language\"\"\"\n",
    "    def __init__(self, name: str, age: int , language: str) -> None:\n",
    "        super().__init__(name, age) # use parents class dunder init\n",
    "\n",
    "\n",
    "        self.language = language\n",
    "    \n",
    "    # overrides say_hi\n",
    "    \n",
    "    def say_hi(self) -> None:\n",
    "        print(f\"Student {self.name} talks {self.language}\")\n",
    "\n",
    "\n",
    "s1 = Student(\"Nala \" , 2 , \"Pyhton\")\n",
    "s1.say_hi()\n",
    "\n",
    "\n",
    "\n",
    "\n",
    "#Validatrion code for age is taken from parents age property\n",
    "try:\n",
    "    s2 = Student(\"Hanna\", \"twenty-two\", \"C#\")\n",
    "except TypeError as err:\n",
    "    print(err)\n",
    "    "
   ]
  },
  {
   "cell_type": "code",
   "execution_count": 9,
   "metadata": {},
   "outputs": [
    {
     "name": "stdout",
     "output_type": "stream",
     "text": [
      "Person Bear says hi\n"
     ]
    }
   ],
   "source": [
    "class Viking(Person):\n",
    "    \"\"\" vivking is a Person , viking has an OldCoinsStash\"\"\"\n",
    "    def __init__(self, name: str, age: int) -> None:\n",
    "        super().__init__(name, age)\n",
    "\n",
    "\n",
    "        #compostion - \"has a\" realtion while inheritence \" is a\" relation\n",
    "\n",
    "\n",
    "        self.stash = OldCoinsStash(name)\n",
    "\n",
    "v1 = Viking(\"Bear\" , 36)\n",
    "v1.say_hi()    "
   ]
  },
  {
   "cell_type": "code",
   "execution_count": 10,
   "metadata": {},
   "outputs": [
    {
     "name": "stdout",
     "output_type": "stream",
     "text": [
      "Person Mohsin says hi\n",
      "Student Nala  talks Pyhton\n",
      "Person Bear says hi\n"
     ]
    }
   ],
   "source": [
    "people = (p1 ,s1 , v1)\n",
    "\n",
    "#polymorphism\n",
    "for person in people:\n",
    "\n",
    "    #dos different things for different types\n",
    "    person.say_hi()"
   ]
  },
  {
   "cell_type": "markdown",
   "metadata": {},
   "source": [
    "## Operator Overloading\n",
    "\n",
    "<div style=\"max-width:66ch;\">\n",
    " \n",
    "---\n",
    "## Operator overloading\n",
    " \n",
    "Ability to define and use custom behavior of operators for your objects. This is achieved by implementing dunder or special methods that correspond to that operator.\n",
    " \n",
    "- it gives additional functionality to an operator\n",
    "- e.g. + is overloaded for strings, int, float etc.\n",
    "- Read more: [operator overloading](https://www.geeksforgeeks.org/operator-overloading-in-python/)\n",
    " \n",
    "<table style=\"display:inline-block; text-align:left;\">\n",
    "  <tr style=\"background-color: #174A7E; color: white;\">\n",
    "    <th>Operator</th>\n",
    "    <th>Dunder Method</th>\n",
    "  </tr>\n",
    "  <tr>\n",
    "    <td style=\"text-align: center;\">+</td>\n",
    "    <td style=\"text-align: center;\">__add__(self, other)</td>\n",
    "  </tr>\n",
    "  <tr>\n",
    "    <td style=\"text-align: center;\">-</td>\n",
    "    <td style=\"text-align: center;\">__sub__(self, other)</td>\n",
    "  </tr>\n",
    "  <tr>\n",
    "    <td style=\"text-align: center;\">*</td>\n",
    "    <td style=\"text-align: center;\">__mul__(self, other)</td>\n",
    "  </tr>\n",
    "  <tr>\n",
    "    <td style=\"text-align: center;\">/</td>\n",
    "    <td style=\"text-align: center;\">__div__(self, other)</td>\n",
    "  </tr>\n",
    "  <tr>\n",
    "    <td style=\"text-align: center;\">//</td>\n",
    "    <td style=\"text-align: center;\">__floordiv__(self, other)</td>\n",
    "  </tr>\n",
    "  <tr>\n",
    "    <td style=\"text-align: center;\">%</td>\n",
    "    <td style=\"text-align: center;\">__mod__(self, other)</td>\n",
    "  </tr>\n",
    "  <tr>\n",
    "    <td style=\"text-align: center;\">**</td>\n",
    "    <td style=\"text-align: center;\">__pow__(self, other)</td>\n",
    "  </tr>\n",
    "  <tr>\n",
    "    <td style=\"text-align: center;\"><</td>\n",
    "    <td style=\"text-align: center;\">__lt__(self, other)</td>\n",
    "  </tr>\n",
    "  <tr>\n",
    "    <td style=\"text-align: center;\"><=</td>\n",
    "    <td style=\"text-align: center;\">__le__(self, other)</td>\n",
    "  </tr>\n",
    "  <tr>\n",
    "    <td style=\"text-align: center;\">></td>\n",
    "    <td style=\"text-align: center;\">__gt__(self, other)</td>\n",
    "  </tr>\n",
    "  <tr>\n",
    "    <td style=\"text-align: center;\">>=</td>\n",
    "    <td style=\"text-align: center;\">__ge__(self, other)</td>\n",
    "  </tr>\n",
    "  <tr>\n",
    "    <td style=\"text-align: center;\">==</td>\n",
    "    <td style=\"text-align: center;\">__eq__(self, other)</td>\n",
    "  </tr>\n",
    "</table>\n",
    " \n",
    " \n",
    "- Note that there are more operators that can be overloaded than those specified in this list\n",
    " \n",
    "</div>"
   ]
  },
  {
   "cell_type": "code",
   "execution_count": 16,
   "metadata": {},
   "outputs": [
    {
     "name": "stdout",
     "output_type": "stream",
     "text": [
      "(1, 2, 3)\n",
      "v1.numbers = (1, 2, 3)\n",
      "(-4, 2, 1)\n",
      "v2.numbers = (-4, 2, 1)\n"
     ]
    },
    {
     "ename": "TypeError",
     "evalue": "unsupported operand type(s) for +: 'Vector' and 'Vector'",
     "output_type": "error",
     "traceback": [
      "\u001b[0;31m---------------------------------------------------------------------------\u001b[0m",
      "\u001b[0;31mTypeError\u001b[0m                                 Traceback (most recent call last)",
      "Cell \u001b[0;32mIn[16], line 28\u001b[0m\n\u001b[1;32m     24\u001b[0m v2 \u001b[38;5;241m=\u001b[39m Vector(\u001b[38;5;241m-\u001b[39m\u001b[38;5;241m4\u001b[39m , \u001b[38;5;241m2\u001b[39m, \u001b[38;5;241m1\u001b[39m)\n\u001b[1;32m     25\u001b[0m \u001b[38;5;28mprint\u001b[39m(\u001b[38;5;124mf\u001b[39m\u001b[38;5;124m\"\u001b[39m\u001b[38;5;132;01m{\u001b[39;00mv2\u001b[38;5;241m.\u001b[39mnumbers\u001b[38;5;250m \u001b[39m\u001b[38;5;132;01m= }\u001b[39;00m\u001b[38;5;124m\"\u001b[39m)\n\u001b[0;32m---> 28\u001b[0m \u001b[43mv1\u001b[49m\u001b[43m \u001b[49m\u001b[38;5;241;43m+\u001b[39;49m\u001b[43m \u001b[49m\u001b[43mv2\u001b[49m\n",
      "\u001b[0;31mTypeError\u001b[0m: unsupported operand type(s) for +: 'Vector' and 'Vector'"
     ]
    }
   ],
   "source": [
    "class Vector:\n",
    "    \"\"\"A clss to represent a Eculidean vector with magnitude and direction\"\"\"\n",
    "    \n",
    "    # *numbers is avariadic paremeter\n",
    "    def __init__(self, *numbers : float) -> None:\n",
    "        for number in numbers:\n",
    "            if not isinstance(number, Number):\n",
    "                raise TypeError(f\"{number} is not a valid number in a vector\")\n",
    "            \n",
    "        if len(numbers) <= 0:\n",
    "            raise ValueError(\"Vector cant be empty\")\n",
    "        \n",
    "        \n",
    "        self._numbers = numbers\n",
    "        print(self._numbers)\n",
    "    @property\n",
    "    def numbers(self) -> tuple:\n",
    "        return self._numbers\n",
    "\n",
    "v1 = Vector(1 ,2 ,3)\n",
    "print(f\"{v1.numbers = }\")\n",
    "\n",
    "\n",
    "v2 = Vector(-4 , 2, 1)\n",
    "print(f\"{v2.numbers = }\")\n",
    "\n",
    "# we havent implemented __add___() - sp plus operator doesnt work\n",
    "v1 + v2"
   ]
  },
  {
   "cell_type": "code",
   "execution_count": 32,
   "metadata": {},
   "outputs": [
    {
     "name": "stdout",
     "output_type": "stream",
     "text": [
      "(1, 2, 3)\n",
      "v1.numbers = (1, 2, 3)\n",
      "(-4, 2, 1)\n",
      "v2.numbers = (-4, 2, 1)\n",
      "3 3\n",
      "None\n",
      "(2, 4, 6)\n",
      "v1*2 =Vector(2, 4, 6)\n",
      "(2, 4, 6)\n",
      "2*v1 = Vector(2, 4, 6)\n",
      "(2, 4, 6)\n"
     ]
    },
    {
     "data": {
      "text/plain": [
       "Vector(2, 4, 6)"
      ]
     },
     "execution_count": 32,
     "metadata": {},
     "output_type": "execute_result"
    }
   ],
   "source": [
    "class Vector:\n",
    "    \"\"\"A clss to represent a Eculidean vector with magnitude and direction\"\"\"\n",
    "    \n",
    "    # *numbers is avariadic paremeter\n",
    "    def __init__(self, *numbers : float) -> None:\n",
    "        for number in numbers:\n",
    "            if not isinstance(number, Number):\n",
    "                raise TypeError(f\"{number} is not a valid number in a vector\")\n",
    "            \n",
    "        if len(numbers) <= 0:\n",
    "            raise ValueError(\"Vector cant be empty\")\n",
    "        \n",
    "        \n",
    "        self._numbers = numbers\n",
    "        print(self._numbers)\n",
    "    @property\n",
    "    def numbers(self) -> tuple:\n",
    "        return self._numbers\n",
    "\n",
    "\n",
    "\n",
    "    def __add__ (self, other: Vector) -> Vector:\n",
    "        if self.validate_vector(other):\n",
    "\n",
    "            numbers = (a+b for a,b in zip(self.numbers, other.numbers))\n",
    "\n",
    "    def __mul__(self, value:Number) -> Vector:\n",
    "        if not isinstance(value, Number):\n",
    "            raise TypeError(f\"Value must be a number not {type(value)}\")\n",
    "        \n",
    "        numbers = (value*a for a in self._numbers)\n",
    "        return Vector(*numbers)\n",
    "\n",
    "    # to make mulitplication comutatice i.e a*b = b*a\n",
    "\n",
    "    def __rmul__(self, value: Number) -> Vector:\n",
    "        return self*value\n",
    "\n",
    "    def validate_vector(self, other: Vector) -> bool:\n",
    "        \"\"\"validated if two vector has same number of elements\"\"\"\n",
    "\n",
    "        if not isinstance(other, Vector) or len(other) != len(self):\n",
    "            raise TypeError(\"Both must be Vector and have same number of a elements\")\n",
    "        return len(self) == len(other)\n",
    "\n",
    "    def __len__(self) -> int:\n",
    "        return len(self.numbers)\n",
    "    \n",
    "    def __repr__(self) -> str:\n",
    "        return f\"Vector{self.numbers}\"\n",
    "    \n",
    "    def __getitem__(self , item:int) -> float:\n",
    "        print(\"__getitem__ called \")\n",
    "        return self.numbers[item]\n",
    "\n",
    "\n",
    "v1 = Vector(1 ,2 ,3)\n",
    "print(f\"{v1.numbers = }\")\n",
    "\n",
    "\n",
    "v2 = Vector(-4 , 2, 1)\n",
    "print(f\"{v2.numbers = }\")\n",
    "print(len(v2) , len(v1))\n",
    "print(f\"{v1+ v2}\")\n",
    "\n",
    "print(f\"{v1*2 =}\")\n",
    "print(f\"{2*v1 = }\")\n",
    "\n",
    "\n",
    "2*v1\n",
    "\n",
    "\n"
   ]
  },
  {
   "cell_type": "code",
   "execution_count": null,
   "metadata": {},
   "outputs": [],
   "source": []
  }
 ],
 "metadata": {
  "kernelspec": {
   "display_name": "venv",
   "language": "python",
   "name": "python3"
  },
  "language_info": {
   "codemirror_mode": {
    "name": "ipython",
    "version": 3
   },
   "file_extension": ".py",
   "mimetype": "text/x-python",
   "name": "python",
   "nbconvert_exporter": "python",
   "pygments_lexer": "ipython3",
   "version": "3.9.6"
  }
 },
 "nbformat": 4,
 "nbformat_minor": 2
}
