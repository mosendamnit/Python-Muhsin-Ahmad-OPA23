{
 "cells": [
  {
   "cell_type": "code",
   "execution_count": 1,
   "metadata": {},
   "outputs": [
    {
     "name": "stdout",
     "output_type": "stream",
     "text": [
      "(0, 0) (0, 1) (0, 2) (0, 3) \n",
      "(1, 0) (1, 1) (1, 2) (1, 3) \n",
      "(2, 0) (2, 1) (2, 2) (2, 3) \n",
      "(3, 0) (3, 1) (3, 2) (3, 3) \n"
     ]
    }
   ],
   "source": [
    "for x in range(0,4):\n",
    "    for y in range(0,4):\n",
    "        print(f\"({x}, {y})\" , end=\" \")\n",
    "    print()"
   ]
  },
  {
   "cell_type": "code",
   "execution_count": 2,
   "metadata": {},
   "outputs": [
    {
     "name": "stdout",
     "output_type": "stream",
     "text": [
      "77 is unfortunatallity wrong \n",
      "77 is unfortunatallity wrong \n",
      "Correct answer\n",
      "Have a nice day.\n"
     ]
    }
   ],
   "source": [
    "import random\n",
    "\n",
    "while True:\n",
    "    number1 = random.randint(1, 20)\n",
    "    number2 = random.randint(1,20)\n",
    "\n",
    "    user = int(input(f\" What is the multiplication of {number1}*{number2}\"))\n",
    "    if user == number1*number2:\n",
    "        print(\"Correct answer\")\n",
    "    else:\n",
    "        print(f\"{user} is unfortunatallity wrong \")\n",
    "\n",
    "    play_again = input(\"If want to play again enter y for Yes! \")\n",
    "\n",
    "    if play_again != \"y\":\n",
    "        print(\"Have a nice day.\")\n",
    "        break\n"
   ]
  },
  {
   "cell_type": "code",
   "execution_count": 5,
   "metadata": {},
   "outputs": [
    {
     "name": "stdout",
     "output_type": "stream",
     "text": [
      "10\n"
     ]
    }
   ],
   "source": [
    "sum = 0\n",
    "\n",
    "for i in range(0,5):\n",
    "    sum += i\n",
    "print(sum)"
   ]
  },
  {
   "cell_type": "code",
   "execution_count": 8,
   "metadata": {},
   "outputs": [
    {
     "name": "stdout",
     "output_type": "stream",
     "text": [
      "4950\n"
     ]
    }
   ],
   "source": [
    "sum = 0\n",
    "\n",
    "for i in range(1 , 100):\n",
    "    sum += i\n",
    "print(sum)"
   ]
  },
  {
   "cell_type": "code",
   "execution_count": 9,
   "metadata": {},
   "outputs": [
    {
     "name": "stdout",
     "output_type": "stream",
     "text": [
      "The fruit i love to eat. \n",
      "2: apple\n",
      "3: orange\n",
      "4: grape\n",
      "5: strawberry\n"
     ]
    }
   ],
   "source": [
    "fruits = [\"apple\", \"orange\", \"grape\", \"strawberry\"]\n",
    "\n",
    "print(\"The fruit i love to eat. \")\n",
    "\n",
    "for i , fruits in enumerate(fruits, 2):\n",
    "    print(f\"{i}: {fruits}\")"
   ]
  },
  {
   "cell_type": "code",
   "execution_count": 12,
   "metadata": {},
   "outputs": [
    {
     "name": "stdout",
     "output_type": "stream",
     "text": [
      "(0,0) (0,1) (0,2) \n",
      "(1,0) (1,1) (1,2) \n",
      "(2,0) (2,1) (2,2) \n"
     ]
    }
   ],
   "source": [
    "for x in range(0,3):\n",
    "    for j in range(0,3):\n",
    "        print(f\"({x},{j})\", end=\" \")\n",
    "    print()"
   ]
  },
  {
   "cell_type": "code",
   "execution_count": 16,
   "metadata": {},
   "outputs": [
    {
     "name": "stdout",
     "output_type": "stream",
     "text": [
      "['Mästerkockarna', 'Aktuellt']\n"
     ]
    }
   ],
   "source": [
    "tv_shows = [\"Antikrundan\", \"Mästerkockarna\", \"Aktuellt\" , \"Talang\"]\n",
    "print(tv_shows[1:3])"
   ]
  },
  {
   "cell_type": "code",
   "execution_count": 18,
   "metadata": {},
   "outputs": [
    {
     "name": "stdout",
     "output_type": "stream",
     "text": [
      "['h', 'i', 'm', 'n', 'o', 's']\n"
     ]
    }
   ],
   "source": [
    "number = [\"m\",\"s\",\"i\",\"o\",\"n\",\"h\"]\n",
    "number.sort()\n",
    "print(number)"
   ]
  },
  {
   "cell_type": "code",
   "execution_count": 23,
   "metadata": {},
   "outputs": [
    {
     "name": "stdout",
     "output_type": "stream",
     "text": [
      "[0, 1, 8, 27]\n"
     ]
    }
   ],
   "source": [
    "cubes = [ x**3 for x in range(4)]\n",
    "print(cubes)"
   ]
  },
  {
   "cell_type": "code",
   "execution_count": 29,
   "metadata": {},
   "outputs": [
    {
     "name": "stdout",
     "output_type": "stream",
     "text": [
      " Roll dice:  [5, 1, 4, 3, 1, 3, 6, 5, 5, 3]\n",
      "Sorted:  [1, 1, 3, 3, 3, 4, 5, 5, 5, 6]\n"
     ]
    }
   ],
   "source": [
    "import random\n",
    "\n",
    "roll_dice = [random.randint(1,6) for roll in range(10)]\n",
    "\n",
    "sorted_rolls = sorted(roll_dice)\n",
    "\n",
    "print(\" Roll dice: \" , roll_dice)\n",
    "print(\"Sorted: \" , sorted_rolls)"
   ]
  },
  {
   "cell_type": "code",
   "execution_count": 33,
   "metadata": {},
   "outputs": [
    {
     "name": "stdout",
     "output_type": "stream",
     "text": [
      "\n",
      "\n",
      "Name : Mohsin Ahmad\n",
      "Age : 33\n",
      "Address: steken 2D\n",
      "Work : Branch Manager\n",
      "Phone_number : 0708921394\n",
      "\n",
      "\n"
     ]
    }
   ],
   "source": [
    "first_name = \"Mohsin\"\n",
    "second_name = \"Ahmad\"\n",
    "\n",
    "full_name = first_name + \" \" + second_name\n",
    "age = 33\n",
    "address = \"steken 2D\"\n",
    "work = \"Branch Manager\"\n",
    "Phone_number = \"0708921394\"\n",
    "\n",
    "Contact_detail = f\"\"\"\n",
    "\n",
    "Name : {full_name}\n",
    "Age : {age}\n",
    "Address: {address}\n",
    "Work : {work}\n",
    "Phone_number : {Phone_number}\n",
    "\n",
    "\"\"\"\n",
    "\n",
    "print(Contact_detail)"
   ]
  },
  {
   "cell_type": "code",
   "execution_count": 49,
   "metadata": {},
   "outputs": [
    {
     "data": {
      "text/plain": [
       "([-7, -6, -5, -4, -3, -2, -1, 0, 1, 2, 3, 4, 5, 6, 7, 8],\n",
       " [-343, -216, -125, -64, -27, -8, -1, 0, 1, 8, 27, 64, 125, 216, 343, 512])"
      ]
     },
     "execution_count": 49,
     "metadata": {},
     "output_type": "execute_result"
    }
   ],
   "source": [
    "numbers = [i for i in range(-7, 9)]\n",
    "cubes = [number**3 for number in numbers]\n",
    "\n",
    "numbers , cubes"
   ]
  },
  {
   "cell_type": "code",
   "execution_count": 45,
   "metadata": {},
   "outputs": [
    {
     "name": "stdout",
     "output_type": "stream",
     "text": [
      "Velkommen\n",
      "Må, Chili sin carne\n",
      "Ti, Nudlar\n",
      "On, Pokebowl\n",
      "To, Pannkakor\n",
      "Fr, Tacos\n",
      "\n"
     ]
    }
   ],
   "source": [
    "bamba = [\"Chili sin carne\", \"Nudlar\", \"Pokebowl\", \"Pannkakor\", \"Tacos\"]\n",
    "days = [\"Må\", \"Ti\", \"On\", \"To\", \"Fr\"]\n",
    "\n",
    "menu = \"Velkommen\\n\"\n",
    "for day , food in zip(days,bamba):\n",
    "    menu += f\"{day}, {food}\\n\"\n",
    "\n",
    "print(menu)"
   ]
  },
  {
   "cell_type": "code",
   "execution_count": 57,
   "metadata": {},
   "outputs": [
    {
     "name": "stdout",
     "output_type": "stream",
     "text": [
      " MATH has 4 letters\n",
      " BIOLOGY has 7 letters\n",
      " CHEMISTRY has 9 letters\n",
      " PROGRAMMING has 11 letters\n",
      " ISLAMIATE has 9 letters\n",
      " URDU has 4 letters\n"
     ]
    }
   ],
   "source": [
    "subjects = \" MaTh , bioLogy  ,   cHeMistry  ,  PrOgramming , Islamiate , URdu  \"\n",
    "subjects = subjects.split(\" , \")\n",
    "\n",
    "subjects = [subject.strip().upper() for subject in subjects]\n",
    "\n",
    "for subject in subjects:\n",
    "    print(f\" {subject} has {len(subject)} letters\")"
   ]
  },
  {
   "cell_type": "code",
   "execution_count": 67,
   "metadata": {},
   "outputs": [
    {
     "name": "stdout",
     "output_type": "stream",
     "text": [
      "area_circule = 78.54\n"
     ]
    }
   ],
   "source": [
    "import numpy as np \n",
    "\n",
    "radius = 5\n",
    "\n",
    "area_circule = np.pi*radius**2\n",
    "\n",
    "print(f\"{area_circule = :.2f}\")"
   ]
  },
  {
   "cell_type": "code",
   "execution_count": 2,
   "metadata": {},
   "outputs": [
    {
     "name": "stdout",
     "output_type": "stream",
     "text": [
      "you have eneter 133.0 , eneter between 0 to 125. \n",
      "You are 43.0 year old.\n"
     ]
    }
   ],
   "source": [
    "while True:\n",
    "    try:\n",
    "        age = float(input(\"Enter your age\"))\n",
    "\n",
    "        if not 0 <= age <= 125:\n",
    "            raise ValueError(f\"you have eneter {age} , eneter between 0 to 125. \")\n",
    "        print(f\"You are {age} year old.\")\n",
    "        break\n",
    "    except ValueError as err:\n",
    "        print(err)"
   ]
  },
  {
   "cell_type": "code",
   "execution_count": 11,
   "metadata": {},
   "outputs": [
    {
     "data": {
      "text/plain": [
       "8"
      ]
     },
     "execution_count": 11,
     "metadata": {},
     "output_type": "execute_result"
    }
   ],
   "source": [
    "def cuber (number):\n",
    "    return(number**3)\n",
    "cuber(2)"
   ]
  },
  {
   "cell_type": "code",
   "execution_count": 12,
   "metadata": {},
   "outputs": [
    {
     "data": {
      "text/plain": [
       "[0, 1, 8, 27, 64]"
      ]
     },
     "execution_count": 12,
     "metadata": {},
     "output_type": "execute_result"
    }
   ],
   "source": [
    "cubes = [cuber(number) for number in range(5)]\n",
    "cubes"
   ]
  },
  {
   "cell_type": "code",
   "execution_count": 17,
   "metadata": {},
   "outputs": [
    {
     "name": "stdout",
     "output_type": "stream",
     "text": [
      "x\n",
      "xx\n",
      "xxx\n",
      "xxxx\n",
      "xxxxx\n",
      "xxxxxx\n"
     ]
    }
   ],
   "source": [
    "for i in range(1,7):\n",
    "    print(i*\"x\")"
   ]
  },
  {
   "cell_type": "code",
   "execution_count": 24,
   "metadata": {},
   "outputs": [
    {
     "name": "stdout",
     "output_type": "stream",
     "text": [
      "x\n",
      "xx\n",
      "xxx\n",
      "xxxx\n",
      "xxxxx\n",
      "xxxxxx\n",
      "xxxxxxx\n",
      "xxxxxxxx\n",
      "xxxxxxxxx\n",
      "xxxxxxxxxx\n"
     ]
    }
   ],
   "source": [
    "def draw_ascii_triaangle(number_row):\n",
    "    for i in range(1, number_row+1):\n",
    "        print(i*\"x\")\n",
    "\n",
    "draw_ascii_triaangle(10)"
   ]
  },
  {
   "cell_type": "code",
   "execution_count": 25,
   "metadata": {},
   "outputs": [
    {
     "name": "stdout",
     "output_type": "stream",
     "text": [
      "Accuracy level is  0.3, which mean the model performance is Bad \n"
     ]
    }
   ],
   "source": [
    "accuacy = .3 \n",
    "\n",
    "if accuacy > .9:\n",
    "    model_performance = \"Good\"\n",
    "elif accuacy > .5:\n",
    "    model_performance = \"Moderate\"\n",
    "else:\n",
    "    model_performance = \"Bad\"\n",
    "\n",
    "print(f\"Accuracy level is  {accuacy}, which mean the model performance is {model_performance} \")"
   ]
  },
  {
   "cell_type": "code",
   "execution_count": 26,
   "metadata": {},
   "outputs": [
    {
     "data": {
      "text/plain": [
       "'good '"
      ]
     },
     "execution_count": 26,
     "metadata": {},
     "output_type": "execute_result"
    }
   ],
   "source": [
    "performence = \"good \" if accuacy < .9 else \"bad\"\n",
    "performence\n"
   ]
  },
  {
   "cell_type": "code",
   "execution_count": 28,
   "metadata": {},
   "outputs": [
    {
     "data": {
      "text/plain": [
       "4"
      ]
     },
     "execution_count": 28,
     "metadata": {},
     "output_type": "execute_result"
    }
   ],
   "source": [
    "bird = 80000\n",
    "year = 0\n",
    "\n",
    "while bird > 8000:\n",
    "    bird /= 2\n",
    "    year +=1\n",
    "\n",
    "year"
   ]
  },
  {
   "cell_type": "code",
   "execution_count": 29,
   "metadata": {},
   "outputs": [
    {
     "data": {
      "text/plain": [
       "{'name': 'Mohsin', 'age': 33, 'address': 'Storgata'}"
      ]
     },
     "execution_count": 29,
     "metadata": {},
     "output_type": "execute_result"
    }
   ],
   "source": [
    "person1 = dict(name = \"Mohsin\" , age = 33, address= \"Storgata\")\n",
    "person1"
   ]
  },
  {
   "cell_type": "code",
   "execution_count": 30,
   "metadata": {},
   "outputs": [
    {
     "data": {
      "text/plain": [
       "dict_keys(['name', 'age', 'address'])"
      ]
     },
     "execution_count": 30,
     "metadata": {},
     "output_type": "execute_result"
    }
   ],
   "source": [
    "person1.keys()"
   ]
  },
  {
   "cell_type": "code",
   "execution_count": 31,
   "metadata": {},
   "outputs": [
    {
     "data": {
      "text/plain": [
       "('Mohsin', 'Storgata')"
      ]
     },
     "execution_count": 31,
     "metadata": {},
     "output_type": "execute_result"
    }
   ],
   "source": [
    "person1[\"name\"] , person1[\"address\"]"
   ]
  },
  {
   "cell_type": "code",
   "execution_count": 32,
   "metadata": {},
   "outputs": [
    {
     "name": "stdout",
     "output_type": "stream",
     "text": [
      "name : Mohsin\n",
      "age : 33\n",
      "address : Storgata\n"
     ]
    }
   ],
   "source": [
    "for key in person1:\n",
    "    print(key, \":\", person1[key])"
   ]
  },
  {
   "cell_type": "code",
   "execution_count": 34,
   "metadata": {},
   "outputs": [
    {
     "name": "stdout",
     "output_type": "stream",
     "text": [
      "name: Mohsin\n",
      "age: 33\n",
      "address: Storgata\n"
     ]
    }
   ],
   "source": [
    "for key , value in person1.items():\n",
    "    print(f\"{key}: {value}\")"
   ]
  },
  {
   "cell_type": "code",
   "execution_count": 35,
   "metadata": {},
   "outputs": [
    {
     "data": {
      "text/plain": [
       "{'name': 'Mohsin', 'age': 33, 'address': 'Storgata'}"
      ]
     },
     "execution_count": 35,
     "metadata": {},
     "output_type": "execute_result"
    }
   ],
   "source": [
    "person2 = {\"name\" : \"Mohsin\" , \"age\" : 33, \"address\": \"Storgata\"}\n",
    "person2"
   ]
  },
  {
   "cell_type": "code",
   "execution_count": 36,
   "metadata": {},
   "outputs": [
    {
     "data": {
      "text/plain": [
       "True"
      ]
     },
     "execution_count": 36,
     "metadata": {},
     "output_type": "execute_result"
    }
   ],
   "source": [
    "person1 == person2"
   ]
  },
  {
   "cell_type": "code",
   "execution_count": 38,
   "metadata": {},
   "outputs": [
    {
     "data": {
      "text/plain": [
       "([-7, -6, -5, -4, -3, -2, -1, 0, 1, 2, 3, 4, 5, 6],\n",
       " [-343, -216, -125, -64, -27, -8, -1, 0, 1, 8, 27, 64, 125, 216])"
      ]
     },
     "execution_count": 38,
     "metadata": {},
     "output_type": "execute_result"
    }
   ],
   "source": [
    "numbers = [i for i in range(-7,7)]\n",
    "cubes = [number**3 for number in numbers]\n",
    "numbers , cubes"
   ]
  },
  {
   "cell_type": "code",
   "execution_count": 39,
   "metadata": {},
   "outputs": [
    {
     "data": {
      "text/plain": [
       "[<matplotlib.lines.Line2D at 0x11970cca0>]"
      ]
     },
     "execution_count": 39,
     "metadata": {},
     "output_type": "execute_result"
    },
    {
     "data": {
      "image/png": "[encoded data removed]",
      "text/plain": [
       "<Figure size 640x480 with 1 Axes>"
      ]
     },
     "metadata": {},
     "output_type": "display_data"
    }
   ],
   "source": [
    "import matplotlib.pyplot as plt\n",
    "\n",
    "plt.plot(numbers, cubes)"
   ]
  },
  {
   "cell_type": "code",
   "execution_count": 44,
   "metadata": {},
   "outputs": [
    {
     "name": "stdout",
     "output_type": "stream",
     "text": [
      "area_circule = 78.54\n"
     ]
    }
   ],
   "source": [
    "import numpy as np\n",
    "radius = 5\n",
    "\n",
    "area_circule = np.pi*radius**2\n",
    "print(f\"{area_circule = :.2f}\")"
   ]
  },
  {
   "cell_type": "code",
   "execution_count": 45,
   "metadata": {},
   "outputs": [
    {
     "data": {
      "text/plain": [
       "125"
      ]
     },
     "execution_count": 45,
     "metadata": {},
     "output_type": "execute_result"
    }
   ],
   "source": [
    "cuber = lambda x: x**3\n",
    "cuber(5)"
   ]
  },
  {
   "cell_type": "code",
   "execution_count": 53,
   "metadata": {},
   "outputs": [
    {
     "name": "stdout",
     "output_type": "stream",
     "text": [
      "x = (-5, -4, -3, -2, -1, 0, 1, 2, 3, 4)\n",
      "y = [-17, -14, -11, -8, -5, -2, 1, 4, 7, 10]\n",
      "y2 = [23, 14, 7, 2, -1, -2, -1, 2, 7, 14]\n"
     ]
    },
    {
     "data": {
      "text/plain": [
       "<matplotlib.legend.Legend at 0x1197cee20>"
      ]
     },
     "execution_count": 53,
     "metadata": {},
     "output_type": "execute_result"
    },
    {
     "data": {
      "image/png": "[encoded data removed]",
      "text/plain": [
       "<Figure size 640x480 with 1 Axes>"
      ]
     },
     "metadata": {},
     "output_type": "display_data"
    }
   ],
   "source": [
    "import matplotlib.pyplot as plt\n",
    "\n",
    "f = lambda x : 3* x -2\n",
    "\n",
    "def g(x):\n",
    "    return x**2 - 2\n",
    "\n",
    "x = tuple (range(-5,5))\n",
    "print(f\"{x = }\")\n",
    "\n",
    "y = [f(i) for i in x]\n",
    "y2 = [g(i) for i in x]\n",
    "\n",
    "print(f\"{y = }\")\n",
    "print(f\"{y2 = }\")\n",
    "\n",
    "plt.plot(x,y)\n",
    "plt.plot(x, y2)\n",
    "plt.title(\"plotting 2 functions\")\n",
    "plt.xlabel(\"x\")\n",
    "plt.ylabel(\"y\")\n",
    "plt.legend([\"f(x)\", \"g(x)\"])"
   ]
  },
  {
   "cell_type": "code",
   "execution_count": null,
   "metadata": {},
   "outputs": [],
   "source": []
  }
 ],
 "metadata": {
  "kernelspec": {
   "display_name": "venv",
   "language": "python",
   "name": "python3"
  },
  "language_info": {
   "codemirror_mode": {
    "name": "ipython",
    "version": 3
   },
   "file_extension": ".py",
   "mimetype": "text/x-python",
   "name": "python",
   "nbconvert_exporter": "python",
   "pygments_lexer": "ipython3",
   "version": "3.9.6"
  }
 },
 "nbformat": 4,
 "nbformat_minor": 2
}
