{
 "cells": [
  {
   "cell_type": "code",
   "execution_count": 1,
   "metadata": {},
   "outputs": [
    {
     "name": "stdout",
     "output_type": "stream",
     "text": [
      "(0, 0) (0, 1) (0, 2) (0, 3) \n",
      "(1, 0) (1, 1) (1, 2) (1, 3) \n",
      "(2, 0) (2, 1) (2, 2) (2, 3) \n",
      "(3, 0) (3, 1) (3, 2) (3, 3) \n"
     ]
    }
   ],
   "source": [
    "for x in range(0,4):\n",
    "    for y in range(0,4):\n",
    "        print(f\"({x}, {y})\" , end=\" \")\n",
    "    print()"
   ]
  },
  {
   "cell_type": "code",
   "execution_count": 2,
   "metadata": {},
   "outputs": [
    {
     "name": "stdout",
     "output_type": "stream",
     "text": [
      "77 is unfortunatallity wrong \n",
      "77 is unfortunatallity wrong \n",
      "Correct answer\n",
      "Have a nice day.\n"
     ]
    }
   ],
   "source": [
    "import random\n",
    "\n",
    "while True:\n",
    "    number1 = random.randint(1, 20)\n",
    "    number2 = random.randint(1,20)\n",
    "\n",
    "    user = int(input(f\" What is the multiplication of {number1}*{number2}\"))\n",
    "    if user == number1*number2:\n",
    "        print(\"Correct answer\")\n",
    "    else:\n",
    "        print(f\"{user} is unfortunatallity wrong \")\n",
    "\n",
    "    play_again = input(\"If want to play again enter y for Yes! \")\n",
    "\n",
    "    if play_again != \"y\":\n",
    "        print(\"Have a nice day.\")\n",
    "        break\n"
   ]
  },
  {
   "cell_type": "code",
   "execution_count": 5,
   "metadata": {},
   "outputs": [
    {
     "name": "stdout",
     "output_type": "stream",
     "text": [
      "10\n"
     ]
    }
   ],
   "source": [
    "sum = 0\n",
    "\n",
    "for i in range(0,5):\n",
    "    sum += i\n",
    "print(sum)"
   ]
  },
  {
   "cell_type": "code",
   "execution_count": 8,
   "metadata": {},
   "outputs": [
    {
     "name": "stdout",
     "output_type": "stream",
     "text": [
      "4950\n"
     ]
    }
   ],
   "source": [
    "sum = 0\n",
    "\n",
    "for i in range(1 , 100):\n",
    "    sum += i\n",
    "print(sum)"
   ]
  },
  {
   "cell_type": "code",
   "execution_count": 9,
   "metadata": {},
   "outputs": [
    {
     "name": "stdout",
     "output_type": "stream",
     "text": [
      "The fruit i love to eat. \n",
      "2: apple\n",
      "3: orange\n",
      "4: grape\n",
      "5: strawberry\n"
     ]
    }
   ],
   "source": [
    "fruits = [\"apple\", \"orange\", \"grape\", \"strawberry\"]\n",
    "\n",
    "print(\"The fruit i love to eat. \")\n",
    "\n",
    "for i , fruits in enumerate(fruits, 2):\n",
    "    print(f\"{i}: {fruits}\")"
   ]
  },
  {
   "cell_type": "code",
   "execution_count": 12,
   "metadata": {},
   "outputs": [
    {
     "name": "stdout",
     "output_type": "stream",
     "text": [
      "(0,0) (0,1) (0,2) \n",
      "(1,0) (1,1) (1,2) \n",
      "(2,0) (2,1) (2,2) \n"
     ]
    }
   ],
   "source": [
    "for x in range(0,3):\n",
    "    for j in range(0,3):\n",
    "        print(f\"({x},{j})\", end=\" \")\n",
    "    print()"
   ]
  },
  {
   "cell_type": "code",
   "execution_count": 16,
   "metadata": {},
   "outputs": [
    {
     "name": "stdout",
     "output_type": "stream",
     "text": [
      "['Mästerkockarna', 'Aktuellt']\n"
     ]
    }
   ],
   "source": [
    "tv_shows = [\"Antikrundan\", \"Mästerkockarna\", \"Aktuellt\" , \"Talang\"]\n",
    "print(tv_shows[1:3])"
   ]
  },
  {
   "cell_type": "code",
   "execution_count": 18,
   "metadata": {},
   "outputs": [
    {
     "name": "stdout",
     "output_type": "stream",
     "text": [
      "['h', 'i', 'm', 'n', 'o', 's']\n"
     ]
    }
   ],
   "source": [
    "number = [\"m\",\"s\",\"i\",\"o\",\"n\",\"h\"]\n",
    "number.sort()\n",
    "print(number)"
   ]
  },
  {
   "cell_type": "code",
   "execution_count": 23,
   "metadata": {},
   "outputs": [
    {
     "name": "stdout",
     "output_type": "stream",
     "text": [
      "[0, 1, 8, 27]\n"
     ]
    }
   ],
   "source": [
    "cubes = [ x**3 for x in range(4)]\n",
    "print(cubes)"
   ]
  },
  {
   "cell_type": "code",
   "execution_count": 29,
   "metadata": {},
   "outputs": [
    {
     "name": "stdout",
     "output_type": "stream",
     "text": [
      " Roll dice:  [5, 1, 4, 3, 1, 3, 6, 5, 5, 3]\n",
      "Sorted:  [1, 1, 3, 3, 3, 4, 5, 5, 5, 6]\n"
     ]
    }
   ],
   "source": [
    "import random\n",
    "\n",
    "roll_dice = [random.randint(1,6) for roll in range(10)]\n",
    "\n",
    "sorted_rolls = sorted(roll_dice)\n",
    "\n",
    "print(\" Roll dice: \" , roll_dice)\n",
    "print(\"Sorted: \" , sorted_rolls)"
   ]
  },
  {
   "cell_type": "code",
   "execution_count": 33,
   "metadata": {},
   "outputs": [
    {
     "name": "stdout",
     "output_type": "stream",
     "text": [
      "\n",
      "\n",
      "Name : Mohsin Ahmad\n",
      "Age : 33\n",
      "Address: steken 2D\n",
      "Work : Branch Manager\n",
      "Phone_number : 0708921394\n",
      "\n",
      "\n"
     ]
    }
   ],
   "source": [
    "first_name = \"Mohsin\"\n",
    "second_name = \"Ahmad\"\n",
    "\n",
    "full_name = first_name + \" \" + second_name\n",
    "age = 33\n",
    "address = \"steken 2D\"\n",
    "work = \"Branch Manager\"\n",
    "Phone_number = \"0708921394\"\n",
    "\n",
    "Contact_detail = f\"\"\"\n",
    "\n",
    "Name : {full_name}\n",
    "Age : {age}\n",
    "Address: {address}\n",
    "Work : {work}\n",
    "Phone_number : {Phone_number}\n",
    "\n",
    "\"\"\"\n",
    "\n",
    "print(Contact_detail)"
   ]
  },
  {
   "cell_type": "code",
   "execution_count": 49,
   "metadata": {},
   "outputs": [
    {
     "data": {
      "text/plain": [
       "([-7, -6, -5, -4, -3, -2, -1, 0, 1, 2, 3, 4, 5, 6, 7, 8],\n",
       " [-343, -216, -125, -64, -27, -8, -1, 0, 1, 8, 27, 64, 125, 216, 343, 512])"
      ]
     },
     "execution_count": 49,
     "metadata": {},
     "output_type": "execute_result"
    }
   ],
   "source": [
    "numbers = [i for i in range(-7, 9)]\n",
    "cubes = [number**3 for number in numbers]\n",
    "\n",
    "numbers , cubes"
   ]
  },
  {
   "cell_type": "code",
   "execution_count": 45,
   "metadata": {},
   "outputs": [
    {
     "name": "stdout",
     "output_type": "stream",
     "text": [
      "Velkommen\n",
      "Må, Chili sin carne\n",
      "Ti, Nudlar\n",
      "On, Pokebowl\n",
      "To, Pannkakor\n",
      "Fr, Tacos\n",
      "\n"
     ]
    }
   ],
   "source": [
    "bamba = [\"Chili sin carne\", \"Nudlar\", \"Pokebowl\", \"Pannkakor\", \"Tacos\"]\n",
    "days = [\"Må\", \"Ti\", \"On\", \"To\", \"Fr\"]\n",
    "\n",
    "menu = \"Velkommen\\n\"\n",
    "for day , food in zip(days,bamba):\n",
    "    menu += f\"{day}, {food}\\n\"\n",
    "\n",
    "print(menu)"
   ]
  },
  {
   "cell_type": "code",
   "execution_count": 57,
   "metadata": {},
   "outputs": [
    {
     "name": "stdout",
     "output_type": "stream",
     "text": [
      " MATH has 4 letters\n",
      " BIOLOGY has 7 letters\n",
      " CHEMISTRY has 9 letters\n",
      " PROGRAMMING has 11 letters\n",
      " ISLAMIATE has 9 letters\n",
      " URDU has 4 letters\n"
     ]
    }
   ],
   "source": [
    "subjects = \" MaTh , bioLogy  ,   cHeMistry  ,  PrOgramming , Islamiate , URdu  \"\n",
    "subjects = subjects.split(\" , \")\n",
    "\n",
    "subjects = [subject.strip().upper() for subject in subjects]\n",
    "\n",
    "for subject in subjects:\n",
    "    print(f\" {subject} has {len(subject)} letters\")"
   ]
  },
  {
   "cell_type": "code",
   "execution_count": 67,
   "metadata": {},
   "outputs": [
    {
     "name": "stdout",
     "output_type": "stream",
     "text": [
      "area_circule = 78.54\n"
     ]
    }
   ],
   "source": [
    "import numpy as np \n",
    "\n",
    "radius = 5\n",
    "\n",
    "area_circule = np.pi*radius**2\n",
    "\n",
    "print(f\"{area_circule = :.2f}\")"
   ]
  },
  {
   "cell_type": "code",
   "execution_count": 2,
   "metadata": {},
   "outputs": [
    {
     "name": "stdout",
     "output_type": "stream",
     "text": [
      "you have eneter 133.0 , eneter between 0 to 125. \n",
      "You are 43.0 year old.\n"
     ]
    }
   ],
   "source": [
    "while True:\n",
    "    try:\n",
    "        age = float(input(\"Enter your age\"))\n",
    "\n",
    "        if not 0 <= age <= 125:\n",
    "            raise ValueError(f\"you have eneter {age} , eneter between 0 to 125. \")\n",
    "        print(f\"You are {age} year old.\")\n",
    "        break\n",
    "    except ValueError as err:\n",
    "        print(err)"
   ]
  },
  {
   "cell_type": "code",
   "execution_count": 11,
   "metadata": {},
   "outputs": [
    {
     "data": {
      "text/plain": [
       "8"
      ]
     },
     "execution_count": 11,
     "metadata": {},
     "output_type": "execute_result"
    }
   ],
   "source": [
    "def cuber (number):\n",
    "    return(number**3)\n",
    "cuber(2)"
   ]
  },
  {
   "cell_type": "code",
   "execution_count": 12,
   "metadata": {},
   "outputs": [
    {
     "data": {
      "text/plain": [
       "[0, 1, 8, 27, 64]"
      ]
     },
     "execution_count": 12,
     "metadata": {},
     "output_type": "execute_result"
    }
   ],
   "source": [
    "cubes = [cuber(number) for number in range(5)]\n",
    "cubes"
   ]
  },
  {
   "cell_type": "code",
   "execution_count": 17,
   "metadata": {},
   "outputs": [
    {
     "name": "stdout",
     "output_type": "stream",
     "text": [
      "x\n",
      "xx\n",
      "xxx\n",
      "xxxx\n",
      "xxxxx\n",
      "xxxxxx\n"
     ]
    }
   ],
   "source": [
    "for i in range(1,7):\n",
    "    print(i*\"x\")"
   ]
  },
  {
   "cell_type": "code",
   "execution_count": 24,
   "metadata": {},
   "outputs": [
    {
     "name": "stdout",
     "output_type": "stream",
     "text": [
      "x\n",
      "xx\n",
      "xxx\n",
      "xxxx\n",
      "xxxxx\n",
      "xxxxxx\n",
      "xxxxxxx\n",
      "xxxxxxxx\n",
      "xxxxxxxxx\n",
      "xxxxxxxxxx\n"
     ]
    }
   ],
   "source": [
    "def draw_ascii_triaangle(number_row):\n",
    "    for i in range(1, number_row+1):\n",
    "        print(i*\"x\")\n",
    "\n",
    "draw_ascii_triaangle(10)"
   ]
  },
  {
   "cell_type": "code",
   "execution_count": 25,
   "metadata": {},
   "outputs": [
    {
     "name": "stdout",
     "output_type": "stream",
     "text": [
      "Accuracy level is  0.3, which mean the model performance is Bad \n"
     ]
    }
   ],
   "source": [
    "accuacy = .3 \n",
    "\n",
    "if accuacy > .9:\n",
    "    model_performance = \"Good\"\n",
    "elif accuacy > .5:\n",
    "    model_performance = \"Moderate\"\n",
    "else:\n",
    "    model_performance = \"Bad\"\n",
    "\n",
    "print(f\"Accuracy level is  {accuacy}, which mean the model performance is {model_performance} \")"
   ]
  },
  {
   "cell_type": "code",
   "execution_count": 26,
   "metadata": {},
   "outputs": [
    {
     "data": {
      "text/plain": [
       "'good '"
      ]
     },
     "execution_count": 26,
     "metadata": {},
     "output_type": "execute_result"
    }
   ],
   "source": [
    "performence = \"good \" if accuacy < .9 else \"bad\"\n",
    "performence\n"
   ]
  },
  {
   "cell_type": "code",
   "execution_count": 28,
   "metadata": {},
   "outputs": [
    {
     "data": {
      "text/plain": [
       "4"
      ]
     },
     "execution_count": 28,
     "metadata": {},
     "output_type": "execute_result"
    }
   ],
   "source": [
    "bird = 80000\n",
    "year = 0\n",
    "\n",
    "while bird > 8000:\n",
    "    bird /= 2\n",
    "    year +=1\n",
    "\n",
    "year"
   ]
  },
  {
   "cell_type": "code",
   "execution_count": 29,
   "metadata": {},
   "outputs": [
    {
     "data": {
      "text/plain": [
       "{'name': 'Mohsin', 'age': 33, 'address': 'Storgata'}"
      ]
     },
     "execution_count": 29,
     "metadata": {},
     "output_type": "execute_result"
    }
   ],
   "source": [
    "person1 = dict(name = \"Mohsin\" , age = 33, address= \"Storgata\")\n",
    "person1"
   ]
  },
  {
   "cell_type": "code",
   "execution_count": 30,
   "metadata": {},
   "outputs": [
    {
     "data": {
      "text/plain": [
       "dict_keys(['name', 'age', 'address'])"
      ]
     },
     "execution_count": 30,
     "metadata": {},
     "output_type": "execute_result"
    }
   ],
   "source": [
    "person1.keys()"
   ]
  },
  {
   "cell_type": "code",
   "execution_count": 31,
   "metadata": {},
   "outputs": [
    {
     "data": {
      "text/plain": [
       "('Mohsin', 'Storgata')"
      ]
     },
     "execution_count": 31,
     "metadata": {},
     "output_type": "execute_result"
    }
   ],
   "source": [
    "person1[\"name\"] , person1[\"address\"]"
   ]
  },
  {
   "cell_type": "code",
   "execution_count": 32,
   "metadata": {},
   "outputs": [
    {
     "name": "stdout",
     "output_type": "stream",
     "text": [
      "name : Mohsin\n",
      "age : 33\n",
      "address : Storgata\n"
     ]
    }
   ],
   "source": [
    "for key in person1:\n",
    "    print(key, \":\", person1[key])"
   ]
  },
  {
   "cell_type": "code",
   "execution_count": 34,
   "metadata": {},
   "outputs": [
    {
     "name": "stdout",
     "output_type": "stream",
     "text": [
      "name: Mohsin\n",
      "age: 33\n",
      "address: Storgata\n"
     ]
    }
   ],
   "source": [
    "for key , value in person1.items():\n",
    "    print(f\"{key}: {value}\")"
   ]
  },
  {
   "cell_type": "code",
   "execution_count": 35,
   "metadata": {},
   "outputs": [
    {
     "data": {
      "text/plain": [
       "{'name': 'Mohsin', 'age': 33, 'address': 'Storgata'}"
      ]
     },
     "execution_count": 35,
     "metadata": {},
     "output_type": "execute_result"
    }
   ],
   "source": [
    "person2 = {\"name\" : \"Mohsin\" , \"age\" : 33, \"address\": \"Storgata\"}\n",
    "person2"
   ]
  },
  {
   "cell_type": "code",
   "execution_count": 36,
   "metadata": {},
   "outputs": [
    {
     "data": {
      "text/plain": [
       "True"
      ]
     },
     "execution_count": 36,
     "metadata": {},
     "output_type": "execute_result"
    }
   ],
   "source": [
    "person1 == person2"
   ]
  },
  {
   "cell_type": "code",
   "execution_count": 38,
   "metadata": {},
   "outputs": [
    {
     "data": {
      "text/plain": [
       "([-7, -6, -5, -4, -3, -2, -1, 0, 1, 2, 3, 4, 5, 6],\n",
       " [-343, -216, -125, -64, -27, -8, -1, 0, 1, 8, 27, 64, 125, 216])"
      ]
     },
     "execution_count": 38,
     "metadata": {},
     "output_type": "execute_result"
    }
   ],
   "source": [
    "numbers = [i for i in range(-7,7)]\n",
    "cubes = [number**3 for number in numbers]\n",
    "numbers , cubes"
   ]
  },
  {
   "cell_type": "code",
   "execution_count": 39,
   "metadata": {},
   "outputs": [
    {
     "data": {
      "text/plain": [
       "[<matplotlib.lines.Line2D at 0x11970cca0>]"
      ]
     },
     "execution_count": 39,
     "metadata": {},
     "output_type": "execute_result"
    },
    {
     "data": {
      "image/png": "[encoded data removed]",
      "text/plain": [
       "<Figure size 640x480 with 1 Axes>"
      ]
     },
     "metadata": {},
     "output_type": "display_data"
    }
   ],
   "source": [
    "import matplotlib.pyplot as plt\n",
    "\n",
    "plt.plot(numbers, cubes)"
   ]
  },
  {
   "cell_type": "code",
   "execution_count": 44,
   "metadata": {},
   "outputs": [
    {
     "name": "stdout",
     "output_type": "stream",
     "text": [
      "area_circule = 78.54\n"
     ]
    }
   ],
   "source": [
    "import numpy as np\n",
    "radius = 5\n",
    "\n",
    "area_circule = np.pi*radius**2\n",
    "print(f\"{area_circule = :.2f}\")"
   ]
  },
  {
   "cell_type": "code",
   "execution_count": 45,
   "metadata": {},
   "outputs": [
    {
     "data": {
      "text/plain": [
       "125"
      ]
     },
     "execution_count": 45,
     "metadata": {},
     "output_type": "execute_result"
    }
   ],
   "source": [
    "cuber = lambda x: x**3\n",
    "cuber(5)"
   ]
  },
  {
   "cell_type": "code",
   "execution_count": 53,
   "metadata": {},
   "outputs": [
    {
     "name": "stdout",
     "output_type": "stream",
     "text": [
      "x = (-5, -4, -3, -2, -1, 0, 1, 2, 3, 4)\n",
      "y = [-17, -14, -11, -8, -5, -2, 1, 4, 7, 10]\n",
      "y2 = [23, 14, 7, 2, -1, -2, -1, 2, 7, 14]\n"
     ]
    },
    {
     "data": {
      "text/plain": [
       "<matplotlib.legend.Legend at 0x1197cee20>"
      ]
     },
     "execution_count": 53,
     "metadata": {},
     "output_type": "execute_result"
    },
    {
     "data": {
      "image/png": "[encoded data removed]",
      "text/plain": [
       "<Figure size 640x480 with 1 Axes>"
      ]
     },
     "metadata": {},
     "output_type": "display_data"
    }
   ],
   "source": [
    "import matplotlib.pyplot as plt\n",
    "\n",
    "f = lambda x : 3* x -2\n",
    "\n",
    "def g(x):\n",
    "    return x**2 - 2\n",
    "\n",
    "x = tuple (range(-5,5))\n",
    "print(f\"{x = }\")\n",
    "\n",
    "y = [f(i) for i in x]\n",
    "y2 = [g(i) for i in x]\n",
    "\n",
    "print(f\"{y = }\")\n",
    "print(f\"{y2 = }\")\n",
    "\n",
    "plt.plot(x,y)\n",
    "plt.plot(x, y2)\n",
    "plt.title(\"plotting 2 functions\")\n",
    "plt.xlabel(\"x\")\n",
    "plt.ylabel(\"y\")\n",
    "plt.legend([\"f(x)\", \"g(x)\"])"
   ]
  },
  {
   "cell_type": "code",
   "execution_count": null,
   "metadata": {},
   "outputs": [],
   "source": [
    "# file_path for the pichu\n",
    "\n",
    "file_path = \"../data/pichu_raw.txt\"\n",
    "\n",
    "with open(file_path , \"r\") as pichu_file:\n",
    "    pichu_raw_file = pichu_file.read()\n",
    "print(pichu_raw_file)\n"
   ]
  },
  {
   "cell_type": "code",
   "execution_count": 5,
   "metadata": {},
   "outputs": [
    {
     "name": "stdout",
     "output_type": "stream",
     "text": [
      "4\n",
      "[0, 1, 4, 9, 16, 25, 36, 49, 64, 81]\n"
     ]
    }
   ],
   "source": [
    "def square (x):\n",
    "    return x**2\n",
    "\n",
    "print(square(2))\n",
    "\n",
    "square = [square(x) for x in range(10)]\n",
    "print(square)"
   ]
  },
  {
   "cell_type": "code",
   "execution_count": 11,
   "metadata": {},
   "outputs": [
    {
     "name": "stdout",
     "output_type": "stream",
     "text": [
      "Hello Mohsin\n",
      "Hello Friend\n",
      "Hello Zozo\n",
      "None\n"
     ]
    }
   ],
   "source": [
    "def say_hello(name = \"Friend\"):\n",
    "    print(f\"Hello {name}\")\n",
    "\n",
    "say_hello(\"Mohsin\")\n",
    "say_hello()\n",
    "print(say_hello(\"Zozo\"))"
   ]
  },
  {
   "cell_type": "code",
   "execution_count": 12,
   "metadata": {},
   "outputs": [
    {
     "name": "stdout",
     "output_type": "stream",
     "text": [
      "3\n"
     ]
    }
   ],
   "source": [
    "def smallest(number1 , number2):\n",
    "    if number1 > number2:\n",
    "        return number2\n",
    "    else:\n",
    "        return number1\n",
    "    \n",
    "print(smallest(3 , 5))"
   ]
  },
  {
   "cell_type": "code",
   "execution_count": null,
   "metadata": {},
   "outputs": [],
   "source": [
    "def count_words(text):\n",
    "    "
   ]
  },
  {
   "cell_type": "code",
   "execution_count": 13,
   "metadata": {},
   "outputs": [
    {
     "name": "stdout",
     "output_type": "stream",
     "text": [
      "(20.12, 28.7, 0)\n",
      "(15.2, 27.1, 0)\n",
      "(17.2, 27.67, 0)\n",
      "(16.79, 34.37, 0)\n",
      "(20.89, 31.48, 0)\n",
      "(20.41, 31.09, 0)\n",
      "(22.14, 26.71, 0)\n",
      "(15.7, 32.29, 0)\n",
      "(18.38, 26.63, 0)\n",
      "(15.24, 28.79, 0)\n",
      "(18.14, 44.95, 1)\n",
      "(26.65, 41.5, 1)\n",
      "(26.18, 39.38, 1)\n",
      "(24.44, 40.18, 1)\n",
      "(21.2, 36.21, 1)\n",
      "(25.69, 37.25, 1)\n",
      "(19.34, 38.38, 1)\n",
      "(23.22, 40.88, 1)\n",
      "(23.44, 37.3, 1)\n",
      "(29.45, 37.2, 1)\n"
     ]
    }
   ],
   "source": [
    "# Assuming pichu_rounded_data and pikachu_rounded_data are your existing data\n",
    "pichu_data = [\n",
    "    (20.12, 28.7),\n",
    "    (15.2, 27.1),\n",
    "    (17.2, 27.67),\n",
    "    (16.79, 34.37),\n",
    "    (20.89, 31.48),\n",
    "    (20.41, 31.09),\n",
    "    (22.14, 26.71),\n",
    "    (15.7, 32.29),\n",
    "    (18.38, 26.63),\n",
    "    (15.24, 28.79)\n",
    "]\n",
    "\n",
    "pikachu_data = [\n",
    "    (18.14, 44.95),\n",
    "    (26.65, 41.5),\n",
    "    (26.18, 39.38),\n",
    "    (24.44, 40.18),\n",
    "    (21.2, 36.21),\n",
    "    (25.69, 37.25),\n",
    "    (19.34, 38.38),\n",
    "    (23.22, 40.88),\n",
    "    (23.44, 37.3),\n",
    "    (29.45, 37.2)\n",
    "]\n",
    "\n",
    "# Label pichu as 0 and pikachu as 1\n",
    "combined_data = [(point[0], point[1], 0) for point in pichu_data] + [(point[0], point[1], 1) for point in pikachu_data]\n",
    "\n",
    "# Print the combined data\n",
    "for data_point in combined_data:\n",
    "    print(data_point)\n"
   ]
  },
  {
   "cell_type": "code",
   "execution_count": 14,
   "metadata": {},
   "outputs": [
    {
     "ename": "ModuleNotFoundError",
     "evalue": "No module named 'scipy'",
     "output_type": "error",
     "traceback": [
      "\u001b[0;31m---------------------------------------------------------------------------\u001b[0m",
      "\u001b[0;31mModuleNotFoundError\u001b[0m                       Traceback (most recent call last)",
      "Cell \u001b[0;32mIn[14], line 1\u001b[0m\n\u001b[0;32m----> 1\u001b[0m \u001b[38;5;28;01mfrom\u001b[39;00m \u001b[38;5;21;01mscipy\u001b[39;00m\u001b[38;5;21;01m.\u001b[39;00m\u001b[38;5;21;01mspatial\u001b[39;00m \u001b[38;5;28;01mimport\u001b[39;00m distance\n\u001b[1;32m      3\u001b[0m \u001b[38;5;66;03m# Define the test points\u001b[39;00m\n\u001b[1;32m      4\u001b[0m test_points \u001b[38;5;241m=\u001b[39m [(\u001b[38;5;241m25\u001b[39m, \u001b[38;5;241m35\u001b[39m), (\u001b[38;5;241m15\u001b[39m, \u001b[38;5;241m14\u001b[39m), (\u001b[38;5;241m26\u001b[39m, \u001b[38;5;241m30\u001b[39m), (\u001b[38;5;241m22\u001b[39m, \u001b[38;5;241m45\u001b[39m)]\n",
      "\u001b[0;31mModuleNotFoundError\u001b[0m: No module named 'scipy'"
     ]
    }
   ],
   "source": [
    "from scipy.spatial import distance\n",
    "\n",
    "# Define the test points\n",
    "test_points = [(25, 35), (15, 14), (26, 30), (22, 45)]\n",
    "\n",
    "# Define the combined data (x, y, label)\n",
    "combined_data = [\n",
    "    (20.12, 28.7, 0), (15.2, 27.1, 0), (17.2, 27.67, 0), (16.79, 34.37, 0), (20.89, 31.48, 0),\n",
    "    (20.41, 31.09, 0), (22.14, 26.71, 0), (15.7, 32.29, 0), (18.38, 26.63, 0), (15.24, 28.79, 0),\n",
    "    (18.14, 44.95, 1), (26.65, 41.5, 1), (26.18, 39.38, 1), (24.44, 40.18, 1), (21.2, 36.21, 1),\n",
    "    (25.69, 37.25, 1), (19.34, 38.38, 1), (23.22, 40.88, 1), (23.44, 37.3, 1), (29.45, 37.2, 1)\n",
    "]\n",
    "\n",
    "# Calculate distances and classify test points\n",
    "for test_point in test_points:\n",
    "    distances = [distance.euclidean(test_point, (x, y)) for x, y, label in combined_data]\n",
    "    closest_point_label = min(enumerate(distances), key=lambda x: x[1])[0]\n",
    "    print(f\"Test point {test_point} is classified as {combined_data[closest_point_label][2]} (0 for Pichu, 1 for Pikachu)\")\n"
   ]
  },
  {
   "cell_type": "code",
   "execution_count": 17,
   "metadata": {},
   "outputs": [
    {
     "data": {
      "text/plain": [
       "<function matplotlib.pyplot.show(close=None, block=None)>"
      ]
     },
     "execution_count": 17,
     "metadata": {},
     "output_type": "execute_result"
    },
    {
     "data": {
      "image/png": "[encoded data removed]",
      "text/plain": [
       "<Figure size 640x480 with 1 Axes>"
      ]
     },
     "metadata": {},
     "output_type": "display_data"
    }
   ],
   "source": [
    "Dog= [ (5, 8) ,(7, 10) ,(6, 12),(8, 9),(7, 11)]\n",
    "\n",
    "import matplotlib.pyplot as plt\n",
    "\n",
    "\n",
    "x_dog, y_dog = zip(*Dog)\n",
    "\n",
    "plt.scatter(x_dog,y_dog , color= \"Red\")\n",
    "\n",
    "plt.xlabel(\"width(cm)\")\n",
    "plt.ylabel(\"heigh (cm)\")\n",
    "\n",
    "plt.title(\"Dog dimensions\")\n",
    "\n",
    "plt.show"
   ]
  },
  {
   "cell_type": "code",
   "execution_count": 19,
   "metadata": {},
   "outputs": [
    {
     "data": {
      "image/png": "[encoded data removed]",
      "text/plain": [
       "<Figure size 640x480 with 1 Axes>"
      ]
     },
     "metadata": {},
     "output_type": "display_data"
    }
   ],
   "source": [
    "Cat = [(3,4),(4,5), (2,6), (5,3), (3,5)]\n",
    "\n",
    "import matplotlib.pyplot as plt\n",
    "\n",
    "x_cat , y_cat = zip(*Cat)\n",
    "\n",
    "plt.scatter(x_cat,y_cat, color = \"Green\")\n",
    "\n",
    "plt.xlabel(\"width (cm)\")\n",
    "plt.ylabel(\"height (cm)\")\n",
    "plt.title(\"Cat dimension\")\n",
    "\n",
    "plt.show()"
   ]
  },
  {
   "cell_type": "code",
   "execution_count": 23,
   "metadata": {},
   "outputs": [
    {
     "data": {
      "image/png": "[encoded data removed]",
      "text/plain": [
       "<Figure size 640x480 with 1 Axes>"
      ]
     },
     "metadata": {},
     "output_type": "display_data"
    }
   ],
   "source": [
    "Test_Points = [(6,10), (3,5), (4,8)]\n",
    "\n",
    "import matplotlib.pyplot as plt\n",
    "\n",
    "x_cat , y_cat = zip(*Cat)\n",
    "x_dog, y_dog = zip(*Dog)\n",
    "x_test_points , y_test_points = zip(*Test_Points)\n",
    "\n",
    "plt.scatter(x_cat,y_cat, color = \"Green\", label = \"Cat\")\n",
    "plt.scatter(x_dog,y_dog , color= \"Red\" , label = \"Dog\")\n",
    "plt.scatter(x_test_points, y_test_points , color = \"Blue\" , label = \"Test_Points\")\n",
    "\n",
    "plt.xlabel(\"width (cm)\")\n",
    "plt.ylabel(\"height (cm)\")\n",
    "plt.title(\"Cat  , Dag and Test_Points  dimension\")\n",
    "\n",
    "plt.legend()\n",
    "plt.show()"
   ]
  },
  {
   "cell_type": "code",
   "execution_count": 72,
   "metadata": {},
   "outputs": [
    {
     "ename": "NameError",
     "evalue": "name 'Test_Points' is not defined",
     "output_type": "error",
     "traceback": [
      "\u001b[0;31m---------------------------------------------------------------------------\u001b[0m",
      "\u001b[0;31mNameError\u001b[0m                                 Traceback (most recent call last)",
      "Cell \u001b[0;32mIn[72], line 33\u001b[0m\n\u001b[1;32m     28\u001b[0m Cat \u001b[38;5;241m=\u001b[39m [(\u001b[38;5;241m3\u001b[39m,\u001b[38;5;241m4\u001b[39m),(\u001b[38;5;241m4\u001b[39m,\u001b[38;5;241m5\u001b[39m), (\u001b[38;5;241m2\u001b[39m,\u001b[38;5;241m6\u001b[39m), (\u001b[38;5;241m5\u001b[39m,\u001b[38;5;241m3\u001b[39m), (\u001b[38;5;241m3\u001b[39m,\u001b[38;5;241m5\u001b[39m)]\n\u001b[1;32m     29\u001b[0m Test_points \u001b[38;5;241m=\u001b[39m [(\u001b[38;5;241m6\u001b[39m,\u001b[38;5;241m10\u001b[39m), (\u001b[38;5;241m3\u001b[39m,\u001b[38;5;241m5\u001b[39m), (\u001b[38;5;241m4\u001b[39m,\u001b[38;5;241m8\u001b[39m)]\n\u001b[0;32m---> 33\u001b[0m result1 \u001b[38;5;241m=\u001b[39m calculate_test_points(\u001b[43mTest_Points\u001b[49m[\u001b[38;5;241m0\u001b[39m] , Dog , Cat)\n\u001b[1;32m     34\u001b[0m result2 \u001b[38;5;241m=\u001b[39m calculate_test_points(Test_Points[\u001b[38;5;241m1\u001b[39m],  Dog, Cat)\n\u001b[1;32m     35\u001b[0m result3 \u001b[38;5;241m=\u001b[39m calculate_test_points(Test_Points[\u001b[38;5;241m2\u001b[39m] , Dog, Cat)\n",
      "\u001b[0;31mNameError\u001b[0m: name 'Test_Points' is not defined"
     ]
    }
   ],
   "source": [
    "import math \n",
    "\n",
    "def euclidean_distance (Point1 , Point2):\n",
    "    x1, y1 = Point1\n",
    "    x2, y2 = Point2\n",
    "\n",
    "    return math.sqrt((x2-x1)**2 + (y2-y1)**2)\n",
    "\n",
    "\n",
    "def calculate_test_points(test_points, dog_points , cat_points):\n",
    "    dog_distance = [euclidean_distance(test_points,dog_point) for dog_point in dog_points]\n",
    "    cat_distance = [euclidean_distance(test_points, cat_point) for cat_point in cat_points]\n",
    "\n",
    "    min_dog_distance = min(dog_distance)\n",
    "    min_cat_distance = min(cat_distance)\n",
    "\n",
    "\n",
    "    if min_cat_distance < min_dog_distance:\n",
    "        return \"Cat\"\n",
    "    elif min_dog_distance < min_cat_distance:\n",
    "        return \"Dog\"\n",
    "    \n",
    "    else:\n",
    "        return \"Cant say anything about this. \"\n",
    "    \n",
    "\n",
    "Dog= [ (5, 8) ,(7, 10) ,(6, 12),(8, 9),(7, 11)]\n",
    "Cat = [(3,4),(4,5), (2,6), (5,3), (3,5)]\n",
    "Test_points = [(6,10), (3,5), (4,8)]\n",
    "\n",
    "\n",
    "\n",
    "result1 = calculate_test_points(Test_Points[0] , Dog , Cat)\n",
    "result2 = calculate_test_points(Test_Points[1],  Dog, Cat)\n",
    "result3 = calculate_test_points(Test_Points[2] , Dog, Cat)\n",
    "\n",
    "print(f\"Test Point 1  is a {result1}\")\n",
    "print(f\"Test Point 2  is a {result2}\")\n",
    "print(f\"Test Point 3  is a {result3}\")"
   ]
  },
  {
   "cell_type": "code",
   "execution_count": 70,
   "metadata": {},
   "outputs": [
    {
     "name": "stdout",
     "output_type": "stream",
     "text": [
      "The user_input test pints (5, 6) is classify as Cat\n"
     ]
    }
   ],
   "source": [
    "import math \n",
    "\n",
    "def euclidean_distance (Point1 , Point2):\n",
    "    x1, y1 = Point1\n",
    "    x2, y2 = Point2\n",
    "\n",
    "    return math.sqrt((x2-x1)**2 + (y2-y1)**2)\n",
    "\n",
    "\n",
    "def calculate_test_points(test_points, dog_points , cat_points):\n",
    "    dog_distance = [euclidean_distance(test_points,dog_point) for dog_point in dog_points]\n",
    "    cat_distance = [euclidean_distance(test_points, cat_point) for cat_point in cat_points]\n",
    "\n",
    "    min_dog_distance = min(dog_distance)\n",
    "    min_cat_distance = min(cat_distance)\n",
    "\n",
    "\n",
    "    if min_cat_distance < min_dog_distance:\n",
    "        return \"Cat\"\n",
    "    elif min_dog_distance < min_cat_distance:\n",
    "        return \"Dog\"\n",
    "    \n",
    "    else:\n",
    "        return \"Cant say anything about this. \"\n",
    "    \n",
    "\n",
    "def get_user_intput():\n",
    "    while True:\n",
    "        try:\n",
    "            user_input_x = int(input(\"Enter the x_coord of the test point:\"))\n",
    "            user_input_y = int(input(\"Enter the y_coord of the test point:\"))\n",
    "\n",
    "            if user_input_x < 0 or user_input_y < 0:\n",
    "                raise ValueError(\"Coordinates cannt be negative. \")\n",
    "            return(user_input_x,user_input_y)\n",
    "        except ValueError as e:\n",
    "            print(f\"Invalid input. Please enter valid number coordinates. {e}\")\n",
    "\n",
    "\n",
    "Dog= [ (5, 8) ,(7, 10) ,(6, 12),(8, 9),(7, 11)]\n",
    "Cat = [(3,4),(4,5), (2,6), (5,3), (3,5)]\n",
    "#Test_points = [(6,10), (3,5), (4,8)]\n",
    "\n",
    "\n",
    "#user_input_x = int(input(\"Enter the x_coord of the test point:\"))\n",
    "#user_input_y = int(input(\"Enter the y_coord of the test point:\"))\n",
    "\n",
    "user_test_points = get_user_intput()\n",
    "\n",
    "\n",
    "result = calculate_test_points(user_test_points , Dog , Cat)\n",
    "\n",
    "print(f\"The user_input test pints {user_test_points} is classify as {result}\")\n"
   ]
  },
  {
   "cell_type": "code",
   "execution_count": 55,
   "metadata": {},
   "outputs": [],
   "source": [
    "Dog = [(5, 8), (7, 10), (6, 12), (8, 9), (7, 11), (6, 9), (5, 7), (5, 6), (3, 8)]\n",
    "Cat = [(3, 4), (4, 5), (2, 6), (5, 3), (3, 5), (5, 2), (2, 5), (3, 1), (4, 2), (3, 7)]\n"
   ]
  },
  {
   "cell_type": "code",
   "execution_count": 56,
   "metadata": {},
   "outputs": [
    {
     "name": "stdout",
     "output_type": "stream",
     "text": [
      "The user-input test point (2, 5) is classified as Dog\n"
     ]
    }
   ],
   "source": [
    "import math\n",
    "from collections import Counter\n",
    "\n",
    "def euclidean_distance(point1, point2):\n",
    "    # Calculate Euclidean distance between two points\n",
    "    x1, y1 = point1\n",
    "    x2, y2 = point2\n",
    "    \n",
    "    return math.sqrt((x2 - x1)**2 + (y2 - y1)**2)\n",
    "\n",
    "def knn_classifier(test_point, dog_points, cat_points, k=5):\n",
    "    # Calculate distances from the test point to all dog and cat points\n",
    "    dog_distances = [euclidean_distance(test_point, dog_point) for dog_point in dog_points]\n",
    "    cat_distances = [euclidean_distance(test_point, cat_point) for cat_point in cat_points]\n",
    "\n",
    "    # Get indices of k nearest neighbors for both classes\n",
    "    dog_indices = sorted(range(len(dog_distances)), key=lambda i: dog_distances[i])[:k]\n",
    "    cat_indices = sorted(range(len(cat_distances)), key=lambda i: cat_distances[i])[:k]\n",
    "\n",
    "    # Assign labels to the nearest neighbors\n",
    "    dog_labels = [1 for _ in dog_indices]\n",
    "    cat_labels = [0 for _ in cat_indices]\n",
    "\n",
    "    # Combine labels for all neighbors\n",
    "    all_labels = dog_labels + cat_labels\n",
    "\n",
    "    # Use majority voting to determine the class\n",
    "    majority_class = Counter(all_labels).most_common(1)[0][0]\n",
    "\n",
    "    # Return the class prediction\n",
    "    return \"Dog\" if majority_class == 1 else \"Cat\"\n",
    "\n",
    "\n",
    "# Get user input for the test point\n",
    "user_test_point = tuple(map(int, input(\"Enter the x and y coordinates of the test point (e.g., 3 5): \").split()))\n",
    "\n",
    "# Classify the test point using the KNN classifier\n",
    "classification_result = knn_classifier(user_test_point, Dog, Cat, k=5)\n",
    "\n",
    "# Print the result\n",
    "print(f\"The user-input test point {user_test_point} is classified as {classification_result}\")\n"
   ]
  },
  {
   "cell_type": "code",
   "execution_count": 58,
   "metadata": {},
   "outputs": [
    {
     "name": "stdout",
     "output_type": "stream",
     "text": [
      "The user_input test point (3, 4) is classified as Dog\n"
     ]
    }
   ],
   "source": [
    "import math\n",
    "from collections import Counter\n",
    "\n",
    "def euclidean_distance(point1, point2):\n",
    "    x1, y1 = point1\n",
    "    x2, y2 = point2\n",
    "    return math.sqrt((x2 - x1)**2 + (y2 - y1)**2)\n",
    "\n",
    "def calculate_test_points(test_point, dog_points, cat_points, k=15):\n",
    "    dog_distances = [euclidean_distance(test_point, dog_point) for dog_point in dog_points]\n",
    "    cat_distances = [euclidean_distance(test_point, cat_point) for cat_point in cat_points]\n",
    "\n",
    "\n",
    "    dog_indices = sorted(range(len(dog_distances)), key=lambda i: dog_distances[i])[:k]\n",
    "    cat_indices = sorted(range(len(cat_distances)), key=lambda i: cat_distances[i])[:k]\n",
    "\n",
    "    dog_labels = [1 for _ in dog_indices]\n",
    "    cat_labels = [0 for _ in cat_indices]\n",
    "\n",
    "    all_labels = dog_labels + cat_labels\n",
    "\n",
    "\n",
    "    majority_class = Counter(all_labels).most_common(1)[0][0]\n",
    "\n",
    "    return \"Dog\" if majority_class == 1 else \"Cat\"\n",
    "\n",
    "def get_user_input():\n",
    "    while True:\n",
    "        try:\n",
    "            user_input_x = int(input(\"Enter the x_coord of the test point:\"))\n",
    "            user_input_y = int(input(\"Enter the y_coord of the test point:\"))\n",
    "\n",
    "            if user_input_x < 0 or user_input_y < 0:\n",
    "                raise ValueError(\"Coordinates cannot be negative.\")\n",
    "            return user_input_x, user_input_y\n",
    "        except ValueError as e:\n",
    "            print(f\"Invalid input. Please enter valid number coordinates. {e}\")\n",
    "\n",
    "Dog = [(5, 8), (7, 10), (6, 12), (8, 9), (7, 11), (6, 9), (5, 7), (5, 6), (3, 8)]\n",
    "Cat = [(3, 4), (4, 5), (2, 6), (5, 3), (3, 5), (5, 2), (2, 5), (3, 1), (4, 2), (3, 7)]\n",
    "\n",
    "user_test_points = get_user_input()\n",
    "\n",
    "result = calculate_test_points(user_test_points, Dog, Cat, k=5)\n",
    "\n",
    "print(f\"The user_input test point {user_test_points} is classified as {result}\")\n"
   ]
  },
  {
   "cell_type": "code",
   "execution_count": 69,
   "metadata": {},
   "outputs": [
    {
     "name": "stdout",
     "output_type": "stream",
     "text": [
      "['apple', 'banana', 'mango']\n"
     ]
    }
   ],
   "source": [
    "fruits = [\"apple\", \"banana\", \"cherry\", \"kiwi\", \"mango\"]\n",
    "newlist = []\n",
    "\n",
    "for x in fruits:\n",
    "    if \"a\" in x:\n",
    "        newlist.append(x)\n",
    "\n",
    "print(newlist)"
   ]
  },
  {
   "cell_type": "code",
   "execution_count": 62,
   "metadata": {},
   "outputs": [
    {
     "name": "stdout",
     "output_type": "stream",
     "text": [
      "hi mohsin\n"
     ]
    }
   ],
   "source": [
    "def say_hi(name):\n",
    "    print(f\"hi {name}\")\n",
    "\n",
    "\n",
    "say_hi(\"mohsin\")"
   ]
  },
  {
   "cell_type": "code",
   "execution_count": 36,
   "metadata": {},
   "outputs": [
    {
     "name": "stdout",
     "output_type": "stream",
     "text": [
      " 3 is smallest\n",
      "None\n"
     ]
    }
   ],
   "source": [
    "def smallest(num1, num2):\n",
    "    if num1 < num2:\n",
    "        print(f\" {num1} is smallest\")\n",
    "\n",
    "    else:\n",
    "        print(f\"{num2} is smallest\")\n",
    "\n",
    "print(smallest(3,6))"
   ]
  },
  {
   "cell_type": "code",
   "execution_count": 45,
   "metadata": {},
   "outputs": [
    {
     "name": "stdout",
     "output_type": "stream",
     "text": [
      "Orignal quote I , stand , om , the , shoulder , of , gaints\n",
      "7\n"
     ]
    }
   ],
   "source": [
    "def count_words(text):\n",
    "    words= text.split()\n",
    "    joined_text = \" , \" . join(words)\n",
    "    print(f\"Orignal quote {joined_text}\")\n",
    "\n",
    "    return len(words)\n",
    "\n",
    "    \n",
    "\n",
    "quote = \"I stand om the shoulder of gaints\"\n",
    "print(count_words(text= quote))"
   ]
  },
  {
   "cell_type": "code",
   "execution_count": 53,
   "metadata": {},
   "outputs": [
    {
     "name": "stdout",
     "output_type": "stream",
     "text": [
      "Hello , goodmorning , Pakistan , how , are , you , today\n",
      "None\n"
     ]
    }
   ],
   "source": [
    "def count_words(text):\n",
    "\n",
    "\n",
    "    \n",
    "\n",
    "    words = quote.split()\n",
    "\n",
    "    join_txt = \" , \".join(words)\n",
    "    print(join_txt)\n",
    "\n",
    "quote = \"Hello goodmorning Pakistan how are you today\"\n",
    "print(count_words(text=quote))"
   ]
  },
  {
   "cell_type": "code",
   "execution_count": 56,
   "metadata": {},
   "outputs": [
    {
     "name": "stdout",
     "output_type": "stream",
     "text": [
      "3.0\n"
     ]
    }
   ],
   "source": [
    "def mean_of_all(*args):\n",
    "    sum = 0\n",
    "    for arg in args:\n",
    "        sum += arg\n",
    "    return sum/len(args)\n",
    "\n",
    "print(mean_of_all(1,2,3,4,5))"
   ]
  },
  {
   "cell_type": "code",
   "execution_count": 65,
   "metadata": {},
   "outputs": [
    {
     "ename": "TypeError",
     "evalue": "'str' object is not callable",
     "output_type": "error",
     "traceback": [
      "\u001b[0;31m---------------------------------------------------------------------------\u001b[0m",
      "\u001b[0;31mTypeError\u001b[0m                                 Traceback (most recent call last)",
      "Cell \u001b[0;32mIn[65], line 15\u001b[0m\n\u001b[1;32m     12\u001b[0m     plt\u001b[38;5;241m.\u001b[39mylabel(\u001b[38;5;124m\"\u001b[39m\u001b[38;5;124my\u001b[39m\u001b[38;5;124m\"\u001b[39m)\n\u001b[1;32m     13\u001b[0m     plt\u001b[38;5;241m.\u001b[39mshow()\n\u001b[0;32m---> 15\u001b[0m \u001b[43mdraw_line\u001b[49m\u001b[43m(\u001b[49m\u001b[43mx\u001b[49m\u001b[43m)\u001b[49m\n\u001b[1;32m     16\u001b[0m draw_line(x , a\u001b[38;5;241m=\u001b[39m\u001b[38;5;241m1\u001b[39m , b\u001b[38;5;241m=\u001b[39m\u001b[38;5;241m1\u001b[39m)\n",
      "Cell \u001b[0;32mIn[65], line 11\u001b[0m, in \u001b[0;36mdraw_line\u001b[0;34m(x, a, b)\u001b[0m\n\u001b[1;32m      9\u001b[0m plt\u001b[38;5;241m.\u001b[39mplot(x,y)\n\u001b[1;32m     10\u001b[0m plt\u001b[38;5;241m.\u001b[39mtitle(\u001b[38;5;124m\"\u001b[39m\u001b[38;5;124my = ax + b lines\u001b[39m\u001b[38;5;124m\"\u001b[39m)\n\u001b[0;32m---> 11\u001b[0m \u001b[43mplt\u001b[49m\u001b[38;5;241;43m.\u001b[39;49m\u001b[43mxlabel\u001b[49m\u001b[43m(\u001b[49m\u001b[38;5;124;43m\"\u001b[39;49m\u001b[38;5;124;43mx\u001b[39;49m\u001b[38;5;124;43m\"\u001b[39;49m\u001b[43m)\u001b[49m\n\u001b[1;32m     12\u001b[0m plt\u001b[38;5;241m.\u001b[39mylabel(\u001b[38;5;124m\"\u001b[39m\u001b[38;5;124my\u001b[39m\u001b[38;5;124m\"\u001b[39m)\n\u001b[1;32m     13\u001b[0m plt\u001b[38;5;241m.\u001b[39mshow()\n",
      "\u001b[0;31mTypeError\u001b[0m: 'str' object is not callable"
     ]
    },
    {
     "data": {
      "image/png": "[encoded data removed]",
      "text/plain": [
       "<Figure size 640x480 with 1 Axes>"
      ]
     },
     "metadata": {},
     "output_type": "display_data"
    }
   ],
   "source": [
    "import matplotlib.pyplot as plt\n",
    "\n",
    "x = list(range(-5, 5))\n",
    "\n",
    "# y = ax + b \n",
    "def draw_line ( x, a=1 , b = 1):\n",
    "    y = [a*x_ + b for x_ in x ]\n",
    "\n",
    "    plt.plot(x,y)\n",
    "    plt.title(\"y = ax + b lines\")\n",
    "    plt.xlabel(\"x\")\n",
    "    plt.ylabel(\"y\")\n",
    "    plt.show()\n",
    "\n",
    "draw_line(x)\n",
    "draw_line(x , a=1 , b=1)"
   ]
  },
  {
   "cell_type": "code",
   "execution_count": 1,
   "metadata": {},
   "outputs": [
    {
     "data": {
      "image/png": "[encoded data removed]",
      "text/plain": [
       "<Figure size 640x480 with 1 Axes>"
      ]
     },
     "metadata": {},
     "output_type": "display_data"
    }
   ],
   "source": [
    "import numpy as np\n",
    "import matplotlib.pyplot as plt\n",
    "\n",
    "def draw_circule(radius = 1, center = (0,0)):\n",
    "    x = np.linspace(0, 2*np.pi)\n",
    "\n",
    "    plt.plot(radius*np.sin(x)+center[0], radius*np.cos(x)+center[1])\n",
    "    plt.plot(center[0], center[1], \"*r\")\n",
    "    plt.axis(\"equal\")\n",
    "\n",
    "\n",
    "draw_circule()\n",
    "draw_circule(radius=10, center=(2,2))\n",
    "\n"
   ]
  },
  {
   "cell_type": "code",
   "execution_count": 6,
   "metadata": {},
   "outputs": [
    {
     "data": {
      "text/plain": [
       "6.283185307179586"
      ]
     },
     "execution_count": 6,
     "metadata": {},
     "output_type": "execute_result"
    }
   ],
   "source": [
    "import numpy as np\n",
    "\n",
    "area_circule = lambda radius : 2*np.pi*radius**2\n",
    "area_circule(1)"
   ]
  },
  {
   "cell_type": "code",
   "execution_count": 1,
   "metadata": {},
   "outputs": [
    {
     "name": "stdout",
     "output_type": "stream",
     "text": [
      "could not convert string to float: ''\n",
      "you are 123.0 year old \n"
     ]
    }
   ],
   "source": [
    "while True:\n",
    "    age = input(\"Enter you age\")\n",
    "    try:\n",
    "        age = float(age)\n",
    "        if not 0<= age <= 125:\n",
    "            raise ValueError(\"age must be between 0 and 125\")\n",
    "        print(f\"you are {age} year old \")\n",
    "        break\n",
    "\n",
    "    except ValueError as err:\n",
    "        print(err)"
   ]
  },
  {
   "cell_type": "code",
   "execution_count": 12,
   "metadata": {},
   "outputs": [
    {
     "name": "stdout",
     "output_type": "stream",
     "text": [
      "1, If we knew what it was we were doing, it would not be called research, would it? - Albert Einstein\n",
      "Time is a drug. Too much of it kills you. - Terry Pratchett\n",
      "An expert is a person who has made all the mistakes that can be made in a very narrow field - Niels Bohr\n",
      "Everything must be made as simple as possible. But not simpler. - Albert Einstein\n",
      "Nothing in life is to be feared, it is only to be understood. Now is the time to understand more, so that we may fear less. - Marie Curie\n",
      "If I have seen further it is by standing on the shoulders of Giants. - Isaac Newton\n"
     ]
    }
   ],
   "source": [
    "import re\n",
    "\n",
    "quotes = ['  If     we     knew what it was      we were doing, it would not be called research,          would it?     - Albert Einstein\\n\\nTime is a drug. Too       much of it kills you.  -  Terry Pratchett\\n\\n\\n An expert is a person who       has made all the mistakes that           can be made in a          very narrow field - Niels Bohr\\n\\n   Everything must be made as simple as possible. But not simpler. - Albert Einstein     \\n\\n\\n  Nothing in life                is to be feared, it is only to be understood. Now is the time to understand more, so that we may fear less. - Marie  Curie  \\n\\nIf I have seen further     it is by standing on the shoulders of Giants. - Isaac Newton']\n",
    "\n",
    "cleaned_quotes = []\n",
    "\n",
    "\n",
    "for quote in quotes:\n",
    "    lines = quote.split(\"\\n\")\n",
    "    cleaned_lines =[re.sub(\" + \", \" \", line.strip()) for line in lines if line.strip()]\n",
    "    cleaned_quote= \"\\n\".join(cleaned_lines)\n",
    "    cleaned_quotes.append(cleaned_quote)\n",
    "\n",
    "for i, quote in enumerate(cleaned_quotes, 1):\n",
    "    print(f\"{i}, {quote}\")\n"
   ]
  },
  {
   "cell_type": "code",
   "execution_count": 26,
   "metadata": {},
   "outputs": [
    {
     "name": "stdout",
     "output_type": "stream",
     "text": [
      "Person dictionary: {'name': 'mohsin', 'age': 33, 'work': 'Bud', 'interest': ['Playstation', 'football', 'youtube'], 'phone': 911}\n",
      "Person name is mohsin\n",
      "Person age is 33 year old\n",
      "Person work is Bud\n",
      "mohsin loves to do ['Playstation', 'football', 'youtube']\n",
      "mohsin loves y,  , o,  , u,  , t,  , u,  , b,  , e\n"
     ]
    }
   ],
   "source": [
    "person = dict(\n",
    "    name = \"mohsin\",\n",
    "    age = 33,\n",
    "    work = \"Bud\",\n",
    "    interest = [\"Playstation\",\"football\", \"youtube\"],\n",
    "    phone = 911 # dont call \n",
    ")\n",
    "\n",
    "print(f\"Person dictionary: {person}\")\n",
    "print(f\"Person name is {person['name'] }\")\n",
    "print(f\"Person age is {person ['age']} year old\")\n",
    "print(f\"Person work is {person['work']}\")\n",
    "print(f\"{person['name']} loves to do {person['interest']}\")\n",
    "\n",
    "#for interest in person ['interest']:\n",
    "print(f\"{person['name']} loves {',  , '.join(interest)}\")\n",
    "\n"
   ]
  },
  {
   "cell_type": "code",
   "execution_count": 27,
   "metadata": {},
   "outputs": [
    {
     "ename": "SyntaxError",
     "evalue": "invalid syntax (3399319838.py, line 1)",
     "output_type": "error",
     "traceback": [
      "\u001b[0;36m  Cell \u001b[0;32mIn[27], line 1\u001b[0;36m\u001b[0m\n\u001b[0;31m    website = https://www.google.com/\u001b[0m\n\u001b[0m                   ^\u001b[0m\n\u001b[0;31mSyntaxError\u001b[0m\u001b[0;31m:\u001b[0m invalid syntax\n"
     ]
    }
   ],
   "source": [
    "website = https://www.google.com/\n",
    "\n",
    "slice = slice()\n",
    "\n",
    "print(website(slice))"
   ]
  },
  {
   "cell_type": "code",
   "execution_count": 30,
   "metadata": {},
   "outputs": [
    {
     "name": "stdout",
     "output_type": "stream",
     "text": [
      "10\n",
      "9\n",
      "8\n",
      "7\n",
      "6\n",
      "5\n",
      "4\n",
      "3\n",
      "2\n",
      "1\n",
      "Hello, GoodMornign\n"
     ]
    }
   ],
   "source": [
    "import time\n",
    "\n",
    "for second in range(10,0,-1):\n",
    "    print(second)\n",
    "    time.sleep(1)\n",
    "\n",
    "print(\"Hello, GoodMornign\")"
   ]
  },
  {
   "cell_type": "code",
   "execution_count": 34,
   "metadata": {},
   "outputs": [
    {
     "name": "stdout",
     "output_type": "stream",
     "text": [
      "?????\n",
      "?????\n",
      "?????\n",
      "?????\n",
      "?????\n"
     ]
    }
   ],
   "source": [
    "rows = int(input(\"Enter ther number of rows:\"))\n",
    "columns = int(input(\"Enter the number of columns \"))\n",
    "symbol = input(\"Enter the symbol:\")\n",
    "\n",
    "\n",
    "for i in range(rows):\n",
    "    for j in range(columns ):\n",
    "        print(symbol, end=\"\")\n",
    "\n",
    "    print()"
   ]
  },
  {
   "cell_type": "code",
   "execution_count": 36,
   "metadata": {},
   "outputs": [
    {
     "name": "stdout",
     "output_type": "stream",
     "text": [
      "12345789101112"
     ]
    }
   ],
   "source": [
    "phone_number = \"123-45-789-10-11-12\"\n",
    "\n",
    "for i in phone_number:\n",
    "    if i == \"-\":\n",
    "        continue\n",
    "    print(i,end=\"\")"
   ]
  },
  {
   "cell_type": "code",
   "execution_count": 41,
   "metadata": {},
   "outputs": [
    {
     "name": "stdout",
     "output_type": "stream",
     "text": [
      "12345678910111314151617181920"
     ]
    }
   ],
   "source": [
    "for i in range(1,21):\n",
    "    if i == 12:\n",
    "        pass\n",
    "    else:\n",
    "        print(i,end=\"\")"
   ]
  },
  {
   "cell_type": "code",
   "execution_count": 48,
   "metadata": {},
   "outputs": [
    {
     "name": "stdout",
     "output_type": "stream",
     "text": [
      "Fork\n",
      "Spoun\n",
      "glass\n",
      "knife \n"
     ]
    }
   ],
   "source": [
    "kitchen = {\"knife \", \"Spoun\", \"Fork\"}\n",
    "\n",
    "\n",
    "kitchen.add(\"glass\")\n",
    "\n",
    "for x in kitchen:\n",
    "    print(x)"
   ]
  },
  {
   "cell_type": "code",
   "execution_count": 56,
   "metadata": {},
   "outputs": [
    {
     "name": "stdout",
     "output_type": "stream",
     "text": [
      "Hello Muhsin Ahmad ,  you are 33 year old \n"
     ]
    }
   ],
   "source": [
    "def hello(name, age):\n",
    "    print(\"Hello \" + name +  \" ,  you are \" + str(age) + \" year old \")\n",
    "\n",
    "hello(\"Muhsin Ahmad\", 33)"
   ]
  },
  {
   "cell_type": "code",
   "execution_count": 82,
   "metadata": {},
   "outputs": [
    {
     "data": {
      "text/plain": [
       "Name             Muhsin\n",
       "Age                  33\n",
       "Address    strogate 123\n",
       "dtype: object"
      ]
     },
     "execution_count": 82,
     "metadata": {},
     "output_type": "execute_result"
    }
   ],
   "source": [
    "import pandas as pd\n",
    "\n",
    "data = {\"Name\": \"Muhsin\", \"Age\": 33, \"Address\": \"strogate 123\"}\n",
    "\n",
    "series = pd.Series(data)\n",
    "series"
   ]
  },
  {
   "cell_type": "code",
   "execution_count": 84,
   "metadata": {},
   "outputs": [
    {
     "data": {
      "text/plain": [
       "33"
      ]
     },
     "execution_count": 84,
     "metadata": {},
     "output_type": "execute_result"
    }
   ],
   "source": [
    "series.iloc[1]"
   ]
  },
  {
   "cell_type": "code",
   "execution_count": 86,
   "metadata": {},
   "outputs": [
    {
     "data": {
      "text/plain": [
       "Index(['Name', 'Age', 'Address'], dtype='object')"
      ]
     },
     "execution_count": 86,
     "metadata": {},
     "output_type": "execute_result"
    }
   ],
   "source": [
    "series.keys()"
   ]
  },
  {
   "cell_type": "code",
   "execution_count": 87,
   "metadata": {},
   "outputs": [
    {
     "data": {
      "text/html": [
       "<div>\n",
       "<style scoped>\n",
       "    .dataframe tbody tr th:only-of-type {\n",
       "        vertical-align: middle;\n",
       "    }\n",
       "\n",
       "    .dataframe tbody tr th {\n",
       "        vertical-align: top;\n",
       "    }\n",
       "\n",
       "    .dataframe thead th {\n",
       "        text-align: right;\n",
       "    }\n",
       "</style>\n",
       "<table border=\"1\" class=\"dataframe\">\n",
       "  <thead>\n",
       "    <tr style=\"text-align: right;\">\n",
       "      <th></th>\n",
       "      <th>Information</th>\n",
       "    </tr>\n",
       "  </thead>\n",
       "  <tbody>\n",
       "    <tr>\n",
       "      <th>Name</th>\n",
       "      <td>Muhsin</td>\n",
       "    </tr>\n",
       "    <tr>\n",
       "      <th>Age</th>\n",
       "      <td>33</td>\n",
       "    </tr>\n",
       "    <tr>\n",
       "      <th>Address</th>\n",
       "      <td>strogate 123</td>\n",
       "    </tr>\n",
       "  </tbody>\n",
       "</table>\n",
       "</div>"
      ],
      "text/plain": [
       "          Information\n",
       "Name           Muhsin\n",
       "Age                33\n",
       "Address  strogate 123"
      ]
     },
     "execution_count": 87,
     "metadata": {},
     "output_type": "execute_result"
    }
   ],
   "source": [
    "df_program = pd.DataFrame(series, columns= [\"Information\"])\n",
    "df_program"
   ]
  },
  {
   "cell_type": "code",
   "execution_count": 88,
   "metadata": {},
   "outputs": [
    {
     "data": {
      "text/plain": [
       "Name             Muhsin\n",
       "Age                  33\n",
       "Address    strogate 123\n",
       "Name: Information, dtype: object"
      ]
     },
     "execution_count": 88,
     "metadata": {},
     "output_type": "execute_result"
    }
   ],
   "source": [
    "df_program[\"Information\"]"
   ]
  },
  {
   "cell_type": "code",
   "execution_count": 89,
   "metadata": {},
   "outputs": [
    {
     "data": {
      "text/html": [
       "<div>\n",
       "<style scoped>\n",
       "    .dataframe tbody tr th:only-of-type {\n",
       "        vertical-align: middle;\n",
       "    }\n",
       "\n",
       "    .dataframe tbody tr th {\n",
       "        vertical-align: top;\n",
       "    }\n",
       "\n",
       "    .dataframe thead th {\n",
       "        text-align: right;\n",
       "    }\n",
       "</style>\n",
       "<table border=\"1\" class=\"dataframe\">\n",
       "  <thead>\n",
       "    <tr style=\"text-align: right;\">\n",
       "      <th></th>\n",
       "      <th>Students</th>\n",
       "      <th>Language</th>\n",
       "    </tr>\n",
       "  </thead>\n",
       "  <tbody>\n",
       "    <tr>\n",
       "      <th>AI</th>\n",
       "      <td>25</td>\n",
       "      <td>Python</td>\n",
       "    </tr>\n",
       "    <tr>\n",
       "      <th>OOP</th>\n",
       "      <td>30</td>\n",
       "      <td>c#</td>\n",
       "    </tr>\n",
       "    <tr>\n",
       "      <th>AAP</th>\n",
       "      <td>30</td>\n",
       "      <td>Kotlin</td>\n",
       "    </tr>\n",
       "    <tr>\n",
       "      <th>HTML</th>\n",
       "      <td>27</td>\n",
       "      <td>Java</td>\n",
       "    </tr>\n",
       "  </tbody>\n",
       "</table>\n",
       "</div>"
      ],
      "text/plain": [
       "      Students Language\n",
       "AI          25   Python\n",
       "OOP         30       c#\n",
       "AAP         30   Kotlin\n",
       "HTML        27     Java"
      ]
     },
     "execution_count": 89,
     "metadata": {},
     "output_type": "execute_result"
    }
   ],
   "source": [
    "df_program = pd.DataFrame({\"Students\": [25, 30, 30, 27], \"Language\": [\"Python\", \"c#\", \"Kotlin\", \"Java\"]}, index= [\"AI\", \"OOP\", \"AAP\", \"HTML\"] )\n",
    "df_program"
   ]
  },
  {
   "cell_type": "code",
   "execution_count": 91,
   "metadata": {},
   "outputs": [
    {
     "data": {
      "text/plain": [
       "AI       True\n",
       "OOP     False\n",
       "AAP     False\n",
       "HTML     True\n",
       "Name: Students, dtype: bool"
      ]
     },
     "execution_count": 91,
     "metadata": {},
     "output_type": "execute_result"
    }
   ],
   "source": [
    "df_program[\"Students\"] < 29\n"
   ]
  },
  {
   "cell_type": "code",
   "execution_count": 104,
   "metadata": {},
   "outputs": [
    {
     "data": {
      "text/plain": [
       "[100, 81, 64, 49, 36, 25, 16, 9, 4, 1, 0, 1, 4, 9, 16, 25, 36, 49, 64, 81, 100]"
      ]
     },
     "execution_count": 104,
     "metadata": {},
     "output_type": "execute_result"
    }
   ],
   "source": [
    "numbers = [i for i in range(-10,11)]\n",
    "numbers\n",
    "cubes = [number**2 for number in numbers]\n",
    "cubes"
   ]
  },
  {
   "cell_type": "code",
   "execution_count": 105,
   "metadata": {},
   "outputs": [
    {
     "data": {
      "text/plain": [
       "[<matplotlib.lines.Line2D at 0x120d43730>]"
      ]
     },
     "execution_count": 105,
     "metadata": {},
     "output_type": "execute_result"
    },
    {
     "data": {
      "image/png": "[encoded data removed]",
      "text/plain": [
       "<Figure size 640x480 with 1 Axes>"
      ]
     },
     "metadata": {},
     "output_type": "display_data"
    }
   ],
   "source": [
    "import matplotlib.pyplot as plt\n",
    "plt.plot(numbers, cubes)"
   ]
  },
  {
   "cell_type": "code",
   "execution_count": 106,
   "metadata": {},
   "outputs": [
    {
     "data": {
      "text/plain": [
       "10"
      ]
     },
     "execution_count": 106,
     "metadata": {},
     "output_type": "execute_result"
    }
   ],
   "source": [
    "total = 0\n",
    "j = 1\n",
    "while j < 5:\n",
    "    total += j\n",
    "    j += 1\n",
    "\n",
    "total"
   ]
  },
  {
   "cell_type": "code",
   "execution_count": 109,
   "metadata": {},
   "outputs": [
    {
     "name": "stdout",
     "output_type": "stream",
     "text": [
      "5\n"
     ]
    }
   ],
   "source": [
    "list = [5 ,4,4, 3,2,1 ,1]\n",
    "i = 0\n",
    "total = 0\n",
    "if i < len(list) and list[i] >0:\n",
    "    total += list[i]\n",
    "    i +=1\n",
    "\n",
    "print(total)"
   ]
  },
  {
   "cell_type": "code",
   "execution_count": 115,
   "metadata": {},
   "outputs": [
    {
     "data": {
      "text/plain": [
       "4"
      ]
     },
     "execution_count": 115,
     "metadata": {},
     "output_type": "execute_result"
    }
   ],
   "source": [
    "birds = 90000\n",
    "year = 0\n",
    "\n",
    "while birds > 9000:\n",
    "    birds /= 2\n",
    "    year += 1\n",
    "\n",
    "year"
   ]
  },
  {
   "cell_type": "code",
   "execution_count": 119,
   "metadata": {},
   "outputs": [
    {
     "name": "stdout",
     "output_type": "stream",
     "text": [
      "1 mosen\n",
      "2 zozo\n",
      "3 Bin Yamin\n",
      "4 Alyana \n",
      "5 Jorah\n"
     ]
    }
   ],
   "source": [
    "names = [\"mosen\", \"zozo\", \"Bin Yamin\", \"Alyana \", \"Jorah\"]\n",
    "for i , name in enumerate(names, start=1):\n",
    "    print( i , name)"
   ]
  },
  {
   "cell_type": "code",
   "execution_count": 118,
   "metadata": {},
   "outputs": [
    {
     "name": "stdout",
     "output_type": "stream",
     "text": [
      " K-means: K_mean clustering\n",
      " PCA: Principal  component analysis\n",
      " GMM: Gaussian Mixture Models\n"
     ]
    }
   ],
   "source": [
    "unsupervised_abbreviations = [\"K-means\", \"PCA\", \"GMM\"]\n",
    "unsupervised_algorithms = [\"K_mean clustering\", \"Principal  component analysis\", \"Gaussian Mixture Models\"]\n",
    "\n",
    "\n",
    "for abrevation , full_name in zip(unsupervised_abbreviations,unsupervised_algorithms):\n",
    "    print(f\" {abrevation}: {full_name}\")"
   ]
  },
  {
   "cell_type": "code",
   "execution_count": 120,
   "metadata": {},
   "outputs": [
    {
     "data": {
      "text/plain": [
       "{'name': 'mohsin', 'age': 33, 'Handsome': True}"
      ]
     },
     "execution_count": 120,
     "metadata": {},
     "output_type": "execute_result"
    }
   ],
   "source": [
    "person1 = dict(name = \"mohsin\" , age = 33, Handsome = True)\n",
    "person1"
   ]
  },
  {
   "cell_type": "code",
   "execution_count": 121,
   "metadata": {},
   "outputs": [
    {
     "data": {
      "text/plain": [
       "dict_keys(['name', 'age', 'Handsome'])"
      ]
     },
     "execution_count": 121,
     "metadata": {},
     "output_type": "execute_result"
    }
   ],
   "source": [
    "person1.keys()"
   ]
  },
  {
   "cell_type": "code",
   "execution_count": 125,
   "metadata": {},
   "outputs": [
    {
     "name": "stdout",
     "output_type": "stream",
     "text": [
      "name : mohsin\n",
      "age : 33\n",
      "Handsome : True\n"
     ]
    }
   ],
   "source": [
    "for key in person1:\n",
    "    print(key ,\":\", person1[key])"
   ]
  },
  {
   "cell_type": "code",
   "execution_count": 128,
   "metadata": {},
   "outputs": [
    {
     "name": "stdout",
     "output_type": "stream",
     "text": [
      " name : mohsin\n",
      " age : 33\n",
      " Handsome : True\n"
     ]
    }
   ],
   "source": [
    "for key, value in person1.items():\n",
    "    print(f\" {key} : {value}\")"
   ]
  },
  {
   "cell_type": "code",
   "execution_count": 131,
   "metadata": {},
   "outputs": [
    {
     "name": "stdout",
     "output_type": "stream",
     "text": [
      "circule_area = 78.54 area unit\n"
     ]
    }
   ],
   "source": [
    "import numpy as np\n",
    "\n",
    "radius = 5\n",
    "\n",
    "circule_area = np.pi*radius**2\n",
    "print(f\"{circule_area = :.2f} area unit\")"
   ]
  },
  {
   "cell_type": "code",
   "execution_count": 132,
   "metadata": {},
   "outputs": [
    {
     "ename": "ValueError",
     "evalue": "you enter 126.0, age must be between 0 to 125:",
     "output_type": "error",
     "traceback": [
      "\u001b[0;31m---------------------------------------------------------------------------\u001b[0m",
      "\u001b[0;31mValueError\u001b[0m                                Traceback (most recent call last)",
      "Cell \u001b[0;32mIn[132], line 3\u001b[0m\n\u001b[1;32m      1\u001b[0m age \u001b[38;5;241m=\u001b[39m \u001b[38;5;28mfloat\u001b[39m(\u001b[38;5;28minput\u001b[39m(\u001b[38;5;124m\"\u001b[39m\u001b[38;5;124mEnter your age. \u001b[39m\u001b[38;5;124m\"\u001b[39m))\n\u001b[1;32m      2\u001b[0m \u001b[38;5;28;01mif\u001b[39;00m \u001b[38;5;129;01mnot\u001b[39;00m \u001b[38;5;241m0\u001b[39m \u001b[38;5;241m<\u001b[39m\u001b[38;5;241m=\u001b[39m age \u001b[38;5;241m<\u001b[39m\u001b[38;5;241m=\u001b[39m \u001b[38;5;241m125\u001b[39m:\n\u001b[0;32m----> 3\u001b[0m     \u001b[38;5;28;01mraise\u001b[39;00m \u001b[38;5;167;01mValueError\u001b[39;00m(\u001b[38;5;124mf\u001b[39m\u001b[38;5;124m\"\u001b[39m\u001b[38;5;124myou enter \u001b[39m\u001b[38;5;132;01m{\u001b[39;00mage\u001b[38;5;132;01m}\u001b[39;00m\u001b[38;5;124m, age must be between 0 to 125:\u001b[39m\u001b[38;5;124m\"\u001b[39m)\n",
      "\u001b[0;31mValueError\u001b[0m: you enter 126.0, age must be between 0 to 125:"
     ]
    }
   ],
   "source": [
    "age = float(input(\"Enter your age. \"))\n",
    "if not 0 <= age <= 125:\n",
    "    raise ValueError(f\"you enter {age}, age must be between 0 to 125:\")"
   ]
  },
  {
   "cell_type": "code",
   "execution_count": 138,
   "metadata": {},
   "outputs": [],
   "source": [
    "while True:\n",
    "    try:\n",
    "        age = float(input(\"Enter your age. \"))\n",
    "        if not 0 <= age <= 125:\n",
    "            raise ValueError(f\"you enter {age}, age must be between 0 to 125:\")\n",
    "        print(f\" you are {age} year old.\")\n",
    "        break\n",
    "    except ValueError as err:\n",
    "        print(err)\n"
   ]
  },
  {
   "cell_type": "code",
   "execution_count": 4,
   "metadata": {},
   "outputs": [
    {
     "data": {
      "text/plain": [
       "27"
      ]
     },
     "execution_count": 4,
     "metadata": {},
     "output_type": "execute_result"
    }
   ],
   "source": [
    "def cube(number):\n",
    "    return number**3\n",
    "cube(3)"
   ]
  },
  {
   "cell_type": "code",
   "execution_count": 5,
   "metadata": {},
   "outputs": [
    {
     "data": {
      "text/plain": [
       "[0, 1, 8, 27, 64]"
      ]
     },
     "execution_count": 5,
     "metadata": {},
     "output_type": "execute_result"
    }
   ],
   "source": [
    "cubes = [ cube(number) for number in range(5)]\n",
    "cubes"
   ]
  },
  {
   "cell_type": "code",
   "execution_count": 7,
   "metadata": {},
   "outputs": [
    {
     "name": "stdout",
     "output_type": "stream",
     "text": [
      "\n",
      "x\n",
      "xx\n",
      "xxx\n",
      "xxxx\n"
     ]
    }
   ],
   "source": [
    "for i in range(5):\n",
    "    print(i* \"x\")"
   ]
  },
  {
   "cell_type": "code",
   "execution_count": 14,
   "metadata": {},
   "outputs": [
    {
     "data": {
      "text/plain": [
       "4.0"
      ]
     },
     "execution_count": 14,
     "metadata": {},
     "output_type": "execute_result"
    }
   ],
   "source": [
    "def average(*numbers):\n",
    "    sum = 0\n",
    "    for number in numbers:\n",
    "        sum += number\n",
    "    return sum/len(numbers)\n",
    "average(2,3,4,5,6)"
   ]
  },
  {
   "cell_type": "code",
   "execution_count": 17,
   "metadata": {},
   "outputs": [
    {
     "name": "stdout",
     "output_type": "stream",
     "text": [
      "vector1 = array([2, 5, 1])\n"
     ]
    }
   ],
   "source": [
    "import numpy as np\n",
    "\n",
    "vector1 = np.array([2,5,1])\n",
    "print(f\"{vector1 = }\")\n",
    "\n",
    "# elementwise multiplication\n"
   ]
  },
  {
   "cell_type": "code",
   "execution_count": 21,
   "metadata": {},
   "outputs": [
    {
     "data": {
      "text/plain": [
       "['supervised learning']"
      ]
     },
     "execution_count": 21,
     "metadata": {},
     "output_type": "execute_result"
    }
   ],
   "source": [
    "text = \"supervised learning\"\n",
    "text.split(\": \")"
   ]
  },
  {
   "cell_type": "code",
   "execution_count": 24,
   "metadata": {},
   "outputs": [
    {
     "name": "stdout",
     "output_type": "stream",
     "text": [
      " Number of words 2\n"
     ]
    }
   ],
   "source": [
    "print(f\" Number of words {len(text.split())}\")"
   ]
  },
  {
   "cell_type": "code",
   "execution_count": 26,
   "metadata": {},
   "outputs": [
    {
     "data": {
      "text/plain": [
       "True"
      ]
     },
     "execution_count": 26,
     "metadata": {},
     "output_type": "execute_result"
    }
   ],
   "source": [
    "cool_name  = \"Anna\"\n",
    "\n",
    "cool_name[::-1].lower() == cool_name.lower()\n",
    "\n"
   ]
  },
  {
   "cell_type": "code",
   "execution_count": 30,
   "metadata": {},
   "outputs": [
    {
     "name": "stdout",
     "output_type": "stream",
     "text": [
      "<__main__.Antagning object at 0x110d8db80>\n"
     ]
    }
   ],
   "source": [
    "class Antagning:\n",
    "    def __init__(self,school, program, name, accept):\n",
    "        self.school = school\n",
    "        self.program = program\n",
    "        self.name = name \n",
    "        self.accept = accept\n",
    "\n",
    "\n",
    "\n",
    "student1 = Antagning(\"NBI\",  \"AI\" , \"Mohsin\" , True)\n",
    "print(student1)"
   ]
  },
  {
   "cell_type": "code",
   "execution_count": 32,
   "metadata": {},
   "outputs": [
    {
     "data": {
      "text/plain": [
       "('Mohsin', 'AI')"
      ]
     },
     "execution_count": 32,
     "metadata": {},
     "output_type": "execute_result"
    }
   ],
   "source": [
    "student1.name , student1.program"
   ]
  },
  {
   "cell_type": "code",
   "execution_count": 33,
   "metadata": {},
   "outputs": [
    {
     "data": {
      "text/plain": [
       "'Zozo'"
      ]
     },
     "execution_count": 33,
     "metadata": {},
     "output_type": "execute_result"
    }
   ],
   "source": [
    "student1.name = \"Zozo\"\n",
    "student1.name"
   ]
  },
  {
   "cell_type": "code",
   "execution_count": 41,
   "metadata": {},
   "outputs": [
    {
     "name": "stdout",
     "output_type": "stream",
     "text": [
      "Antagning(school = 'NBI' , program= 'AI' , name= 'Mohsin' , accept = 'True')\n"
     ]
    }
   ],
   "source": [
    "class Antagning:\n",
    "    def __init__(self,school, program, name, accept):\n",
    "        self.school = school\n",
    "        self.program = program\n",
    "        self.name = name \n",
    "        self.accept = accept\n",
    "\n",
    "    def __repr__(self):\n",
    "        return f\"Antagning(school = '{self.school}' , program= '{self.program}' , name= '{self.name}' , accept = '{self.accept}')\"\n",
    "\n",
    "\n",
    "\n",
    "student1 = Antagning(\"NBI\",  \"AI\" , \"Mohsin\" , True)\n",
    "print(student1)"
   ]
  },
  {
   "cell_type": "code",
   "execution_count": 40,
   "metadata": {},
   "outputs": [
    {
     "ename": "NameError",
     "evalue": "name 'Relation' is not defined",
     "output_type": "error",
     "traceback": [
      "\u001b[0;31m---------------------------------------------------------------------------\u001b[0m",
      "\u001b[0;31mNameError\u001b[0m                                 Traceback (most recent call last)",
      "Cell \u001b[0;32mIn[40], line 1\u001b[0m\n\u001b[0;32m----> 1\u001b[0m \u001b[38;5;28;01mclass\u001b[39;00m \u001b[38;5;21;01mRelation\u001b[39;00m:\n\u001b[1;32m      2\u001b[0m     \u001b[38;5;28;01mdef\u001b[39;00m \u001b[38;5;21m__init__\u001b[39m(\u001b[38;5;28mself\u001b[39m , Husband_name , Wife_name , Son_name, Daughter_name) \u001b[38;5;241m-\u001b[39m\u001b[38;5;241m>\u001b[39m \u001b[38;5;28;01mNone\u001b[39;00m:\n\u001b[1;32m      3\u001b[0m         \u001b[38;5;28mself\u001b[39m\u001b[38;5;241m.\u001b[39mHusband_name \u001b[38;5;241m=\u001b[39m Husband_name\n",
      "Cell \u001b[0;32mIn[40], line 13\u001b[0m, in \u001b[0;36mRelation\u001b[0;34m()\u001b[0m\n\u001b[1;32m      9\u001b[0m \u001b[38;5;28;01mdef\u001b[39;00m \u001b[38;5;21m__repr__\u001b[39m(\u001b[38;5;28mself\u001b[39m) \u001b[38;5;241m-\u001b[39m\u001b[38;5;241m>\u001b[39m \u001b[38;5;28mstr\u001b[39m:\n\u001b[1;32m     10\u001b[0m     \u001b[38;5;28;01mreturn\u001b[39;00m \u001b[38;5;124mf\u001b[39m\u001b[38;5;124m\"\u001b[39m\u001b[38;5;124mRelation(Husband Name = \u001b[39m\u001b[38;5;124m'\u001b[39m\u001b[38;5;132;01m{\u001b[39;00m\u001b[38;5;28mself\u001b[39m\u001b[38;5;241m.\u001b[39mHusband_name\u001b[38;5;132;01m}\u001b[39;00m\u001b[38;5;124m'\u001b[39m\u001b[38;5;124m , Wife name = \u001b[39m\u001b[38;5;124m'\u001b[39m\u001b[38;5;132;01m{\u001b[39;00m\u001b[38;5;28mself\u001b[39m\u001b[38;5;241m.\u001b[39mWife_name\u001b[38;5;132;01m}\u001b[39;00m\u001b[38;5;124m'\u001b[39m\u001b[38;5;124m , Son name = \u001b[39m\u001b[38;5;124m'\u001b[39m\u001b[38;5;132;01m{\u001b[39;00m\u001b[38;5;28mself\u001b[39m\u001b[38;5;241m.\u001b[39mSon_name\u001b[38;5;132;01m}\u001b[39;00m\u001b[38;5;124m'\u001b[39m\u001b[38;5;124m , Daughter name = \u001b[39m\u001b[38;5;124m'\u001b[39m\u001b[38;5;132;01m{\u001b[39;00m\u001b[38;5;28mself\u001b[39m\u001b[38;5;241m.\u001b[39mDaughter_name\u001b[38;5;132;01m}\u001b[39;00m\u001b[38;5;124m'\u001b[39m\u001b[38;5;124m)\u001b[39m\u001b[38;5;124m\"\u001b[39m\n\u001b[0;32m---> 13\u001b[0m Relation1 \u001b[38;5;241m=\u001b[39m \u001b[43mRelation\u001b[49m(\u001b[38;5;124m\"\u001b[39m\u001b[38;5;124mMohsin\u001b[39m\u001b[38;5;124m\"\u001b[39m , \u001b[38;5;124m\"\u001b[39m\u001b[38;5;124mZeinab\u001b[39m\u001b[38;5;124m\"\u001b[39m , \u001b[38;5;124m\"\u001b[39m\u001b[38;5;124mJorah\u001b[39m\u001b[38;5;124m\"\u001b[39m , \u001b[38;5;124m\"\u001b[39m\u001b[38;5;124mAlyana\u001b[39m\u001b[38;5;124m\"\u001b[39m)\n\u001b[1;32m     14\u001b[0m Relation1\n",
      "\u001b[0;31mNameError\u001b[0m: name 'Relation' is not defined"
     ]
    }
   ],
   "source": [
    "class Relation:\n",
    "    def __init__(self , Husband_name , Wife_name , Son_name, Daughter_name) -> None:\n",
    "        self.Husband_name = Husband_name\n",
    "        self.Wife_name = Wife_name\n",
    "        self.Son_name = Son_name\n",
    "        self.Daughter_name = Daughter_name\n",
    "\n",
    "\n",
    "    def __repr__(self) -> str:\n",
    "        return f\"Relation(Husband Name = '{self.Husband_name}' , Wife name = '{self.Wife_name}' , Son name = '{self.Son_name}' , Daughter name = '{self.Daughter_name}')\"\n",
    "    \n",
    "\n",
    "    Relation1 = Relation(\"Mohsin\" , \"Zeinab\" , \"Jorah\" , \"Alyana\")\n",
    "    Relation1"
   ]
  },
  {
   "cell_type": "code",
   "execution_count": 44,
   "metadata": {},
   "outputs": [
    {
     "name": "stdout",
     "output_type": "stream",
     "text": [
      "The sum of 3.0 and 3.0 is: 6.0\n",
      "The sum of 3.0 and 3.0 is: 6.0\n",
      "The sum of 4.0 and 4.0 is: 8.0\n",
      "Exiting the program.\n"
     ]
    }
   ],
   "source": [
    "def add_numbers():\n",
    "    while True:\n",
    "        try:\n",
    "            num1 = float(input(\"Enter the first number or (-1 to stop): \"))\n",
    "            \n",
    "            # Check if the user wants to stop\n",
    "            if num1 == -1:\n",
    "                print(\"Exiting the program.\")\n",
    "                break\n",
    "\n",
    "            num2 = float(input(\"Enter the second number: \"))\n",
    "            \n",
    "            result = num1 + num2\n",
    "            print(f\"The sum of {num1} and {num2} is: {result}\")\n",
    "            \n",
    "        except ValueError as e:\n",
    "            print(f\"Invalid input. Please enter valid numbers. {e}\")\n",
    "\n",
    "# Run the add_numbers function\n",
    "add_numbers()\n"
   ]
  }
 ],
 "metadata": {
  "kernelspec": {
   "display_name": "venv",
   "language": "python",
   "name": "python3"
  },
  "language_info": {
   "codemirror_mode": {
    "name": "ipython",
    "version": 3
   },
   "file_extension": ".py",
   "mimetype": "text/x-python",
   "name": "python",
   "nbconvert_exporter": "python",
   "pygments_lexer": "ipython3",
   "version": "3.9.6"
  }
 },
 "nbformat": 4,
 "nbformat_minor": 2
}
