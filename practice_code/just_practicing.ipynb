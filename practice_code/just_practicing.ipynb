{
 "cells": [
  {
   "cell_type": "code",
   "execution_count": 1,
   "metadata": {},
   "outputs": [
    {
     "name": "stdout",
     "output_type": "stream",
     "text": [
      "(0, 0) (0, 1) (0, 2) (0, 3) \n",
      "(1, 0) (1, 1) (1, 2) (1, 3) \n",
      "(2, 0) (2, 1) (2, 2) (2, 3) \n",
      "(3, 0) (3, 1) (3, 2) (3, 3) \n"
     ]
    }
   ],
   "source": [
    "for x in range(0,4):\n",
    "    for y in range(0,4):\n",
    "        print(f\"({x}, {y})\" , end=\" \")\n",
    "    print()"
   ]
  },
  {
   "cell_type": "code",
   "execution_count": 2,
   "metadata": {},
   "outputs": [
    {
     "name": "stdout",
     "output_type": "stream",
     "text": [
      "77 is unfortunatallity wrong \n",
      "77 is unfortunatallity wrong \n",
      "Correct answer\n",
      "Have a nice day.\n"
     ]
    }
   ],
   "source": [
    "import random\n",
    "\n",
    "while True:\n",
    "    number1 = random.randint(1, 20)\n",
    "    number2 = random.randint(1,20)\n",
    "\n",
    "    user = int(input(f\" What is the multiplication of {number1}*{number2}\"))\n",
    "    if user == number1*number2:\n",
    "        print(\"Correct answer\")\n",
    "    else:\n",
    "        print(f\"{user} is unfortunatallity wrong \")\n",
    "\n",
    "    play_again = input(\"If want to play again enter y for Yes! \")\n",
    "\n",
    "    if play_again != \"y\":\n",
    "        print(\"Have a nice day.\")\n",
    "        break\n"
   ]
  },
  {
   "cell_type": "code",
   "execution_count": 5,
   "metadata": {},
   "outputs": [
    {
     "name": "stdout",
     "output_type": "stream",
     "text": [
      "10\n"
     ]
    }
   ],
   "source": [
    "sum = 0\n",
    "\n",
    "for i in range(0,5):\n",
    "    sum += i\n",
    "print(sum)"
   ]
  },
  {
   "cell_type": "code",
   "execution_count": 8,
   "metadata": {},
   "outputs": [
    {
     "name": "stdout",
     "output_type": "stream",
     "text": [
      "4950\n"
     ]
    }
   ],
   "source": [
    "sum = 0\n",
    "\n",
    "for i in range(1 , 100):\n",
    "    sum += i\n",
    "print(sum)"
   ]
  },
  {
   "cell_type": "code",
   "execution_count": 9,
   "metadata": {},
   "outputs": [
    {
     "name": "stdout",
     "output_type": "stream",
     "text": [
      "The fruit i love to eat. \n",
      "2: apple\n",
      "3: orange\n",
      "4: grape\n",
      "5: strawberry\n"
     ]
    }
   ],
   "source": [
    "fruits = [\"apple\", \"orange\", \"grape\", \"strawberry\"]\n",
    "\n",
    "print(\"The fruit i love to eat. \")\n",
    "\n",
    "for i , fruits in enumerate(fruits, 2):\n",
    "    print(f\"{i}: {fruits}\")"
   ]
  },
  {
   "cell_type": "code",
   "execution_count": 12,
   "metadata": {},
   "outputs": [
    {
     "name": "stdout",
     "output_type": "stream",
     "text": [
      "(0,0) (0,1) (0,2) \n",
      "(1,0) (1,1) (1,2) \n",
      "(2,0) (2,1) (2,2) \n"
     ]
    }
   ],
   "source": [
    "for x in range(0,3):\n",
    "    for j in range(0,3):\n",
    "        print(f\"({x},{j})\", end=\" \")\n",
    "    print()"
   ]
  },
  {
   "cell_type": "code",
   "execution_count": 16,
   "metadata": {},
   "outputs": [
    {
     "name": "stdout",
     "output_type": "stream",
     "text": [
      "['Mästerkockarna', 'Aktuellt']\n"
     ]
    }
   ],
   "source": [
    "tv_shows = [\"Antikrundan\", \"Mästerkockarna\", \"Aktuellt\" , \"Talang\"]\n",
    "print(tv_shows[1:3])"
   ]
  },
  {
   "cell_type": "code",
   "execution_count": 18,
   "metadata": {},
   "outputs": [
    {
     "name": "stdout",
     "output_type": "stream",
     "text": [
      "['h', 'i', 'm', 'n', 'o', 's']\n"
     ]
    }
   ],
   "source": [
    "number = [\"m\",\"s\",\"i\",\"o\",\"n\",\"h\"]\n",
    "number.sort()\n",
    "print(number)"
   ]
  },
  {
   "cell_type": "code",
   "execution_count": 23,
   "metadata": {},
   "outputs": [
    {
     "name": "stdout",
     "output_type": "stream",
     "text": [
      "[0, 1, 8, 27]\n"
     ]
    }
   ],
   "source": [
    "cubes = [ x**3 for x in range(4)]\n",
    "print(cubes)"
   ]
  },
  {
   "cell_type": "code",
   "execution_count": 29,
   "metadata": {},
   "outputs": [
    {
     "name": "stdout",
     "output_type": "stream",
     "text": [
      " Roll dice:  [5, 1, 4, 3, 1, 3, 6, 5, 5, 3]\n",
      "Sorted:  [1, 1, 3, 3, 3, 4, 5, 5, 5, 6]\n"
     ]
    }
   ],
   "source": [
    "import random\n",
    "\n",
    "roll_dice = [random.randint(1,6) for roll in range(10)]\n",
    "\n",
    "sorted_rolls = sorted(roll_dice)\n",
    "\n",
    "print(\" Roll dice: \" , roll_dice)\n",
    "print(\"Sorted: \" , sorted_rolls)"
   ]
  },
  {
   "cell_type": "code",
   "execution_count": 33,
   "metadata": {},
   "outputs": [
    {
     "name": "stdout",
     "output_type": "stream",
     "text": [
      "\n",
      "\n",
      "Name : Mohsin Ahmad\n",
      "Age : 33\n",
      "Address: steken 2D\n",
      "Work : Branch Manager\n",
      "Phone_number : 0708921394\n",
      "\n",
      "\n"
     ]
    }
   ],
   "source": [
    "first_name = \"Mohsin\"\n",
    "second_name = \"Ahmad\"\n",
    "\n",
    "full_name = first_name + \" \" + second_name\n",
    "age = 33\n",
    "address = \"steken 2D\"\n",
    "work = \"Branch Manager\"\n",
    "Phone_number = \"0708921394\"\n",
    "\n",
    "Contact_detail = f\"\"\"\n",
    "\n",
    "Name : {full_name}\n",
    "Age : {age}\n",
    "Address: {address}\n",
    "Work : {work}\n",
    "Phone_number : {Phone_number}\n",
    "\n",
    "\"\"\"\n",
    "\n",
    "print(Contact_detail)"
   ]
  },
  {
   "cell_type": "code",
   "execution_count": 49,
   "metadata": {},
   "outputs": [
    {
     "data": {
      "text/plain": [
       "([-7, -6, -5, -4, -3, -2, -1, 0, 1, 2, 3, 4, 5, 6, 7, 8],\n",
       " [-343, -216, -125, -64, -27, -8, -1, 0, 1, 8, 27, 64, 125, 216, 343, 512])"
      ]
     },
     "execution_count": 49,
     "metadata": {},
     "output_type": "execute_result"
    }
   ],
   "source": [
    "numbers = [i for i in range(-7, 9)]\n",
    "cubes = [number**3 for number in numbers]\n",
    "\n",
    "numbers , cubes"
   ]
  },
  {
   "cell_type": "code",
   "execution_count": 45,
   "metadata": {},
   "outputs": [
    {
     "name": "stdout",
     "output_type": "stream",
     "text": [
      "Velkommen\n",
      "Må, Chili sin carne\n",
      "Ti, Nudlar\n",
      "On, Pokebowl\n",
      "To, Pannkakor\n",
      "Fr, Tacos\n",
      "\n"
     ]
    }
   ],
   "source": [
    "bamba = [\"Chili sin carne\", \"Nudlar\", \"Pokebowl\", \"Pannkakor\", \"Tacos\"]\n",
    "days = [\"Må\", \"Ti\", \"On\", \"To\", \"Fr\"]\n",
    "\n",
    "menu = \"Velkommen\\n\"\n",
    "for day , food in zip(days,bamba):\n",
    "    menu += f\"{day}, {food}\\n\"\n",
    "\n",
    "print(menu)"
   ]
  },
  {
   "cell_type": "code",
   "execution_count": 57,
   "metadata": {},
   "outputs": [
    {
     "name": "stdout",
     "output_type": "stream",
     "text": [
      " MATH has 4 letters\n",
      " BIOLOGY has 7 letters\n",
      " CHEMISTRY has 9 letters\n",
      " PROGRAMMING has 11 letters\n",
      " ISLAMIATE has 9 letters\n",
      " URDU has 4 letters\n"
     ]
    }
   ],
   "source": [
    "subjects = \" MaTh , bioLogy  ,   cHeMistry  ,  PrOgramming , Islamiate , URdu  \"\n",
    "subjects = subjects.split(\" , \")\n",
    "\n",
    "subjects = [subject.strip().upper() for subject in subjects]\n",
    "\n",
    "for subject in subjects:\n",
    "    print(f\" {subject} has {len(subject)} letters\")"
   ]
  },
  {
   "cell_type": "code",
   "execution_count": 67,
   "metadata": {},
   "outputs": [
    {
     "name": "stdout",
     "output_type": "stream",
     "text": [
      "area_circule = 78.54\n"
     ]
    }
   ],
   "source": [
    "import numpy as np \n",
    "\n",
    "radius = 5\n",
    "\n",
    "area_circule = np.pi*radius**2\n",
    "\n",
    "print(f\"{area_circule = :.2f}\")"
   ]
  },
  {
   "cell_type": "code",
   "execution_count": 2,
   "metadata": {},
   "outputs": [
    {
     "name": "stdout",
     "output_type": "stream",
     "text": [
      "you have eneter 133.0 , eneter between 0 to 125. \n",
      "You are 43.0 year old.\n"
     ]
    }
   ],
   "source": [
    "while True:\n",
    "    try:\n",
    "        age = float(input(\"Enter your age\"))\n",
    "\n",
    "        if not 0 <= age <= 125:\n",
    "            raise ValueError(f\"you have eneter {age} , eneter between 0 to 125. \")\n",
    "        print(f\"You are {age} year old.\")\n",
    "        break\n",
    "    except ValueError as err:\n",
    "        print(err)"
   ]
  },
  {
   "cell_type": "code",
   "execution_count": 11,
   "metadata": {},
   "outputs": [
    {
     "data": {
      "text/plain": [
       "8"
      ]
     },
     "execution_count": 11,
     "metadata": {},
     "output_type": "execute_result"
    }
   ],
   "source": [
    "def cuber (number):\n",
    "    return(number**3)\n",
    "cuber(2)"
   ]
  },
  {
   "cell_type": "code",
   "execution_count": 12,
   "metadata": {},
   "outputs": [
    {
     "data": {
      "text/plain": [
       "[0, 1, 8, 27, 64]"
      ]
     },
     "execution_count": 12,
     "metadata": {},
     "output_type": "execute_result"
    }
   ],
   "source": [
    "cubes = [cuber(number) for number in range(5)]\n",
    "cubes"
   ]
  },
  {
   "cell_type": "code",
   "execution_count": 17,
   "metadata": {},
   "outputs": [
    {
     "name": "stdout",
     "output_type": "stream",
     "text": [
      "x\n",
      "xx\n",
      "xxx\n",
      "xxxx\n",
      "xxxxx\n",
      "xxxxxx\n"
     ]
    }
   ],
   "source": [
    "for i in range(1,7):\n",
    "    print(i*\"x\")"
   ]
  },
  {
   "cell_type": "code",
   "execution_count": 24,
   "metadata": {},
   "outputs": [
    {
     "name": "stdout",
     "output_type": "stream",
     "text": [
      "x\n",
      "xx\n",
      "xxx\n",
      "xxxx\n",
      "xxxxx\n",
      "xxxxxx\n",
      "xxxxxxx\n",
      "xxxxxxxx\n",
      "xxxxxxxxx\n",
      "xxxxxxxxxx\n"
     ]
    }
   ],
   "source": [
    "def draw_ascii_triaangle(number_row):\n",
    "    for i in range(1, number_row+1):\n",
    "        print(i*\"x\")\n",
    "\n",
    "draw_ascii_triaangle(10)"
   ]
  },
  {
   "cell_type": "code",
   "execution_count": 25,
   "metadata": {},
   "outputs": [
    {
     "name": "stdout",
     "output_type": "stream",
     "text": [
      "Accuracy level is  0.3, which mean the model performance is Bad \n"
     ]
    }
   ],
   "source": [
    "accuacy = .3 \n",
    "\n",
    "if accuacy > .9:\n",
    "    model_performance = \"Good\"\n",
    "elif accuacy > .5:\n",
    "    model_performance = \"Moderate\"\n",
    "else:\n",
    "    model_performance = \"Bad\"\n",
    "\n",
    "print(f\"Accuracy level is  {accuacy}, which mean the model performance is {model_performance} \")"
   ]
  },
  {
   "cell_type": "code",
   "execution_count": 26,
   "metadata": {},
   "outputs": [
    {
     "data": {
      "text/plain": [
       "'good '"
      ]
     },
     "execution_count": 26,
     "metadata": {},
     "output_type": "execute_result"
    }
   ],
   "source": [
    "performence = \"good \" if accuacy < .9 else \"bad\"\n",
    "performence\n"
   ]
  },
  {
   "cell_type": "code",
   "execution_count": 28,
   "metadata": {},
   "outputs": [
    {
     "data": {
      "text/plain": [
       "4"
      ]
     },
     "execution_count": 28,
     "metadata": {},
     "output_type": "execute_result"
    }
   ],
   "source": [
    "bird = 80000\n",
    "year = 0\n",
    "\n",
    "while bird > 8000:\n",
    "    bird /= 2\n",
    "    year +=1\n",
    "\n",
    "year"
   ]
  },
  {
   "cell_type": "code",
   "execution_count": 29,
   "metadata": {},
   "outputs": [
    {
     "data": {
      "text/plain": [
       "{'name': 'Mohsin', 'age': 33, 'address': 'Storgata'}"
      ]
     },
     "execution_count": 29,
     "metadata": {},
     "output_type": "execute_result"
    }
   ],
   "source": [
    "person1 = dict(name = \"Mohsin\" , age = 33, address= \"Storgata\")\n",
    "person1"
   ]
  },
  {
   "cell_type": "code",
   "execution_count": 30,
   "metadata": {},
   "outputs": [
    {
     "data": {
      "text/plain": [
       "dict_keys(['name', 'age', 'address'])"
      ]
     },
     "execution_count": 30,
     "metadata": {},
     "output_type": "execute_result"
    }
   ],
   "source": [
    "person1.keys()"
   ]
  },
  {
   "cell_type": "code",
   "execution_count": 31,
   "metadata": {},
   "outputs": [
    {
     "data": {
      "text/plain": [
       "('Mohsin', 'Storgata')"
      ]
     },
     "execution_count": 31,
     "metadata": {},
     "output_type": "execute_result"
    }
   ],
   "source": [
    "person1[\"name\"] , person1[\"address\"]"
   ]
  },
  {
   "cell_type": "code",
   "execution_count": 32,
   "metadata": {},
   "outputs": [
    {
     "name": "stdout",
     "output_type": "stream",
     "text": [
      "name : Mohsin\n",
      "age : 33\n",
      "address : Storgata\n"
     ]
    }
   ],
   "source": [
    "for key in person1:\n",
    "    print(key, \":\", person1[key])"
   ]
  },
  {
   "cell_type": "code",
   "execution_count": 34,
   "metadata": {},
   "outputs": [
    {
     "name": "stdout",
     "output_type": "stream",
     "text": [
      "name: Mohsin\n",
      "age: 33\n",
      "address: Storgata\n"
     ]
    }
   ],
   "source": [
    "for key , value in person1.items():\n",
    "    print(f\"{key}: {value}\")"
   ]
  },
  {
   "cell_type": "code",
   "execution_count": 35,
   "metadata": {},
   "outputs": [
    {
     "data": {
      "text/plain": [
       "{'name': 'Mohsin', 'age': 33, 'address': 'Storgata'}"
      ]
     },
     "execution_count": 35,
     "metadata": {},
     "output_type": "execute_result"
    }
   ],
   "source": [
    "person2 = {\"name\" : \"Mohsin\" , \"age\" : 33, \"address\": \"Storgata\"}\n",
    "person2"
   ]
  },
  {
   "cell_type": "code",
   "execution_count": 36,
   "metadata": {},
   "outputs": [
    {
     "data": {
      "text/plain": [
       "True"
      ]
     },
     "execution_count": 36,
     "metadata": {},
     "output_type": "execute_result"
    }
   ],
   "source": [
    "person1 == person2"
   ]
  },
  {
   "cell_type": "code",
   "execution_count": 38,
   "metadata": {},
   "outputs": [
    {
     "data": {
      "text/plain": [
       "([-7, -6, -5, -4, -3, -2, -1, 0, 1, 2, 3, 4, 5, 6],\n",
       " [-343, -216, -125, -64, -27, -8, -1, 0, 1, 8, 27, 64, 125, 216])"
      ]
     },
     "execution_count": 38,
     "metadata": {},
     "output_type": "execute_result"
    }
   ],
   "source": [
    "numbers = [i for i in range(-7,7)]\n",
    "cubes = [number**3 for number in numbers]\n",
    "numbers , cubes"
   ]
  },
  {
   "cell_type": "code",
   "execution_count": 39,
   "metadata": {},
   "outputs": [
    {
     "data": {
      "text/plain": [
       "[<matplotlib.lines.Line2D at 0x11970cca0>]"
      ]
     },
     "execution_count": 39,
     "metadata": {},
     "output_type": "execute_result"
    },
    {
     "data": {
      "image/png": "[encoded data removed]",
      "text/plain": [
       "<Figure size 640x480 with 1 Axes>"
      ]
     },
     "metadata": {},
     "output_type": "display_data"
    }
   ],
   "source": [
    "import matplotlib.pyplot as plt\n",
    "\n",
    "plt.plot(numbers, cubes)"
   ]
  },
  {
   "cell_type": "code",
   "execution_count": 44,
   "metadata": {},
   "outputs": [
    {
     "name": "stdout",
     "output_type": "stream",
     "text": [
      "area_circule = 78.54\n"
     ]
    }
   ],
   "source": [
    "import numpy as np\n",
    "radius = 5\n",
    "\n",
    "area_circule = np.pi*radius**2\n",
    "print(f\"{area_circule = :.2f}\")"
   ]
  },
  {
   "cell_type": "code",
   "execution_count": 45,
   "metadata": {},
   "outputs": [
    {
     "data": {
      "text/plain": [
       "125"
      ]
     },
     "execution_count": 45,
     "metadata": {},
     "output_type": "execute_result"
    }
   ],
   "source": [
    "cuber = lambda x: x**3\n",
    "cuber(5)"
   ]
  },
  {
   "cell_type": "code",
   "execution_count": 53,
   "metadata": {},
   "outputs": [
    {
     "name": "stdout",
     "output_type": "stream",
     "text": [
      "x = (-5, -4, -3, -2, -1, 0, 1, 2, 3, 4)\n",
      "y = [-17, -14, -11, -8, -5, -2, 1, 4, 7, 10]\n",
      "y2 = [23, 14, 7, 2, -1, -2, -1, 2, 7, 14]\n"
     ]
    },
    {
     "data": {
      "text/plain": [
       "<matplotlib.legend.Legend at 0x1197cee20>"
      ]
     },
     "execution_count": 53,
     "metadata": {},
     "output_type": "execute_result"
    },
    {
     "data": {
      "image/png": "[encoded data removed]",
      "text/plain": [
       "<Figure size 640x480 with 1 Axes>"
      ]
     },
     "metadata": {},
     "output_type": "display_data"
    }
   ],
   "source": [
    "import matplotlib.pyplot as plt\n",
    "\n",
    "f = lambda x : 3* x -2\n",
    "\n",
    "def g(x):\n",
    "    return x**2 - 2\n",
    "\n",
    "x = tuple (range(-5,5))\n",
    "print(f\"{x = }\")\n",
    "\n",
    "y = [f(i) for i in x]\n",
    "y2 = [g(i) for i in x]\n",
    "\n",
    "print(f\"{y = }\")\n",
    "print(f\"{y2 = }\")\n",
    "\n",
    "plt.plot(x,y)\n",
    "plt.plot(x, y2)\n",
    "plt.title(\"plotting 2 functions\")\n",
    "plt.xlabel(\"x\")\n",
    "plt.ylabel(\"y\")\n",
    "plt.legend([\"f(x)\", \"g(x)\"])"
   ]
  },
  {
   "cell_type": "code",
   "execution_count": null,
   "metadata": {},
   "outputs": [],
   "source": [
    "# file_path for the pichu\n",
    "\n",
    "file_path = \"../data/pichu_raw.txt\"\n",
    "\n",
    "with open(file_path , \"r\") as pichu_file:\n",
    "    pichu_raw_file = pichu_file.read()\n",
    "print(pichu_raw_file)\n"
   ]
  },
  {
   "cell_type": "code",
   "execution_count": 5,
   "metadata": {},
   "outputs": [
    {
     "name": "stdout",
     "output_type": "stream",
     "text": [
      "4\n",
      "[0, 1, 4, 9, 16, 25, 36, 49, 64, 81]\n"
     ]
    }
   ],
   "source": [
    "def square (x):\n",
    "    return x**2\n",
    "\n",
    "print(square(2))\n",
    "\n",
    "square = [square(x) for x in range(10)]\n",
    "print(square)"
   ]
  },
  {
   "cell_type": "code",
   "execution_count": 11,
   "metadata": {},
   "outputs": [
    {
     "name": "stdout",
     "output_type": "stream",
     "text": [
      "Hello Mohsin\n",
      "Hello Friend\n",
      "Hello Zozo\n",
      "None\n"
     ]
    }
   ],
   "source": [
    "def say_hello(name = \"Friend\"):\n",
    "    print(f\"Hello {name}\")\n",
    "\n",
    "say_hello(\"Mohsin\")\n",
    "say_hello()\n",
    "print(say_hello(\"Zozo\"))"
   ]
  },
  {
   "cell_type": "code",
   "execution_count": 12,
   "metadata": {},
   "outputs": [
    {
     "name": "stdout",
     "output_type": "stream",
     "text": [
      "3\n"
     ]
    }
   ],
   "source": [
    "def smallest(number1 , number2):\n",
    "    if number1 > number2:\n",
    "        return number2\n",
    "    else:\n",
    "        return number1\n",
    "    \n",
    "print(smallest(3 , 5))"
   ]
  },
  {
   "cell_type": "code",
   "execution_count": null,
   "metadata": {},
   "outputs": [],
   "source": [
    "def count_words(text):\n",
    "    "
   ]
  },
  {
   "cell_type": "code",
   "execution_count": 13,
   "metadata": {},
   "outputs": [
    {
     "name": "stdout",
     "output_type": "stream",
     "text": [
      "(20.12, 28.7, 0)\n",
      "(15.2, 27.1, 0)\n",
      "(17.2, 27.67, 0)\n",
      "(16.79, 34.37, 0)\n",
      "(20.89, 31.48, 0)\n",
      "(20.41, 31.09, 0)\n",
      "(22.14, 26.71, 0)\n",
      "(15.7, 32.29, 0)\n",
      "(18.38, 26.63, 0)\n",
      "(15.24, 28.79, 0)\n",
      "(18.14, 44.95, 1)\n",
      "(26.65, 41.5, 1)\n",
      "(26.18, 39.38, 1)\n",
      "(24.44, 40.18, 1)\n",
      "(21.2, 36.21, 1)\n",
      "(25.69, 37.25, 1)\n",
      "(19.34, 38.38, 1)\n",
      "(23.22, 40.88, 1)\n",
      "(23.44, 37.3, 1)\n",
      "(29.45, 37.2, 1)\n"
     ]
    }
   ],
   "source": [
    "# Assuming pichu_rounded_data and pikachu_rounded_data are your existing data\n",
    "pichu_data = [\n",
    "    (20.12, 28.7),\n",
    "    (15.2, 27.1),\n",
    "    (17.2, 27.67),\n",
    "    (16.79, 34.37),\n",
    "    (20.89, 31.48),\n",
    "    (20.41, 31.09),\n",
    "    (22.14, 26.71),\n",
    "    (15.7, 32.29),\n",
    "    (18.38, 26.63),\n",
    "    (15.24, 28.79)\n",
    "]\n",
    "\n",
    "pikachu_data = [\n",
    "    (18.14, 44.95),\n",
    "    (26.65, 41.5),\n",
    "    (26.18, 39.38),\n",
    "    (24.44, 40.18),\n",
    "    (21.2, 36.21),\n",
    "    (25.69, 37.25),\n",
    "    (19.34, 38.38),\n",
    "    (23.22, 40.88),\n",
    "    (23.44, 37.3),\n",
    "    (29.45, 37.2)\n",
    "]\n",
    "\n",
    "# Label pichu as 0 and pikachu as 1\n",
    "combined_data = [(point[0], point[1], 0) for point in pichu_data] + [(point[0], point[1], 1) for point in pikachu_data]\n",
    "\n",
    "# Print the combined data\n",
    "for data_point in combined_data:\n",
    "    print(data_point)\n"
   ]
  },
  {
   "cell_type": "code",
   "execution_count": 14,
   "metadata": {},
   "outputs": [
    {
     "ename": "ModuleNotFoundError",
     "evalue": "No module named 'scipy'",
     "output_type": "error",
     "traceback": [
      "\u001b[0;31m---------------------------------------------------------------------------\u001b[0m",
      "\u001b[0;31mModuleNotFoundError\u001b[0m                       Traceback (most recent call last)",
      "Cell \u001b[0;32mIn[14], line 1\u001b[0m\n\u001b[0;32m----> 1\u001b[0m \u001b[38;5;28;01mfrom\u001b[39;00m \u001b[38;5;21;01mscipy\u001b[39;00m\u001b[38;5;21;01m.\u001b[39;00m\u001b[38;5;21;01mspatial\u001b[39;00m \u001b[38;5;28;01mimport\u001b[39;00m distance\n\u001b[1;32m      3\u001b[0m \u001b[38;5;66;03m# Define the test points\u001b[39;00m\n\u001b[1;32m      4\u001b[0m test_points \u001b[38;5;241m=\u001b[39m [(\u001b[38;5;241m25\u001b[39m, \u001b[38;5;241m35\u001b[39m), (\u001b[38;5;241m15\u001b[39m, \u001b[38;5;241m14\u001b[39m), (\u001b[38;5;241m26\u001b[39m, \u001b[38;5;241m30\u001b[39m), (\u001b[38;5;241m22\u001b[39m, \u001b[38;5;241m45\u001b[39m)]\n",
      "\u001b[0;31mModuleNotFoundError\u001b[0m: No module named 'scipy'"
     ]
    }
   ],
   "source": [
    "from scipy.spatial import distance\n",
    "\n",
    "# Define the test points\n",
    "test_points = [(25, 35), (15, 14), (26, 30), (22, 45)]\n",
    "\n",
    "# Define the combined data (x, y, label)\n",
    "combined_data = [\n",
    "    (20.12, 28.7, 0), (15.2, 27.1, 0), (17.2, 27.67, 0), (16.79, 34.37, 0), (20.89, 31.48, 0),\n",
    "    (20.41, 31.09, 0), (22.14, 26.71, 0), (15.7, 32.29, 0), (18.38, 26.63, 0), (15.24, 28.79, 0),\n",
    "    (18.14, 44.95, 1), (26.65, 41.5, 1), (26.18, 39.38, 1), (24.44, 40.18, 1), (21.2, 36.21, 1),\n",
    "    (25.69, 37.25, 1), (19.34, 38.38, 1), (23.22, 40.88, 1), (23.44, 37.3, 1), (29.45, 37.2, 1)\n",
    "]\n",
    "\n",
    "# Calculate distances and classify test points\n",
    "for test_point in test_points:\n",
    "    distances = [distance.euclidean(test_point, (x, y)) for x, y, label in combined_data]\n",
    "    closest_point_label = min(enumerate(distances), key=lambda x: x[1])[0]\n",
    "    print(f\"Test point {test_point} is classified as {combined_data[closest_point_label][2]} (0 for Pichu, 1 for Pikachu)\")\n"
   ]
  },
  {
   "cell_type": "code",
   "execution_count": 17,
   "metadata": {},
   "outputs": [
    {
     "data": {
      "text/plain": [
       "<function matplotlib.pyplot.show(close=None, block=None)>"
      ]
     },
     "execution_count": 17,
     "metadata": {},
     "output_type": "execute_result"
    },
    {
     "data": {
      "image/png": "[encoded data removed]",
      "text/plain": [
       "<Figure size 640x480 with 1 Axes>"
      ]
     },
     "metadata": {},
     "output_type": "display_data"
    }
   ],
   "source": [
    "Dog= [ (5, 8) ,(7, 10) ,(6, 12),(8, 9),(7, 11)]\n",
    "\n",
    "import matplotlib.pyplot as plt\n",
    "\n",
    "\n",
    "x_dog, y_dog = zip(*Dog)\n",
    "\n",
    "plt.scatter(x_dog,y_dog , color= \"Red\")\n",
    "\n",
    "plt.xlabel(\"width(cm)\")\n",
    "plt.ylabel(\"heigh (cm)\")\n",
    "\n",
    "plt.title(\"Dog dimensions\")\n",
    "\n",
    "plt.show"
   ]
  },
  {
   "cell_type": "code",
   "execution_count": 19,
   "metadata": {},
   "outputs": [
    {
     "data": {
      "image/png": "[encoded data removed]",
      "text/plain": [
       "<Figure size 640x480 with 1 Axes>"
      ]
     },
     "metadata": {},
     "output_type": "display_data"
    }
   ],
   "source": [
    "Cat = [(3,4),(4,5), (2,6), (5,3), (3,5)]\n",
    "\n",
    "import matplotlib.pyplot as plt\n",
    "\n",
    "x_cat , y_cat = zip(*Cat)\n",
    "\n",
    "plt.scatter(x_cat,y_cat, color = \"Green\")\n",
    "\n",
    "plt.xlabel(\"width (cm)\")\n",
    "plt.ylabel(\"height (cm)\")\n",
    "plt.title(\"Cat dimension\")\n",
    "\n",
    "plt.show()"
   ]
  },
  {
   "cell_type": "code",
   "execution_count": 23,
   "metadata": {},
   "outputs": [
    {
     "data": {
      "image/png": "[encoded data removed]",
      "text/plain": [
       "<Figure size 640x480 with 1 Axes>"
      ]
     },
     "metadata": {},
     "output_type": "display_data"
    }
   ],
   "source": [
    "Test_Points = [(6,10), (3,5), (4,8)]\n",
    "\n",
    "import matplotlib.pyplot as plt\n",
    "\n",
    "x_cat , y_cat = zip(*Cat)\n",
    "x_dog, y_dog = zip(*Dog)\n",
    "x_test_points , y_test_points = zip(*Test_Points)\n",
    "\n",
    "plt.scatter(x_cat,y_cat, color = \"Green\", label = \"Cat\")\n",
    "plt.scatter(x_dog,y_dog , color= \"Red\" , label = \"Dog\")\n",
    "plt.scatter(x_test_points, y_test_points , color = \"Blue\" , label = \"Test_Points\")\n",
    "\n",
    "plt.xlabel(\"width (cm)\")\n",
    "plt.ylabel(\"height (cm)\")\n",
    "plt.title(\"Cat  , Dag and Test_Points  dimension\")\n",
    "\n",
    "plt.legend()\n",
    "plt.show()"
   ]
  },
  {
   "cell_type": "code",
   "execution_count": 32,
   "metadata": {},
   "outputs": [
    {
     "name": "stdout",
     "output_type": "stream",
     "text": [
      "Test Point 1  is a Dog\n",
      "Test Point 2  is a Cat\n",
      "Test Point 3  is a Dog\n"
     ]
    }
   ],
   "source": [
    "import math \n",
    "\n",
    "def euclidean_distance (Point1 , Point2):\n",
    "    x1, y1 = Point1\n",
    "    x2, y2 = Point2\n",
    "\n",
    "    return math.sqrt((x2-x1)**2 + (y2-y1)**2)\n",
    "\n",
    "\n",
    "def calculate_test_points(test_points, dog_points , cat_points):\n",
    "    dog_distance = [euclidean_distance(test_points,dog_point) for dog_point in dog_points]\n",
    "    cat_distance = [euclidean_distance(test_points, cat_point) for cat_point in cat_points]\n",
    "\n",
    "    min_dog_distance = min(dog_distance)\n",
    "    min_cat_distance = min(cat_distance)\n",
    "\n",
    "\n",
    "    if min_cat_distance < min_dog_distance:\n",
    "        return \"Cat\"\n",
    "    elif min_dog_distance < min_cat_distance:\n",
    "        return \"Dog\"\n",
    "    \n",
    "    else:\n",
    "        return \"Cant say anything about this. \"\n",
    "    \n",
    "\n",
    "Dog= [ (5, 8) ,(7, 10) ,(6, 12),(8, 9),(7, 11)]\n",
    "Cat = [(3,4),(4,5), (2,6), (5,3), (3,5)]\n",
    "Test_points = [(6,10), (3,5), (4,8)]\n",
    "\n",
    "\n",
    "\n",
    "\n",
    "result1 = calculate_test_points(Test_Points[0] , Dog , Cat)\n",
    "result2 = calculate_test_points(Test_Points[1],  Dog, Cat)\n",
    "result3 = calculate_test_points(Test_Points[2] , Dog, Cat)\n",
    "\n",
    "print(f\"Test Point 1  is a {result1}\")\n",
    "print(f\"Test Point 2  is a {result2}\")\n",
    "print(f\"Test Point 3  is a {result3}\")"
   ]
  },
  {
   "cell_type": "code",
   "execution_count": 34,
   "metadata": {},
   "outputs": [
    {
     "name": "stdout",
     "output_type": "stream",
     "text": [
      "hi mohsin\n"
     ]
    }
   ],
   "source": [
    "def say_hi(name):\n",
    "    print(f\"hi {name}\")\n",
    "\n",
    "\n",
    "say_hi(\"mohsin\")"
   ]
  },
  {
   "cell_type": "code",
   "execution_count": 36,
   "metadata": {},
   "outputs": [
    {
     "name": "stdout",
     "output_type": "stream",
     "text": [
      " 3 is smallest\n",
      "None\n"
     ]
    }
   ],
   "source": [
    "def smallest(num1, num2):\n",
    "    if num1 < num2:\n",
    "        print(f\" {num1} is smallest\")\n",
    "\n",
    "    else:\n",
    "        print(f\"{num2} is smallest\")\n",
    "\n",
    "print(smallest(3,6))"
   ]
  },
  {
   "cell_type": "code",
   "execution_count": 45,
   "metadata": {},
   "outputs": [
    {
     "name": "stdout",
     "output_type": "stream",
     "text": [
      "Orignal quote I , stand , om , the , shoulder , of , gaints\n",
      "7\n"
     ]
    }
   ],
   "source": [
    "def count_words(text):\n",
    "    words= text.split()\n",
    "    joined_text = \" , \" . join(words)\n",
    "    print(f\"Orignal quote {joined_text}\")\n",
    "\n",
    "    return len(words)\n",
    "\n",
    "    \n",
    "\n",
    "quote = \"I stand om the shoulder of gaints\"\n",
    "print(count_words(text= quote))"
   ]
  },
  {
   "cell_type": "code",
   "execution_count": 53,
   "metadata": {},
   "outputs": [
    {
     "name": "stdout",
     "output_type": "stream",
     "text": [
      "Hello , goodmorning , Pakistan , how , are , you , today\n",
      "None\n"
     ]
    }
   ],
   "source": [
    "def count_words(text):\n",
    "\n",
    "\n",
    "    \n",
    "\n",
    "    words = quote.split()\n",
    "\n",
    "    join_txt = \" , \".join(words)\n",
    "    print(join_txt)\n",
    "\n",
    "quote = \"Hello goodmorning Pakistan how are you today\"\n",
    "print(count_words(text=quote))"
   ]
  },
  {
   "cell_type": "code",
   "execution_count": 56,
   "metadata": {},
   "outputs": [
    {
     "name": "stdout",
     "output_type": "stream",
     "text": [
      "3.0\n"
     ]
    }
   ],
   "source": [
    "def mean_of_all(*args):\n",
    "    sum = 0\n",
    "    for arg in args:\n",
    "        sum += arg\n",
    "    return sum/len(args)\n",
    "\n",
    "print(mean_of_all(1,2,3,4,5))"
   ]
  },
  {
   "cell_type": "code",
   "execution_count": 65,
   "metadata": {},
   "outputs": [
    {
     "ename": "TypeError",
     "evalue": "'str' object is not callable",
     "output_type": "error",
     "traceback": [
      "\u001b[0;31m---------------------------------------------------------------------------\u001b[0m",
      "\u001b[0;31mTypeError\u001b[0m                                 Traceback (most recent call last)",
      "Cell \u001b[0;32mIn[65], line 15\u001b[0m\n\u001b[1;32m     12\u001b[0m     plt\u001b[38;5;241m.\u001b[39mylabel(\u001b[38;5;124m\"\u001b[39m\u001b[38;5;124my\u001b[39m\u001b[38;5;124m\"\u001b[39m)\n\u001b[1;32m     13\u001b[0m     plt\u001b[38;5;241m.\u001b[39mshow()\n\u001b[0;32m---> 15\u001b[0m \u001b[43mdraw_line\u001b[49m\u001b[43m(\u001b[49m\u001b[43mx\u001b[49m\u001b[43m)\u001b[49m\n\u001b[1;32m     16\u001b[0m draw_line(x , a\u001b[38;5;241m=\u001b[39m\u001b[38;5;241m1\u001b[39m , b\u001b[38;5;241m=\u001b[39m\u001b[38;5;241m1\u001b[39m)\n",
      "Cell \u001b[0;32mIn[65], line 11\u001b[0m, in \u001b[0;36mdraw_line\u001b[0;34m(x, a, b)\u001b[0m\n\u001b[1;32m      9\u001b[0m plt\u001b[38;5;241m.\u001b[39mplot(x,y)\n\u001b[1;32m     10\u001b[0m plt\u001b[38;5;241m.\u001b[39mtitle(\u001b[38;5;124m\"\u001b[39m\u001b[38;5;124my = ax + b lines\u001b[39m\u001b[38;5;124m\"\u001b[39m)\n\u001b[0;32m---> 11\u001b[0m \u001b[43mplt\u001b[49m\u001b[38;5;241;43m.\u001b[39;49m\u001b[43mxlabel\u001b[49m\u001b[43m(\u001b[49m\u001b[38;5;124;43m\"\u001b[39;49m\u001b[38;5;124;43mx\u001b[39;49m\u001b[38;5;124;43m\"\u001b[39;49m\u001b[43m)\u001b[49m\n\u001b[1;32m     12\u001b[0m plt\u001b[38;5;241m.\u001b[39mylabel(\u001b[38;5;124m\"\u001b[39m\u001b[38;5;124my\u001b[39m\u001b[38;5;124m\"\u001b[39m)\n\u001b[1;32m     13\u001b[0m plt\u001b[38;5;241m.\u001b[39mshow()\n",
      "\u001b[0;31mTypeError\u001b[0m: 'str' object is not callable"
     ]
    },
    {
     "data": {
      "image/png": "[encoded data removed]",
      "text/plain": [
       "<Figure size 640x480 with 1 Axes>"
      ]
     },
     "metadata": {},
     "output_type": "display_data"
    }
   ],
   "source": [
    "import matplotlib.pyplot as plt\n",
    "\n",
    "x = list(range(-5, 5))\n",
    "\n",
    "# y = ax + b \n",
    "def draw_line ( x, a=1 , b = 1):\n",
    "    y = [a*x_ + b for x_ in x ]\n",
    "\n",
    "    plt.plot(x,y)\n",
    "    plt.title(\"y = ax + b lines\")\n",
    "    plt.xlabel(\"x\")\n",
    "    plt.ylabel(\"y\")\n",
    "    plt.show()\n",
    "\n",
    "draw_line(x)\n",
    "draw_line(x , a=1 , b=1)"
   ]
  },
  {
   "cell_type": "code",
   "execution_count": null,
   "metadata": {},
   "outputs": [],
   "source": []
  }
 ],
 "metadata": {
  "kernelspec": {
   "display_name": "venv",
   "language": "python",
   "name": "python3"
  },
  "language_info": {
   "codemirror_mode": {
    "name": "ipython",
    "version": 3
   },
   "file_extension": ".py",
   "mimetype": "text/x-python",
   "name": "python",
   "nbconvert_exporter": "python",
   "pygments_lexer": "ipython3",
   "version": "3.9.6"
  }
 },
 "nbformat": 4,
 "nbformat_minor": 2
}
