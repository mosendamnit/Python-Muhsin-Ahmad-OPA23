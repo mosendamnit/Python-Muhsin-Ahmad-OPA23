{
 "cells": [
  {
   "cell_type": "code",
   "execution_count": 119,
   "metadata": {},
   "outputs": [],
   "source": [
    "# file_path for the pichu\n",
    "\n",
    "file_path = \"../data/pichu_raw.txt\"\n",
    "\n",
    "with open(file_path , \"r\") as pichu_file:\n",
    "    pichu_raw_file = pichu_file.read()"
   ]
  },
  {
   "cell_type": "code",
   "execution_count": 120,
   "metadata": {},
   "outputs": [],
   "source": [
    "\n",
    "lines = pichu_raw_file.strip().split('\\n')\n",
    "\n",
    "header_line = lines.pop(0) if lines[0].startswith('(width (cm), height (cm))') else None"
   ]
  },
  {
   "cell_type": "code",
   "execution_count": 123,
   "metadata": {},
   "outputs": [
    {
     "name": "stdout",
     "output_type": "stream",
     "text": [
      "(20.12, 28.7)\n",
      "(15.2, 27.1)\n",
      "(17.2, 27.67)\n",
      "(16.79, 34.37)\n",
      "(20.89, 31.48)\n",
      "(20.41, 31.09)\n",
      "(22.14, 26.71)\n",
      "(15.7, 32.29)\n",
      "(18.38, 26.63)\n",
      "(15.24, 28.79)\n",
      "(16.75, 34.9)\n",
      "(19.04, 31.4)\n",
      "(15.21, 30.57)\n",
      "(16.59, 31.85)\n",
      "(20.2, 33.43)\n",
      "(19.36, 32.76)\n",
      "(16.76, 27.29)\n",
      "(19.71, 25.32)\n",
      "(21.48, 28.15)\n",
      "(15.05, 27.68)\n",
      "(21.45, 27.11)\n",
      "(20.59, 34.43)\n",
      "(17.72, 33.76)\n",
      "(16.24, 28.15)\n",
      "(22.66, 31.55)\n",
      "(17.69, 28.96)\n",
      "(15.74, 34.15)\n",
      "(15.77, 29.59)\n",
      "(21.78, 27.65)\n",
      "(19.83, 27.47)\n",
      "(21.46, 30.61)\n",
      "(20.84, 27.63)\n",
      "(19.29, 30.85)\n",
      "(22.78, 33.98)\n",
      "(18.03, 28.99)\n",
      "(19.42, 27.19)\n",
      "(21.64, 34.98)\n",
      "(19.95, 30.1)\n",
      "(21.89, 25.91)\n",
      "(19.62, 25.47)\n",
      "(20.64, 26.1)\n",
      "(15.37, 31.27)\n",
      "(16.82, 32.92)\n",
      "(17.32, 29.22)\n",
      "(15.64, 25.64)\n",
      "(16.86, 28.82)\n",
      "(15.81, 34.96)\n",
      "(17.22, 30.29)\n",
      "(20.09, 34.71)\n",
      "(17.92, 33.61)\n"
     ]
    }
   ],
   "source": [
    "\n",
    "pichu_rounded_data = [\n",
    "    (round(float(line.split(',')[0].strip().replace('(', '')), 2), round(float(line.split(',')[1].strip().replace(')', '')), 2))\n",
    "    for line in lines if line.startswith('(')\n",
    "]\n",
    "\n",
    "\n",
    "for data_point in pichu_rounded_data:\n",
    "    print(data_point)"
   ]
  },
  {
   "cell_type": "code",
   "execution_count": 124,
   "metadata": {},
   "outputs": [],
   "source": [
    "# file_path for the pikachu\n",
    "\n",
    "file_path = \"../data/pikachu_raw.txt\"\n",
    "\n",
    "with open(file_path , \"r\") as pikachu_file:\n",
    "    pikachu_raw_file = pikachu_file.read()\n"
   ]
  },
  {
   "cell_type": "code",
   "execution_count": 125,
   "metadata": {},
   "outputs": [],
   "source": [
    "\n",
    "lines = pikachu_raw_file.strip().split('\\n')\n",
    "\n",
    "\n",
    "header_line = lines.pop(0) if lines[0].startswith('(width (cm), height (cm))') else None"
   ]
  },
  {
   "cell_type": "code",
   "execution_count": 126,
   "metadata": {},
   "outputs": [
    {
     "name": "stdout",
     "output_type": "stream",
     "text": [
      "(18.14, 44.95)\n",
      "(26.65, 41.5)\n",
      "(26.18, 39.38)\n",
      "(24.44, 40.18)\n",
      "(21.2, 36.21)\n",
      "(25.69, 37.25)\n",
      "(19.34, 38.38)\n",
      "(23.22, 40.88)\n",
      "(23.44, 37.3)\n",
      "(29.45, 37.2)\n",
      "(28.51, 35.71)\n",
      "(21.16, 41.31)\n",
      "(24.01, 37.29)\n",
      "(20.14, 44.05)\n",
      "(28.95, 43.6)\n",
      "(28.45, 35.71)\n",
      "(21.58, 37.38)\n",
      "(25.67, 41.69)\n",
      "(25.31, 37.14)\n",
      "(19.83, 36.32)\n",
      "(27.15, 44.36)\n",
      "(24.47, 40.71)\n",
      "(27.34, 39.73)\n",
      "(24.36, 42.85)\n",
      "(18.01, 43.07)\n",
      "(21.89, 36.9)\n",
      "(18.23, 35.97)\n",
      "(29.15, 39.31)\n",
      "(28.54, 39.24)\n",
      "(27.98, 39.67)\n",
      "(21.69, 42.29)\n",
      "(18.7, 41.73)\n",
      "(28.54, 44.84)\n",
      "(29.36, 35.98)\n",
      "(19.03, 39.03)\n",
      "(23.83, 38.39)\n",
      "(18.83, 43.62)\n",
      "(27.13, 37.49)\n",
      "(27.19, 36.9)\n",
      "(19.54, 39.49)\n",
      "(23.7, 39.22)\n",
      "(24.6, 37.79)\n",
      "(21.18, 37.5)\n",
      "(28.47, 44.23)\n",
      "(23.08, 39.43)\n",
      "(20.54, 43.61)\n",
      "(24.47, 40.5)\n",
      "(26.76, 35.51)\n",
      "(20.41, 44.99)\n",
      "(21.74, 43.36)\n"
     ]
    }
   ],
   "source": [
    "\n",
    "pikachu_rounded_data = [\n",
    "    (round(float(line.split(',')[0].strip().replace('(', '')), 2), round(float(line.split(',')[1].strip().replace(')', '')), 2))\n",
    "    for line in lines if line.startswith('(')\n",
    "]\n",
    "\n",
    "\n",
    "for data_point in pikachu_rounded_data:\n",
    "    print(data_point)"
   ]
  },
  {
   "cell_type": "code",
   "execution_count": 127,
   "metadata": {},
   "outputs": [
    {
     "name": "stdout",
     "output_type": "stream",
     "text": [
      "(25, 35), (15,14), (26,30), (22,45)\n"
     ]
    }
   ],
   "source": [
    "# ptah find for Test_points\n",
    "\n",
    "file_path  = \"../data/test_points.txt\"\n",
    "\n",
    "with open(file_path , \"r\") as test_point:\n",
    "    test_point_file = test_point.read()\n",
    "    print(test_point_file)"
   ]
  },
  {
   "cell_type": "code",
   "execution_count": 128,
   "metadata": {},
   "outputs": [
    {
     "name": "stdout",
     "output_type": "stream",
     "text": [
      "[(25.0, 35.0), (15.0, 14.0), (26.0, 30.0), (22.0, 45.0)]\n"
     ]
    }
   ],
   "source": [
    "test_point = test_point_file.replace(' ','' )\n",
    "\n",
    "test_point= test_point.split(\"),(\")\n",
    "\n",
    "test_point\n",
    "\n",
    "test_point = [points.replace('(', '').replace(')','') for points in test_point]\n",
    "\n",
    "test_point\n",
    "\n",
    "\n",
    "test_point = [tuple(map(float, points.split(',')))for points in test_point]\n",
    "print(test_point)\n",
    "\n"
   ]
  },
  {
   "cell_type": "code",
   "execution_count": 131,
   "metadata": {},
   "outputs": [
    {
     "name": "stdout",
     "output_type": "stream",
     "text": [
      "(20.12, 28.7, 0)\n",
      "(15.2, 27.1, 0)\n",
      "(17.2, 27.67, 0)\n",
      "(16.79, 34.37, 0)\n",
      "(20.89, 31.48, 0)\n",
      "(20.41, 31.09, 0)\n",
      "(22.14, 26.71, 0)\n",
      "(15.7, 32.29, 0)\n",
      "(18.38, 26.63, 0)\n",
      "(15.24, 28.79, 0)\n",
      "(16.75, 34.9, 0)\n",
      "(19.04, 31.4, 0)\n",
      "(15.21, 30.57, 0)\n",
      "(16.59, 31.85, 0)\n",
      "(20.2, 33.43, 0)\n",
      "(19.36, 32.76, 0)\n",
      "(16.76, 27.29, 0)\n",
      "(19.71, 25.32, 0)\n",
      "(21.48, 28.15, 0)\n",
      "(15.05, 27.68, 0)\n",
      "(21.45, 27.11, 0)\n",
      "(20.59, 34.43, 0)\n",
      "(17.72, 33.76, 0)\n",
      "(16.24, 28.15, 0)\n",
      "(22.66, 31.55, 0)\n",
      "(17.69, 28.96, 0)\n",
      "(15.74, 34.15, 0)\n",
      "(15.77, 29.59, 0)\n",
      "(21.78, 27.65, 0)\n",
      "(19.83, 27.47, 0)\n",
      "(21.46, 30.61, 0)\n",
      "(20.84, 27.63, 0)\n",
      "(19.29, 30.85, 0)\n",
      "(22.78, 33.98, 0)\n",
      "(18.03, 28.99, 0)\n",
      "(19.42, 27.19, 0)\n",
      "(21.64, 34.98, 0)\n",
      "(19.95, 30.1, 0)\n",
      "(21.89, 25.91, 0)\n",
      "(19.62, 25.47, 0)\n",
      "(20.64, 26.1, 0)\n",
      "(15.37, 31.27, 0)\n",
      "(16.82, 32.92, 0)\n",
      "(17.32, 29.22, 0)\n",
      "(15.64, 25.64, 0)\n",
      "(16.86, 28.82, 0)\n",
      "(15.81, 34.96, 0)\n",
      "(17.22, 30.29, 0)\n",
      "(20.09, 34.71, 0)\n",
      "(17.92, 33.61, 0)\n"
     ]
    }
   ],
   "source": [
    "pichu_label_file = [(width , height , 0) for width , height in pichu_rounded_data]\n",
    "\n",
    "for pichu_points in pichu_label_file:\n",
    "    print(pichu_points)"
   ]
  },
  {
   "cell_type": "code",
   "execution_count": 132,
   "metadata": {},
   "outputs": [
    {
     "name": "stdout",
     "output_type": "stream",
     "text": [
      "(18.14, 44.95, 1)\n",
      "(26.65, 41.5, 1)\n",
      "(26.18, 39.38, 1)\n",
      "(24.44, 40.18, 1)\n",
      "(21.2, 36.21, 1)\n",
      "(25.69, 37.25, 1)\n",
      "(19.34, 38.38, 1)\n",
      "(23.22, 40.88, 1)\n",
      "(23.44, 37.3, 1)\n",
      "(29.45, 37.2, 1)\n",
      "(28.51, 35.71, 1)\n",
      "(21.16, 41.31, 1)\n",
      "(24.01, 37.29, 1)\n",
      "(20.14, 44.05, 1)\n",
      "(28.95, 43.6, 1)\n",
      "(28.45, 35.71, 1)\n",
      "(21.58, 37.38, 1)\n",
      "(25.67, 41.69, 1)\n",
      "(25.31, 37.14, 1)\n",
      "(19.83, 36.32, 1)\n",
      "(27.15, 44.36, 1)\n",
      "(24.47, 40.71, 1)\n",
      "(27.34, 39.73, 1)\n",
      "(24.36, 42.85, 1)\n",
      "(18.01, 43.07, 1)\n",
      "(21.89, 36.9, 1)\n",
      "(18.23, 35.97, 1)\n",
      "(29.15, 39.31, 1)\n",
      "(28.54, 39.24, 1)\n",
      "(27.98, 39.67, 1)\n",
      "(21.69, 42.29, 1)\n",
      "(18.7, 41.73, 1)\n",
      "(28.54, 44.84, 1)\n",
      "(29.36, 35.98, 1)\n",
      "(19.03, 39.03, 1)\n",
      "(23.83, 38.39, 1)\n",
      "(18.83, 43.62, 1)\n",
      "(27.13, 37.49, 1)\n",
      "(27.19, 36.9, 1)\n",
      "(19.54, 39.49, 1)\n",
      "(23.7, 39.22, 1)\n",
      "(24.6, 37.79, 1)\n",
      "(21.18, 37.5, 1)\n",
      "(28.47, 44.23, 1)\n",
      "(23.08, 39.43, 1)\n",
      "(20.54, 43.61, 1)\n",
      "(24.47, 40.5, 1)\n",
      "(26.76, 35.51, 1)\n",
      "(20.41, 44.99, 1)\n",
      "(21.74, 43.36, 1)\n"
     ]
    }
   ],
   "source": [
    "pikachu_label_file = [(width , height , 1) for width , height in pikachu_rounded_data]\n",
    "\n",
    "for pikachu_points in pikachu_label_file:\n",
    "    print(pikachu_points)"
   ]
  },
  {
   "cell_type": "code",
   "execution_count": 137,
   "metadata": {},
   "outputs": [
    {
     "name": "stdout",
     "output_type": "stream",
     "text": [
      "[(18.14, 44.95, 1), (26.65, 41.5, 1), (26.18, 39.38, 1), (24.44, 40.18, 1), (21.2, 36.21, 1), (25.69, 37.25, 1), (19.34, 38.38, 1), (23.22, 40.88, 1), (23.44, 37.3, 1), (29.45, 37.2, 1), (28.51, 35.71, 1), (21.16, 41.31, 1), (24.01, 37.29, 1), (20.14, 44.05, 1), (28.95, 43.6, 1), (28.45, 35.71, 1), (21.58, 37.38, 1), (25.67, 41.69, 1), (25.31, 37.14, 1), (19.83, 36.32, 1), (27.15, 44.36, 1), (24.47, 40.71, 1), (27.34, 39.73, 1), (24.36, 42.85, 1), (18.01, 43.07, 1), (21.89, 36.9, 1), (18.23, 35.97, 1), (29.15, 39.31, 1), (28.54, 39.24, 1), (27.98, 39.67, 1), (21.69, 42.29, 1), (18.7, 41.73, 1), (28.54, 44.84, 1), (29.36, 35.98, 1), (19.03, 39.03, 1), (23.83, 38.39, 1), (18.83, 43.62, 1), (27.13, 37.49, 1), (27.19, 36.9, 1), (19.54, 39.49, 1), (23.7, 39.22, 1), (24.6, 37.79, 1), (21.18, 37.5, 1), (28.47, 44.23, 1), (23.08, 39.43, 1), (20.54, 43.61, 1), (24.47, 40.5, 1), (26.76, 35.51, 1), (20.41, 44.99, 1), (21.74, 43.36, 1), (20.12, 28.7, 0), (15.2, 27.1, 0), (17.2, 27.67, 0), (16.79, 34.37, 0), (20.89, 31.48, 0), (20.41, 31.09, 0), (22.14, 26.71, 0), (15.7, 32.29, 0), (18.38, 26.63, 0), (15.24, 28.79, 0), (16.75, 34.9, 0), (19.04, 31.4, 0), (15.21, 30.57, 0), (16.59, 31.85, 0), (20.2, 33.43, 0), (19.36, 32.76, 0), (16.76, 27.29, 0), (19.71, 25.32, 0), (21.48, 28.15, 0), (15.05, 27.68, 0), (21.45, 27.11, 0), (20.59, 34.43, 0), (17.72, 33.76, 0), (16.24, 28.15, 0), (22.66, 31.55, 0), (17.69, 28.96, 0), (15.74, 34.15, 0), (15.77, 29.59, 0), (21.78, 27.65, 0), (19.83, 27.47, 0), (21.46, 30.61, 0), (20.84, 27.63, 0), (19.29, 30.85, 0), (22.78, 33.98, 0), (18.03, 28.99, 0), (19.42, 27.19, 0), (21.64, 34.98, 0), (19.95, 30.1, 0), (21.89, 25.91, 0), (19.62, 25.47, 0), (20.64, 26.1, 0), (15.37, 31.27, 0), (16.82, 32.92, 0), (17.32, 29.22, 0), (15.64, 25.64, 0), (16.86, 28.82, 0), (15.81, 34.96, 0), (17.22, 30.29, 0), (20.09, 34.71, 0), (17.92, 33.61, 0)]\n"
     ]
    }
   ],
   "source": [
    "pikachu_pichu_merge_data = pikachu_label_file + pichu_label_file\n",
    "\n",
    "print(pikachu_pichu_merge_data)"
   ]
  },
  {
   "cell_type": "code",
   "execution_count": 139,
   "metadata": {},
   "outputs": [
    {
     "name": "stdout",
     "output_type": "stream",
     "text": [
      "Test point (25.0,35.0)  is classified as : Pikachu\n",
      "Test point (15.0,14.0)  is classified as : Pichu\n",
      "Test point (26.0,30.0)  is classified as : Pichu\n",
      "Test point (22.0,45.0)  is classified as : Pikachu\n"
     ]
    }
   ],
   "source": [
    "import math \n",
    "\n",
    "def euclidean_distance (Point1 , Point2):\n",
    "    x1, y1 = Point1\n",
    "    x2, y2 = Point2\n",
    "\n",
    "    return math.sqrt((x2-x1)**2 + (y2-y1)**2)\n",
    "\n",
    "\n",
    "def classify_test_points(test_points, pikachu_pichu_merge_data):\n",
    "    classifications = []\n",
    "\n",
    "    for test_point in test_points:\n",
    "        distance = [euclidean_distance(test_point, (x,y)) for x, y, _ in pikachu_pichu_merge_data ]\n",
    "\n",
    "        min_distance = min(distance)\n",
    "        min_distance_index = distance.index(min_distance)\n",
    "        label = pikachu_pichu_merge_data[min_distance_index][2]\n",
    "        classifications.append(\"Pichu\" if label == 0 else \"Pikachu\")\n",
    "\n",
    "    return classifications\n",
    "\n",
    "classifications = classify_test_points(test_point , pikachu_pichu_merge_data)\n",
    "\n",
    "\n",
    "for i , test_point_realated in enumerate(test_point):\n",
    "    x, y = test_point_realated\n",
    "    print(f\"Test point ({x},{y})  is classified as : {classifications[i]}\")\n"
   ]
  },
  {
   "cell_type": "code",
   "execution_count": 141,
   "metadata": {},
   "outputs": [
    {
     "name": "stdout",
     "output_type": "stream",
     "text": [
      " Test point (24, 45) is classify as : Pikachu\n"
     ]
    }
   ],
   "source": [
    "import math \n",
    "\n",
    "def euclidean_distance (Point1 , Point2):\n",
    "    x1, y1 = Point1\n",
    "    x2, y2 = Point2\n",
    "\n",
    "    return math.sqrt((x2-x1)**2 + (y2-y1)**2)\n",
    "\n",
    "\n",
    "def classify_test_points(test_points, pikachu_pichu_merge_data):\n",
    "    classifications = []\n",
    "\n",
    "    for test_point in test_points:\n",
    "        distance = [euclidean_distance(test_point, (x,y)) for x, y, _ in pikachu_pichu_merge_data ]\n",
    "\n",
    "        min_distance = min(distance)\n",
    "        min_distance_index = distance.index(min_distance)\n",
    "        label = pikachu_pichu_merge_data[min_distance_index][2]\n",
    "        classifications.append(\"Pichu\" if label == 0 else \"Pikachu\")\n",
    "\n",
    "    return classifications\n",
    "\n",
    "classifications = classify_test_points(test_point , pikachu_pichu_merge_data)\n",
    "\n",
    "def get_user_intput():\n",
    "    while True:\n",
    "        try:\n",
    "            user_input_x = int(input(\"Enter the x_coord of the test point:\"))\n",
    "            user_input_y = int(input(\"Enter the y_coord of the test point:\"))\n",
    "\n",
    "            if user_input_x < 0 or user_input_y < 0:\n",
    "                raise ValueError(\"Coordinates cannt be negative. \")\n",
    "            return(user_input_x,user_input_y)\n",
    "        except ValueError as e:\n",
    "            print(f\"Invalid input. Please enter valid number coordinates. {e}\")\n",
    "\n",
    "user_test_points = get_user_intput()\n",
    "\n",
    "\n",
    "classifications = classify_test_points([user_test_points], pikachu_pichu_merge_data)[0]\n",
    "\n",
    "print(f\" Test point {user_test_points} is classify as : {classifications}\")\n"
   ]
  },
  {
   "cell_type": "code",
   "execution_count": 144,
   "metadata": {},
   "outputs": [
    {
     "name": "stdout",
     "output_type": "stream",
     "text": [
      " Test point (35, 15) is classify as : Pichu\n"
     ]
    }
   ],
   "source": [
    "import math \n",
    "\n",
    "from collections import Counter\n",
    "\n",
    "def euclidean_distance (Point1 , Point2):\n",
    "    x1, y1 = Point1\n",
    "    x2, y2 = Point2\n",
    "\n",
    "    return math.sqrt((x2-x1)**2 + (y2-y1)**2)\n",
    "\n",
    "\n",
    "def classify_test_points(test_points, pikachu_pichu_merge_data):\n",
    "    classifications = []\n",
    "\n",
    "    for test_point in test_points:\n",
    "        distance = [euclidean_distance(test_point, (x,y)) for x, y, _ in pikachu_pichu_merge_data ]\n",
    "\n",
    "        min_distance = min(distance)\n",
    "        min_distance_index = distance.index(min_distance)\n",
    "        label = pikachu_pichu_merge_data[min_distance_index][2]\n",
    "        classifications.append(\"Pichu\" if label == 0 else \"Pikachu\")\n",
    "\n",
    "    return classifications\n",
    "\n",
    "classifications = classify_test_points(test_point , pikachu_pichu_merge_data)\n",
    "\n",
    "\n",
    "def calculate_test_point(test_point, pichu_label_file, pikachu_label_file, k=5):\n",
    "    pichu_distance = [euclidean_distance(test_point, pichu_point) for pichu_point in pichu_label_file ]\n",
    "    pikachu_distance = [euclidean_distance(test_point, pikachu_point) for pikachu_point in pikachu_label_file]\n",
    "\n",
    "    pichu_indices = sorted(range(len(pichu_distance)), key=lambda i: pichu_distance[i])[:k]\n",
    "    pikachu_indices = sorted(range(len(pikachu_distance)), key=lambda i: pikachu_distance[i])[:k]\n",
    "\n",
    "\n",
    "    pichu_label = [0 for _ in pichu_indices]\n",
    "    pikachu_label = [1 for _ in pikachu_indices]\n",
    "\n",
    "    all_labels = pichu_label + pikachu_label\n",
    "\n",
    "    majority_class = Counter(all_labels).most_common(1)[0][0]\n",
    "\n",
    "    return \"Pichu\" if majority_class == 0 else \"Pikachu\"\n",
    "\n",
    "def get_user_intput():\n",
    "    while True:\n",
    "        try:\n",
    "            user_input_x = int(input(\"Enter the x_coord of the test point:\"))\n",
    "            user_input_y = int(input(\"Enter the y_coord of the test point:\"))\n",
    "\n",
    "            if user_input_x < 0 or user_input_y < 0:\n",
    "                raise ValueError(\"Coordinates cannt be negative. \")\n",
    "            return(user_input_x,user_input_y)\n",
    "        except ValueError as e:\n",
    "            print(f\"Invalid input. Please enter valid number coordinates. {e}\")\n",
    "\n",
    "user_test_points = get_user_intput()\n",
    "\n",
    "\n",
    "classifications = classify_test_points([user_test_points], pikachu_pichu_merge_data)[0]\n",
    "\n",
    "print(f\" Test point {user_test_points} is classify as : {classifications}\")\n"
   ]
  },
  {
   "cell_type": "code",
   "execution_count": 142,
   "metadata": {},
   "outputs": [
    {
     "data": {
      "image/png": "[encoded data removed]",
      "text/plain": [
       "<Figure size 640x480 with 1 Axes>"
      ]
     },
     "metadata": {},
     "output_type": "display_data"
    }
   ],
   "source": [
    "import matplotlib.pyplot as plt\n",
    "\n",
    "x_pichu, y_pichu = zip(*pichu_rounded_data)\n",
    "\n",
    "x_pikachu, y_pikachu = zip(*pikachu_rounded_data)\n",
    "\n",
    "x_test_points, y_test_points = zip(*test_point)\n",
    "\n",
    "\n",
    "plt.scatter(x_pichu , y_pichu , color = \"Blue\", label = \"Pichu\" )\n",
    "\n",
    "plt.scatter(x_pikachu , y_pikachu , color = \"Red\" , label = \"Pikachu\" )\n",
    "\n",
    "plt.scatter(x_test_points , y_test_points , color = \"green\" , label = \"test_points\" )\n",
    "\n",
    "plt.xlabel(\"width (cm)\")\n",
    "plt.ylabel(\"Height (cm)\")\n",
    "plt.title(\"Picha and Pikachu dimensions\")\n",
    "\n",
    "\n",
    "plt.legend()\n",
    "plt.show()"
   ]
  },
  {
   "cell_type": "code",
   "execution_count": null,
   "metadata": {},
   "outputs": [],
   "source": []
  }
 ],
 "metadata": {
  "kernelspec": {
   "display_name": "venv",
   "language": "python",
   "name": "python3"
  },
  "language_info": {
   "codemirror_mode": {
    "name": "ipython",
    "version": 3
   },
   "file_extension": ".py",
   "mimetype": "text/x-python",
   "name": "python",
   "nbconvert_exporter": "python",
   "pygments_lexer": "ipython3",
   "version": "3.9.6"
  }
 },
 "nbformat": 4,
 "nbformat_minor": 2
}
